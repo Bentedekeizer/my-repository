{
 "cells": [
  {
   "cell_type": "markdown",
   "id": "3d1f01af-0585-4e1a-b119-a70fcf27a02d",
   "metadata": {},
   "source": [
    "# Regressions"
   ]
  },
  {
   "cell_type": "code",
   "execution_count": 1,
   "id": "8dc55f6c-14b5-4d21-b569-ec2147ee49c3",
   "metadata": {
    "tags": []
   },
   "outputs": [],
   "source": [
    "import pandas as pd\n",
    "import numpy as np\n",
    "import math\n",
    "import matplotlib.pyplot as plt\n",
    "from sklearn.model_selection import train_test_split\n",
    "import statsmodels.api as sm\n",
    "from sklearn.linear_model import LinearRegression\n",
    "from sklearn.model_selection import cross_val_score\n",
    "from sklearn.metrics import make_scorer, mean_squared_error"
   ]
  },
  {
   "cell_type": "markdown",
   "id": "540171cd-ad8e-48fb-8dad-213143046138",
   "metadata": {},
   "source": [
    "## Making the dataframe"
   ]
  },
  {
   "cell_type": "markdown",
   "id": "ce2dd6fb-a74c-4806-b410-a5cb13dd2f33",
   "metadata": {
    "tags": []
   },
   "source": [
    "### Data gender inequality"
   ]
  },
  {
   "cell_type": "code",
   "execution_count": 2,
   "id": "c31bb572-3625-4c76-a68b-9b924ac7a516",
   "metadata": {},
   "outputs": [],
   "source": [
    "df = pd.read_excel('./data/Gender_StatsEXCEL.xlsx',sheet_name='Data')"
   ]
  },
  {
   "cell_type": "code",
   "execution_count": 3,
   "id": "0f702663-8650-4bb1-8f8c-6ddb84e4851a",
   "metadata": {},
   "outputs": [],
   "source": [
    "df = df.iloc[54000:,]\n",
    "df.drop(columns=df.iloc[:,3:54].columns.tolist(), inplace=True)\n",
    "df.rename({'Indicator Name':'Indicator'},inplace=True,axis=1)\n",
    "df.rename({'Country Name':'Country'},inplace=True,axis=1)\n",
    "df = df.loc[df.Indicator.str.contains('1=yes; 0=no')]\n",
    "df = df.drop(columns='Country Code')"
   ]
  },
  {
   "cell_type": "code",
   "execution_count": 4,
   "id": "67d759ac-5ef1-48ae-9b1e-e07665ffa27e",
   "metadata": {},
   "outputs": [],
   "source": [
    "df = (df.melt(['Country', 'Indicator'], var_name='Year')\n",
    "   .pivot_table(index=['Country', 'Year'],\n",
    "                columns='Indicator', values='value')\n",
    ")"
   ]
  },
  {
   "cell_type": "code",
   "execution_count": 5,
   "id": "8d48ee06-1373-48ed-8b5e-e0441b36b9fe",
   "metadata": {},
   "outputs": [],
   "source": [
    "importances = np.array([0.01831044, 0.03237455, 0.0031967 , 0.012108  , 0.01552896,\n",
    "       0.00758614, 0.00181886, 0.0546642 , 0.01587967, 0.01247531,\n",
    "       0.02007783, 0.0364012 , 0.03424009, 0.03465867, 0.02593966,\n",
    "       0.01570586, 0.05781482, 0.01149065, 0.00752398, 0.05290953,\n",
    "       0.07132007, 0.01305223, 0.03959353, 0.04099451, 0.02862905,\n",
    "       0.00649011, 0.00942123, 0.00436768, 0.03333931, 0.02942839,\n",
    "       0.02490152, 0.02989014, 0.0245622 , 0.05561928, 0.11768564])"
   ]
  },
  {
   "cell_type": "code",
   "execution_count": 6,
   "id": "f36b4705-b2f8-4d50-ad70-ba71755cc6c9",
   "metadata": {},
   "outputs": [],
   "source": [
    "df.iloc[:,] *= importances\n",
    "df = df.assign(Gender_Var=df.sum(axis=1, numeric_only=True))"
   ]
  },
  {
   "cell_type": "code",
   "execution_count": 7,
   "id": "3656ec05-a2b6-4a99-843b-a397931f6831",
   "metadata": {},
   "outputs": [],
   "source": [
    "df.drop(columns=df.iloc[:,0:35].columns.tolist(), inplace=True)"
   ]
  },
  {
   "cell_type": "code",
   "execution_count": 8,
   "id": "a4c2bd38-6457-464e-b54d-0a218e044eaa",
   "metadata": {},
   "outputs": [],
   "source": [
    "df.reset_index(inplace=True)"
   ]
  },
  {
   "cell_type": "markdown",
   "id": "28c89ad2-38be-40b6-9dff-03b459202ba5",
   "metadata": {
    "tags": []
   },
   "source": [
    "### Data subregions"
   ]
  },
  {
   "cell_type": "code",
   "execution_count": 9,
   "id": "cd542f93-a221-4874-8462-e91c7009120d",
   "metadata": {},
   "outputs": [],
   "source": [
    "df_Continent = pd.read_excel('./data/Gender_StatsEXCEL.xlsx',sheet_name='Country')"
   ]
  },
  {
   "cell_type": "code",
   "execution_count": 10,
   "id": "5fd1c11a-9523-4581-8268-9553a1dc6dee",
   "metadata": {},
   "outputs": [],
   "source": [
    "df_Continent = df_Continent[['Table Name', 'Region']]\n",
    "df_Continent.rename({'Table Name':'Country'},inplace=True,axis=1)\n",
    "df_Continent.dropna(axis=0, inplace = True)"
   ]
  },
  {
   "cell_type": "code",
   "execution_count": 11,
   "id": "6f0e9af8-72c3-4ffb-90f0-121370228660",
   "metadata": {},
   "outputs": [],
   "source": [
    "df = df.merge(df_Continent,how='left',left_on='Country', right_on='Country')"
   ]
  },
  {
   "cell_type": "markdown",
   "id": "f04b8bce-9694-4147-8ae5-ea910dadba49",
   "metadata": {
    "tags": []
   },
   "source": [
    "### Data further loading from the dataset"
   ]
  },
  {
   "cell_type": "code",
   "execution_count": 12,
   "id": "70947a31-e5bc-40a6-8b7c-382113ba80a0",
   "metadata": {},
   "outputs": [],
   "source": [
    "df1 = pd.read_excel('./data/Gender_StatsEXCEL.xlsx',sheet_name='Data')"
   ]
  },
  {
   "cell_type": "code",
   "execution_count": 13,
   "id": "1f0bd601-b295-4b14-9d2a-16d81948201d",
   "metadata": {},
   "outputs": [],
   "source": [
    "df1 = df1.iloc[54000:,]\n",
    "df1.drop(columns=df1.iloc[:,3:54].columns.tolist(), inplace=True)\n",
    "df1.rename({'Indicator Name':'Indicator'},inplace=True,axis=1)\n",
    "df1.rename({'Country Name':'Country'},inplace=True,axis=1)\n",
    "df1 = df1.drop(columns='Country Code')\n",
    "df1 = df1[df1['Indicator'].isin(['Gini index', 'GDP growth (annual %)', 'Government expenditure on education, total (% of GDP)', 'Employment in agriculture (% of total employment) (modeled ILO estimate)', \n",
    "                                        'Employment in industry (% of total employment) (modeled ILO estimate)', 'Employment in services (% of total employment) (modeled ILO estimate)', 'Human Capital Index (HCI) (scale 0-1)',\n",
    "                                        'School enrollment, secondary (% net)', 'Lower secondary completion rate, male (% of relevant age group)' , 'Lower secondary completion rate, female (% of relevant age group)', \n",
    "                                        'GDP per capita (constant 2010 US$)', 'Expected years of schooling', 'Lower secondary completion rate, total (% of relevant age group)', \n",
    "                                 'School enrollment, primary and secondary (gross), gender parity index (GPI)', 'Expected years of schooling, male'])]"
   ]
  },
  {
   "cell_type": "code",
   "execution_count": 14,
   "id": "2e531760-aee9-4f52-8db6-a87a83df1fa9",
   "metadata": {},
   "outputs": [],
   "source": [
    "df1 = (df1.melt(['Country', 'Indicator'], var_name='Year')\n",
    "   .pivot_table(index=['Country', 'Year'],\n",
    "                columns='Indicator', values='value'))"
   ]
  },
  {
   "cell_type": "code",
   "execution_count": 15,
   "id": "35a80370-3443-4b0b-8de2-3692bd457b50",
   "metadata": {},
   "outputs": [],
   "source": [
    "df1.reset_index(inplace=True)"
   ]
  },
  {
   "cell_type": "code",
   "execution_count": 16,
   "id": "3bb39485-32fa-4797-aacc-0c3d3cd339c2",
   "metadata": {},
   "outputs": [],
   "source": [
    "df = df.merge(df1,how='left',left_on=['Country', 'Year'], right_on=['Country', 'Year'])"
   ]
  },
  {
   "cell_type": "markdown",
   "id": "4242ead7-e766-437e-8d39-af6e6f0c9b53",
   "metadata": {
    "tags": []
   },
   "source": [
    "### Data Trade"
   ]
  },
  {
   "cell_type": "code",
   "execution_count": 17,
   "id": "f16c70a5-3577-47a7-aed3-2dd59e50f1cb",
   "metadata": {},
   "outputs": [],
   "source": [
    "df1 = pd.read_excel('./data/Trade.xlsx',sheet_name='Data')"
   ]
  },
  {
   "cell_type": "code",
   "execution_count": 18,
   "id": "c53c0b26-be58-4261-b9ed-7d1e6d3effc3",
   "metadata": {},
   "outputs": [],
   "source": [
    "df1 = df1.drop(columns = ['Country Code', 'Indicator Code'])\n",
    "df1.drop(columns=df1.iloc[:,2:52].columns.tolist(), inplace=True)\n",
    "df1.rename({'Indicator Name':'Indicator'},inplace=True,axis=1)\n",
    "df1.rename({'Country Name':'Country'},inplace=True,axis=1)"
   ]
  },
  {
   "cell_type": "code",
   "execution_count": 19,
   "id": "d304a907-2675-4abf-b626-8e2c05557bb3",
   "metadata": {},
   "outputs": [],
   "source": [
    "df1 = (df1.melt(['Country', 'Indicator'], var_name='Year')\n",
    "   .pivot_table(index=['Country', 'Year'],\n",
    "                columns='Indicator', values='value'))"
   ]
  },
  {
   "cell_type": "code",
   "execution_count": 20,
   "id": "6b50255c-ef99-4500-83bd-003c6c138f6d",
   "metadata": {},
   "outputs": [],
   "source": [
    "df1.reset_index(inplace=True)"
   ]
  },
  {
   "cell_type": "code",
   "execution_count": 21,
   "id": "55dba206-ca86-412c-add9-88832940b8a2",
   "metadata": {},
   "outputs": [],
   "source": [
    "df = df.merge(df1,how='left',left_on=['Country', 'Year'], right_on=['Country', 'Year'])"
   ]
  },
  {
   "cell_type": "markdown",
   "id": "8d6f9a81-197a-4973-a70e-3af0a6d1176e",
   "metadata": {
    "tags": []
   },
   "source": [
    "### Data Investments"
   ]
  },
  {
   "cell_type": "code",
   "execution_count": 22,
   "id": "bc25824e-a89d-44af-a39c-201962fb9598",
   "metadata": {},
   "outputs": [],
   "source": [
    "df1 = pd.read_excel('./data/Investment.xlsx',sheet_name='Data')"
   ]
  },
  {
   "cell_type": "code",
   "execution_count": 23,
   "id": "e719174e-22aa-46b5-bdf6-e07359826f6e",
   "metadata": {},
   "outputs": [],
   "source": [
    "df1 = df1.drop(columns = ['Country Code', 'Indicator Code'])\n",
    "df1.drop(columns=df1.iloc[:,2:52].columns.tolist(), inplace=True)\n",
    "df1.rename({'Indicator Name':'Indicator'},inplace=True,axis=1)\n",
    "df1.rename({'Country Name':'Country'},inplace=True,axis=1)"
   ]
  },
  {
   "cell_type": "code",
   "execution_count": 24,
   "id": "dceb9d26-ab9b-4619-9877-d7dfd9acd7d7",
   "metadata": {},
   "outputs": [],
   "source": [
    "df1 = (df1.melt(['Country', 'Indicator'], var_name='Year')\n",
    "   .pivot_table(index=['Country', 'Year'],\n",
    "                columns='Indicator', values='value'))"
   ]
  },
  {
   "cell_type": "code",
   "execution_count": 25,
   "id": "c9939967-0d55-4e95-b0f2-0d2ace52f2d2",
   "metadata": {},
   "outputs": [],
   "source": [
    "df1.reset_index(inplace=True)"
   ]
  },
  {
   "cell_type": "code",
   "execution_count": 26,
   "id": "fa9b47db-4038-42d6-8449-e599b2e07da8",
   "metadata": {},
   "outputs": [],
   "source": [
    "df = df.merge(df1,how='left',left_on=['Country', 'Year'], right_on=['Country', 'Year'])"
   ]
  },
  {
   "cell_type": "markdown",
   "id": "4993a0ba-98b9-4d13-9296-c8e30943e6c4",
   "metadata": {
    "tags": []
   },
   "source": [
    "### Data population growth"
   ]
  },
  {
   "cell_type": "code",
   "execution_count": 27,
   "id": "2ea521fe-aaa4-4794-996f-1a9dd48ff970",
   "metadata": {},
   "outputs": [],
   "source": [
    "df1 = pd.read_excel('./data/Pop_growth.xlsx',sheet_name='Data')"
   ]
  },
  {
   "cell_type": "code",
   "execution_count": 28,
   "id": "51d192a8-22e6-4147-aae0-d2e7c2fd208a",
   "metadata": {},
   "outputs": [],
   "source": [
    "df1 = df1.drop(columns = ['Country Code', 'Indicator Code'])\n",
    "df1.drop(columns=df1.iloc[:,2:52].columns.tolist(), inplace=True)\n",
    "df1.rename({'Indicator Name':'Indicator'},inplace=True,axis=1)\n",
    "df1.rename({'Country Name':'Country'},inplace=True,axis=1)"
   ]
  },
  {
   "cell_type": "code",
   "execution_count": 29,
   "id": "a80f8ba3-cb09-4a3d-9ceb-5186cf25c5fb",
   "metadata": {},
   "outputs": [],
   "source": [
    "df1 = (df1.melt(['Country', 'Indicator'], var_name='Year')\n",
    "   .pivot_table(index=['Country', 'Year'],\n",
    "                columns='Indicator', values='value'))"
   ]
  },
  {
   "cell_type": "code",
   "execution_count": 30,
   "id": "bac55f7e-3b22-469e-ba49-bcfc5059f618",
   "metadata": {},
   "outputs": [],
   "source": [
    "df1.reset_index(inplace=True)"
   ]
  },
  {
   "cell_type": "code",
   "execution_count": 31,
   "id": "4c997729-2a51-4e61-bc20-3b76abb1355f",
   "metadata": {},
   "outputs": [],
   "source": [
    "df = df.merge(df1,how='left',left_on=['Country', 'Year'], right_on=['Country', 'Year'])"
   ]
  },
  {
   "cell_type": "markdown",
   "id": "b4fa2c86-76af-4987-975e-8b03786368a6",
   "metadata": {
    "tags": []
   },
   "source": [
    "### Data Working population growth"
   ]
  },
  {
   "cell_type": "code",
   "execution_count": 32,
   "id": "f7c06e70-1ef8-4920-83d0-bbde057bdfe1",
   "metadata": {},
   "outputs": [],
   "source": [
    "df1 = pd.read_excel('./data/WorkingPop.xlsx',sheet_name='Data')"
   ]
  },
  {
   "cell_type": "code",
   "execution_count": 33,
   "id": "a9de070a-00d5-46ca-9feb-46c315dd43e0",
   "metadata": {},
   "outputs": [],
   "source": [
    "df1 = df1.drop(columns = ['Country Code', 'Indicator Code'])\n",
    "df1.drop(columns=df1.iloc[:,2:52].columns.tolist(), inplace=True)\n",
    "df1.rename({'Indicator Name':'Indicator'},inplace=True,axis=1)\n",
    "df1.rename({'Country Name':'Country'},inplace=True,axis=1)"
   ]
  },
  {
   "cell_type": "code",
   "execution_count": 34,
   "id": "55c54a01-823f-4431-ace0-197d07be5692",
   "metadata": {},
   "outputs": [],
   "source": [
    "df1 = (df1.melt(['Country', 'Indicator'], var_name='Year')\n",
    "   .pivot_table(index=['Country', 'Year'],\n",
    "                columns='Indicator', values='value'))"
   ]
  },
  {
   "cell_type": "code",
   "execution_count": 35,
   "id": "585d17f0-8f58-4ed5-b7f7-9e71718f0545",
   "metadata": {},
   "outputs": [],
   "source": [
    "df1.reset_index(inplace=True)"
   ]
  },
  {
   "cell_type": "code",
   "execution_count": 36,
   "id": "b3cd7d6c-9d7f-4c3c-9cae-49e7dc5dee66",
   "metadata": {},
   "outputs": [],
   "source": [
    "df = df.merge(df1,how='left',left_on=['Country', 'Year'], right_on=['Country', 'Year'])"
   ]
  },
  {
   "cell_type": "code",
   "execution_count": 37,
   "id": "f7043c87-c21a-44e9-8079-102b08dcbbf7",
   "metadata": {},
   "outputs": [],
   "source": [
    "df['%Gender'] = df['Gender_Var']*100"
   ]
  },
  {
   "cell_type": "code",
   "execution_count": 38,
   "id": "55ee278c-44f9-43b4-9256-e13a291a5da6",
   "metadata": {},
   "outputs": [],
   "source": [
    "df.rename({'Employment in agriculture (% of total employment) (modeled ILO estimate)':'%Agriculture'},inplace=True,axis=1)\n",
    "df.rename({'Employment in industry (% of total employment) (modeled ILO estimate)':'%Industry'},inplace=True,axis=1)\n",
    "df.rename({'Employment in services (% of total employment) (modeled ILO estimate)':'%Service'},inplace=True,axis=1)\n",
    "df.rename({'GDP growth (annual %)':'%Growth'},inplace=True,axis=1)\n",
    "df.rename({'GDP per capita (constant 2010 US$)':'GDP_C'},inplace=True,axis=1)\n",
    "df.rename({'Government expenditure on education, total (% of GDP)':'%Expenditures'},inplace=True,axis=1)\n",
    "df.rename({'Human Capital Index (HCI) (scale 0-1)':'HCI'},inplace=True,axis=1)\n",
    "df.rename({'Lower secondary completion rate, female (% of relevant age group)':'%Completion_F'},inplace=True,axis=1)\n",
    "df.rename({'Lower secondary completion rate, male (% of relevant age group)':'%Completion_M'},inplace=True,axis=1)\n",
    "df.rename({'Lower secondary completion rate, total (% of relevant age group)':'%Completion_T'},inplace=True,axis=1)\n",
    "df.rename({'School enrollment, secondary (% net)':'%Enrollment'},inplace=True,axis=1)\n",
    "df.rename({'Trade (% of GDP)':'%Trade'},inplace=True,axis=1)\n",
    "df.rename({'Foreign direct investment, net inflows (% of GDP)':'%Investments'},inplace=True,axis=1)\n",
    "df.rename({'Population growth (annual %)':'%Pop_Growth'},inplace=True,axis=1)\n",
    "df.rename({'Population ages 15-64 (% of total population)':'%WorkingPop'},inplace=True,axis=1)\n",
    "df.rename({'Trade_2':'%Trade_2'},inplace=True,axis=1)\n",
    "df.rename({'School enrollment, primary and secondary (gross), gender parity index (GPI)':'GPI'},inplace=True,axis=1)\n",
    "df = df.drop(columns='Gender_Var')"
   ]
  },
  {
   "cell_type": "code",
   "execution_count": 39,
   "id": "d0c1c944-e6ac-4e6c-acf7-a25cd064824a",
   "metadata": {},
   "outputs": [],
   "source": [
    "df['%Trade_2'] = df['%Trade']**2"
   ]
  },
  {
   "cell_type": "code",
   "execution_count": 40,
   "id": "f2f48117-0997-4e2d-89df-25418f44a584",
   "metadata": {},
   "outputs": [],
   "source": [
    "df = df[df.Year != '2022']"
   ]
  },
  {
   "cell_type": "markdown",
   "id": "bbbeb503-4ffa-457e-9ba8-b0ad89129817",
   "metadata": {
    "tags": []
   },
   "source": [
    "## Europe and Central Asia"
   ]
  },
  {
   "cell_type": "code",
   "execution_count": 41,
   "id": "ddd46fd3-d054-4d6b-9563-e1a67f542585",
   "metadata": {},
   "outputs": [],
   "source": [
    "df_EU_CA = df.loc[df['Region'] == 'Europe & Central Asia']"
   ]
  },
  {
   "cell_type": "markdown",
   "id": "f1bc8436-4246-4767-9420-383dab81e773",
   "metadata": {
    "tags": []
   },
   "source": [
    "### Regression 1 Klasen and Lamanna(2009)"
   ]
  },
  {
   "cell_type": "code",
   "execution_count": 42,
   "id": "60ab7905-3938-49b3-a0f4-1d9629135dae",
   "metadata": {},
   "outputs": [],
   "source": [
    "X = df_EU_CA.drop('%Growth',axis=1)\n",
    "y = df_EU_CA['%Growth']\n",
    "X = X.fillna(method = 'ffill', axis = 'rows')\n",
    "y = y.fillna(method = 'ffill', axis = 'rows')\n",
    "X = X.fillna(X.mean(numeric_only=True), axis = 'rows')\n",
    "y = y.fillna(y.mean(), axis = 'rows')\n",
    "X = sm.add_constant(X)"
   ]
  },
  {
   "cell_type": "code",
   "execution_count": 43,
   "id": "beb714ec-ef52-432b-8d84-e0f044967d03",
   "metadata": {},
   "outputs": [],
   "source": [
    "X = X.loc[:,['const','%Gender', '%Pop_Growth', '%WorkingPop', '%Investments', '%Trade', 'GPI', 'Expected years of schooling, male']]"
   ]
  },
  {
   "cell_type": "code",
   "execution_count": 44,
   "id": "58e0ce94-b9fd-488d-a01c-f1dc3910b1ed",
   "metadata": {},
   "outputs": [],
   "source": [
    "X_train, X_test, y_train, y_test = train_test_split(X, y, train_size=0.7, random_state=42)"
   ]
  },
  {
   "cell_type": "code",
   "execution_count": 45,
   "id": "44d35134-e865-45cf-9f03-a9e2d221a12e",
   "metadata": {},
   "outputs": [
    {
     "data": {
      "text/plain": [
       "15.432424264161728"
      ]
     },
     "execution_count": 45,
     "metadata": {},
     "output_type": "execute_result"
    }
   ],
   "source": [
    "regression_model = LinearRegression()\n",
    "mse_scorer = make_scorer(mean_squared_error)\n",
    "mse_scores = cross_val_score(regression_model, X_train, y_train, scoring=mse_scorer, cv=5)\n",
    "mean_mse = np.mean(mse_scores)\n",
    "mean_mse"
   ]
  },
  {
   "cell_type": "markdown",
   "id": "23b9ef19-7bd3-45bb-a945-9f4fa4788795",
   "metadata": {
    "tags": []
   },
   "source": [
    "### Regression 2 Klasen and Lamanna(2009) reduced form"
   ]
  },
  {
   "cell_type": "code",
   "execution_count": 46,
   "id": "fd8e12f7-f726-4f95-b7d6-9ebb9c1b683d",
   "metadata": {},
   "outputs": [],
   "source": [
    "X = df_EU_CA .drop('%Growth',axis=1)\n",
    "y = df_EU_CA ['%Growth']\n",
    "X = X.fillna(method = 'ffill', axis = 'rows')\n",
    "y = y.fillna(method = 'ffill', axis = 'rows')\n",
    "X = X.fillna(X.mean(numeric_only=True), axis = 'rows')\n",
    "y = y.fillna(y.mean(), axis = 'rows')\n",
    "X = sm.add_constant(X)"
   ]
  },
  {
   "cell_type": "code",
   "execution_count": 47,
   "id": "5f76217c-7f86-4e0e-94fd-5ebdbd341d5a",
   "metadata": {},
   "outputs": [],
   "source": [
    "X = X.loc[:,['const','%Gender', '%Trade', 'GPI', 'Expected years of schooling, male']]"
   ]
  },
  {
   "cell_type": "code",
   "execution_count": 48,
   "id": "7abf08d7-ec3b-45e9-862f-175c5ec049c8",
   "metadata": {},
   "outputs": [],
   "source": [
    "X_train, X_test, y_train, y_test = train_test_split(X, y, train_size=0.7, random_state=42)"
   ]
  },
  {
   "cell_type": "code",
   "execution_count": 49,
   "id": "be4ad339-e1d5-402e-afe2-89a4517bdaa2",
   "metadata": {},
   "outputs": [
    {
     "data": {
      "text/plain": [
       "14.78732112467587"
      ]
     },
     "execution_count": 49,
     "metadata": {},
     "output_type": "execute_result"
    }
   ],
   "source": [
    "regression_model = LinearRegression()\n",
    "mse_scorer = make_scorer(mean_squared_error)\n",
    "mse_scores = cross_val_score(regression_model, X_train, y_train, scoring=mse_scorer, cv=5)\n",
    "mean_mse = np.mean(mse_scores)\n",
    "mean_mse"
   ]
  },
  {
   "cell_type": "markdown",
   "id": "9bbe6c93-48ab-44e4-8bf1-e86769877237",
   "metadata": {
    "tags": []
   },
   "source": [
    "### Regression 3 Senguino (2000)"
   ]
  },
  {
   "cell_type": "code",
   "execution_count": 50,
   "id": "9aadd21a-b0cb-4618-acd0-7165b0b5f723",
   "metadata": {},
   "outputs": [],
   "source": [
    "X = df_EU_CA .drop('%Growth',axis=1)\n",
    "y = df_EU_CA ['%Growth']\n",
    "X = X.fillna(method = 'ffill', axis = 'rows')\n",
    "y = y.fillna(method = 'ffill', axis = 'rows')\n",
    "X = X.fillna(X.mean(numeric_only=True), axis = 'rows')\n",
    "y = y.fillna(y.mean(), axis = 'rows')\n",
    "X = sm.add_constant(X)"
   ]
  },
  {
   "cell_type": "code",
   "execution_count": 51,
   "id": "2754affa-b356-41fc-9e72-1bab1e53486e",
   "metadata": {},
   "outputs": [],
   "source": [
    "X = X.loc[:,['const','%Gender', '%Completion_F', '%Completion_M', 'GDP_C']]"
   ]
  },
  {
   "cell_type": "code",
   "execution_count": 52,
   "id": "10ec4311-8078-40e2-a2ab-eb40f9eacdad",
   "metadata": {},
   "outputs": [],
   "source": [
    "X_train, X_test, y_train, y_test = train_test_split(X, y, train_size=0.7, random_state=42)"
   ]
  },
  {
   "cell_type": "code",
   "execution_count": 53,
   "id": "ede594a9-ae67-4e76-a96c-8cf237296310",
   "metadata": {},
   "outputs": [
    {
     "data": {
      "text/plain": [
       "14.845484670257184"
      ]
     },
     "execution_count": 53,
     "metadata": {},
     "output_type": "execute_result"
    }
   ],
   "source": [
    "regression_model = LinearRegression()\n",
    "mse_scorer = make_scorer(mean_squared_error)\n",
    "mse_scores = cross_val_score(regression_model, X_train, y_train, scoring=mse_scorer, cv=5)\n",
    "mean_mse = np.mean(mse_scores)\n",
    "mean_mse"
   ]
  },
  {
   "cell_type": "markdown",
   "id": "51299007-9fa7-4744-b348-6a2b0a1dd9d6",
   "metadata": {
    "tags": []
   },
   "source": [
    "### Regression 4 Ghosh(2021)"
   ]
  },
  {
   "cell_type": "code",
   "execution_count": 54,
   "id": "2f28afc2-f7dd-4b2f-b76e-afb8f135616e",
   "metadata": {},
   "outputs": [],
   "source": [
    "X = df_EU_CA .drop('%Growth',axis=1)\n",
    "y = df_EU_CA ['%Growth']\n",
    "X = X.fillna(method = 'ffill', axis = 'rows')\n",
    "y = y.fillna(method = 'ffill', axis = 'rows')\n",
    "X = X.fillna(X.mean(numeric_only=True), axis = 'rows')\n",
    "y = y.fillna(y.mean(), axis = 'rows')\n",
    "X = sm.add_constant(X)"
   ]
  },
  {
   "cell_type": "code",
   "execution_count": 55,
   "id": "d081d073-bf31-489c-b7ab-24d694149eda",
   "metadata": {},
   "outputs": [],
   "source": [
    "X = X.loc[:,['const','%Gender', '%Trade', '%Trade_2']]"
   ]
  },
  {
   "cell_type": "code",
   "execution_count": 56,
   "id": "087c7443-6471-4fba-99a1-f20cdc0f45ea",
   "metadata": {},
   "outputs": [],
   "source": [
    "X_train, X_test, y_train, y_test = train_test_split(X, y, train_size=0.7, random_state=42)"
   ]
  },
  {
   "cell_type": "code",
   "execution_count": 57,
   "id": "6c945f67-b112-4606-80da-55d3188f5799",
   "metadata": {},
   "outputs": [
    {
     "data": {
      "text/plain": [
       "14.701355285122137"
      ]
     },
     "execution_count": 57,
     "metadata": {},
     "output_type": "execute_result"
    }
   ],
   "source": [
    "regression_model = LinearRegression()\n",
    "mse_scorer = make_scorer(mean_squared_error)\n",
    "mse_scores = cross_val_score(regression_model, X_train, y_train, scoring=mse_scorer, cv=5)\n",
    "mean_mse = np.mean(mse_scores)\n",
    "mean_mse"
   ]
  },
  {
   "cell_type": "code",
   "execution_count": 58,
   "id": "9c622a34-161d-43d8-af9c-c1936f1d6390",
   "metadata": {},
   "outputs": [
    {
     "data": {
      "text/html": [
       "<table class=\"simpletable\">\n",
       "<caption>OLS Regression Results</caption>\n",
       "<tr>\n",
       "  <th>Dep. Variable:</th>         <td>%Growth</td>     <th>  R-squared:         </th> <td>   0.015</td>\n",
       "</tr>\n",
       "<tr>\n",
       "  <th>Model:</th>                   <td>OLS</td>       <th>  Adj. R-squared:    </th> <td>   0.008</td>\n",
       "</tr>\n",
       "<tr>\n",
       "  <th>Method:</th>             <td>Least Squares</td>  <th>  F-statistic:       </th> <td>   2.051</td>\n",
       "</tr>\n",
       "<tr>\n",
       "  <th>Date:</th>             <td>Fri, 23 Jun 2023</td> <th>  Prob (F-statistic):</th>  <td> 0.106</td> \n",
       "</tr>\n",
       "<tr>\n",
       "  <th>Time:</th>                 <td>09:06:22</td>     <th>  Log-Likelihood:    </th> <td> -1109.1</td>\n",
       "</tr>\n",
       "<tr>\n",
       "  <th>No. Observations:</th>      <td>   403</td>      <th>  AIC:               </th> <td>   2226.</td>\n",
       "</tr>\n",
       "<tr>\n",
       "  <th>Df Residuals:</th>          <td>   399</td>      <th>  BIC:               </th> <td>   2242.</td>\n",
       "</tr>\n",
       "<tr>\n",
       "  <th>Df Model:</th>              <td>     3</td>      <th>                     </th>     <td> </td>   \n",
       "</tr>\n",
       "<tr>\n",
       "  <th>Covariance Type:</th>      <td>nonrobust</td>    <th>                     </th>     <td> </td>   \n",
       "</tr>\n",
       "</table>\n",
       "<table class=\"simpletable\">\n",
       "<tr>\n",
       "      <td></td>        <th>coef</th>     <th>std err</th>      <th>t</th>      <th>P>|t|</th>  <th>[0.025</th>    <th>0.975]</th>  \n",
       "</tr>\n",
       "<tr>\n",
       "  <th>const</th>    <td>    1.9212</td> <td>    1.435</td> <td>    1.339</td> <td> 0.181</td> <td>   -0.900</td> <td>    4.742</td>\n",
       "</tr>\n",
       "<tr>\n",
       "  <th>%Gender</th>  <td>   -0.0194</td> <td>    0.015</td> <td>   -1.316</td> <td> 0.189</td> <td>   -0.048</td> <td>    0.010</td>\n",
       "</tr>\n",
       "<tr>\n",
       "  <th>%Trade</th>   <td>    0.0243</td> <td>    0.011</td> <td>    2.115</td> <td> 0.035</td> <td>    0.002</td> <td>    0.047</td>\n",
       "</tr>\n",
       "<tr>\n",
       "  <th>%Trade_2</th> <td>-5.662e-05</td> <td> 3.09e-05</td> <td>   -1.830</td> <td> 0.068</td> <td>   -0.000</td> <td> 4.22e-06</td>\n",
       "</tr>\n",
       "</table>\n",
       "<table class=\"simpletable\">\n",
       "<tr>\n",
       "  <th>Omnibus:</th>       <td>57.621</td> <th>  Durbin-Watson:     </th> <td>   2.052</td>\n",
       "</tr>\n",
       "<tr>\n",
       "  <th>Prob(Omnibus):</th> <td> 0.000</td> <th>  Jarque-Bera (JB):  </th> <td> 367.778</td>\n",
       "</tr>\n",
       "<tr>\n",
       "  <th>Skew:</th>          <td>-0.363</td> <th>  Prob(JB):          </th> <td>1.37e-80</td>\n",
       "</tr>\n",
       "<tr>\n",
       "  <th>Kurtosis:</th>      <td> 7.623</td> <th>  Cond. No.          </th> <td>2.05e+05</td>\n",
       "</tr>\n",
       "</table><br/><br/>Notes:<br/>[1] Standard Errors assume that the covariance matrix of the errors is correctly specified.<br/>[2] The condition number is large, 2.05e+05. This might indicate that there are<br/>strong multicollinearity or other numerical problems."
      ],
      "text/plain": [
       "<class 'statsmodels.iolib.summary.Summary'>\n",
       "\"\"\"\n",
       "                            OLS Regression Results                            \n",
       "==============================================================================\n",
       "Dep. Variable:                %Growth   R-squared:                       0.015\n",
       "Model:                            OLS   Adj. R-squared:                  0.008\n",
       "Method:                 Least Squares   F-statistic:                     2.051\n",
       "Date:                Fri, 23 Jun 2023   Prob (F-statistic):              0.106\n",
       "Time:                        09:06:22   Log-Likelihood:                -1109.1\n",
       "No. Observations:                 403   AIC:                             2226.\n",
       "Df Residuals:                     399   BIC:                             2242.\n",
       "Df Model:                           3                                         \n",
       "Covariance Type:            nonrobust                                         \n",
       "==============================================================================\n",
       "                 coef    std err          t      P>|t|      [0.025      0.975]\n",
       "------------------------------------------------------------------------------\n",
       "const          1.9212      1.435      1.339      0.181      -0.900       4.742\n",
       "%Gender       -0.0194      0.015     -1.316      0.189      -0.048       0.010\n",
       "%Trade         0.0243      0.011      2.115      0.035       0.002       0.047\n",
       "%Trade_2   -5.662e-05   3.09e-05     -1.830      0.068      -0.000    4.22e-06\n",
       "==============================================================================\n",
       "Omnibus:                       57.621   Durbin-Watson:                   2.052\n",
       "Prob(Omnibus):                  0.000   Jarque-Bera (JB):              367.778\n",
       "Skew:                          -0.363   Prob(JB):                     1.37e-80\n",
       "Kurtosis:                       7.623   Cond. No.                     2.05e+05\n",
       "==============================================================================\n",
       "\n",
       "Notes:\n",
       "[1] Standard Errors assume that the covariance matrix of the errors is correctly specified.\n",
       "[2] The condition number is large, 2.05e+05. This might indicate that there are\n",
       "strong multicollinearity or other numerical problems.\n",
       "\"\"\""
      ]
     },
     "execution_count": 58,
     "metadata": {},
     "output_type": "execute_result"
    }
   ],
   "source": [
    "model4 = sm.OLS(y_train,X_train)\n",
    "results4 = model4.fit()\n",
    "results4.summary()"
   ]
  },
  {
   "cell_type": "code",
   "execution_count": 59,
   "id": "74195487-9cb0-4c13-9a4e-d1be0a83ac70",
   "metadata": {},
   "outputs": [],
   "source": [
    "y_train_pred = results4.predict(X_train)\n",
    "y_test_pred = results4.predict(X_test)"
   ]
  },
  {
   "cell_type": "code",
   "execution_count": 60,
   "id": "9bb37efb-5faf-4f78-8045-2e57cf1188cf",
   "metadata": {},
   "outputs": [
    {
     "name": "stdout",
     "output_type": "stream",
     "text": [
      "MSE on train data: 14.385741352708965\n"
     ]
    }
   ],
   "source": [
    "print('MSE on train data:',mean_squared_error(y_train, y_train_pred))"
   ]
  },
  {
   "cell_type": "code",
   "execution_count": 61,
   "id": "dc84f439-5b41-4593-8ad1-e3425032ca16",
   "metadata": {},
   "outputs": [
    {
     "name": "stdout",
     "output_type": "stream",
     "text": [
      "MSE on test data: 12.781924350259656\n"
     ]
    }
   ],
   "source": [
    "print('MSE on test data:',mean_squared_error(y_test, y_test_pred))"
   ]
  },
  {
   "cell_type": "markdown",
   "id": "52aeece5-51d6-4519-92b5-3b34ed4f34dc",
   "metadata": {
    "tags": []
   },
   "source": [
    "### Regression 5 Abida and Sghaier(2012)"
   ]
  },
  {
   "cell_type": "code",
   "execution_count": 62,
   "id": "b1430aba-6d0d-4875-a18c-73083609f1cb",
   "metadata": {},
   "outputs": [],
   "source": [
    "X = df_EU_CA .drop('%Growth',axis=1)\n",
    "y = df_EU_CA ['%Growth']\n",
    "X = X.fillna(method = 'ffill', axis = 'rows')\n",
    "y = y.fillna(method = 'ffill', axis = 'rows')\n",
    "X = X.fillna(X.mean(numeric_only=True), axis = 'rows')\n",
    "y = y.fillna(y.mean(), axis = 'rows')\n",
    "X = sm.add_constant(X)"
   ]
  },
  {
   "cell_type": "code",
   "execution_count": 63,
   "id": "6f4a67eb-ef4f-4ebc-bb88-dce1fc60e56b",
   "metadata": {},
   "outputs": [],
   "source": [
    "X = X.loc[:,['const', 'Gini index', '%Investments', '%Enrollment', '%Trade', 'GDP_C']]"
   ]
  },
  {
   "cell_type": "code",
   "execution_count": 64,
   "id": "82d2a8a7-e954-4a94-83cf-2f13eac46ec2",
   "metadata": {},
   "outputs": [],
   "source": [
    "X_train, X_test, y_train, y_test = train_test_split(X, y, train_size=0.7, random_state=42)"
   ]
  },
  {
   "cell_type": "code",
   "execution_count": 65,
   "id": "7ad6b9b7-90be-448f-999d-7b8855c94aba",
   "metadata": {},
   "outputs": [
    {
     "data": {
      "text/plain": [
       "14.958747026987599"
      ]
     },
     "execution_count": 65,
     "metadata": {},
     "output_type": "execute_result"
    }
   ],
   "source": [
    "regression_model = LinearRegression()\n",
    "mse_scorer = make_scorer(mean_squared_error)\n",
    "mse_scores = cross_val_score(regression_model, X_train, y_train, scoring=mse_scorer, cv=5)\n",
    "mean_mse = np.mean(mse_scores)\n",
    "mean_mse"
   ]
  },
  {
   "cell_type": "markdown",
   "id": "9e0d2f24-abb4-4ee9-91dc-b7732880387b",
   "metadata": {},
   "source": [
    "### Regression 6 Vo et al (2019)"
   ]
  },
  {
   "cell_type": "code",
   "execution_count": 66,
   "id": "d9cf95e1-24cb-4c19-b5a4-a25db579c3c4",
   "metadata": {},
   "outputs": [],
   "source": [
    "X = df_EU_CA .drop('%Growth',axis=1)\n",
    "y = df_EU_CA ['%Growth']\n",
    "X = X.fillna(method = 'ffill', axis = 'rows')\n",
    "y = y.fillna(method = 'ffill', axis = 'rows')\n",
    "X = X.fillna(X.mean(numeric_only=True), axis = 'rows')\n",
    "y = y.fillna(y.mean(), axis = 'rows')\n",
    "X = sm.add_constant(X)"
   ]
  },
  {
   "cell_type": "code",
   "execution_count": 67,
   "id": "1c19e027-5219-4d74-a544-1a964ff7390f",
   "metadata": {},
   "outputs": [],
   "source": [
    "X = X.loc[:,['const', 'Gini index', '%Agriculture', '%Industry', '%Service', '%Investments']]"
   ]
  },
  {
   "cell_type": "code",
   "execution_count": 68,
   "id": "6992b2ec-78cb-4ece-9e2e-884a99594c3b",
   "metadata": {},
   "outputs": [],
   "source": [
    "X_train, X_test, y_train, y_test = train_test_split(X, y, train_size=0.7, random_state=42)"
   ]
  },
  {
   "cell_type": "code",
   "execution_count": 69,
   "id": "06acd6b5-98a0-44e9-957f-fc114f718374",
   "metadata": {},
   "outputs": [
    {
     "data": {
      "text/plain": [
       "14.383858816921693"
      ]
     },
     "execution_count": 69,
     "metadata": {},
     "output_type": "execute_result"
    }
   ],
   "source": [
    "regression_model = LinearRegression()\n",
    "mse_scorer = make_scorer(mean_squared_error)\n",
    "mse_scores = cross_val_score(regression_model, X_train, y_train, scoring=mse_scorer, cv=5)\n",
    "mean_mse = np.mean(mse_scores)\n",
    "mean_mse"
   ]
  },
  {
   "cell_type": "code",
   "execution_count": 70,
   "id": "aabe0bbd-1cfd-4c9c-a7a2-9f1f076ed5ac",
   "metadata": {},
   "outputs": [
    {
     "data": {
      "text/html": [
       "<table class=\"simpletable\">\n",
       "<caption>OLS Regression Results</caption>\n",
       "<tr>\n",
       "  <th>Dep. Variable:</th>         <td>%Growth</td>     <th>  R-squared:         </th> <td>   0.060</td>\n",
       "</tr>\n",
       "<tr>\n",
       "  <th>Model:</th>                   <td>OLS</td>       <th>  Adj. R-squared:    </th> <td>   0.048</td>\n",
       "</tr>\n",
       "<tr>\n",
       "  <th>Method:</th>             <td>Least Squares</td>  <th>  F-statistic:       </th> <td>   5.077</td>\n",
       "</tr>\n",
       "<tr>\n",
       "  <th>Date:</th>             <td>Fri, 23 Jun 2023</td> <th>  Prob (F-statistic):</th> <td>0.000159</td>\n",
       "</tr>\n",
       "<tr>\n",
       "  <th>Time:</th>                 <td>09:06:23</td>     <th>  Log-Likelihood:    </th> <td> -1099.7</td>\n",
       "</tr>\n",
       "<tr>\n",
       "  <th>No. Observations:</th>      <td>   403</td>      <th>  AIC:               </th> <td>   2211.</td>\n",
       "</tr>\n",
       "<tr>\n",
       "  <th>Df Residuals:</th>          <td>   397</td>      <th>  BIC:               </th> <td>   2235.</td>\n",
       "</tr>\n",
       "<tr>\n",
       "  <th>Df Model:</th>              <td>     5</td>      <th>                     </th>     <td> </td>   \n",
       "</tr>\n",
       "<tr>\n",
       "  <th>Covariance Type:</th>      <td>nonrobust</td>    <th>                     </th>     <td> </td>   \n",
       "</tr>\n",
       "</table>\n",
       "<table class=\"simpletable\">\n",
       "<tr>\n",
       "        <td></td>          <th>coef</th>     <th>std err</th>      <th>t</th>      <th>P>|t|</th>  <th>[0.025</th>    <th>0.975]</th>  \n",
       "</tr>\n",
       "<tr>\n",
       "  <th>const</th>        <td>-5063.8597</td> <td> 4257.021</td> <td>   -1.190</td> <td> 0.235</td> <td>-1.34e+04</td> <td> 3305.262</td>\n",
       "</tr>\n",
       "<tr>\n",
       "  <th>Gini index</th>   <td>   -0.0912</td> <td>    0.047</td> <td>   -1.944</td> <td> 0.053</td> <td>   -0.183</td> <td>    0.001</td>\n",
       "</tr>\n",
       "<tr>\n",
       "  <th>%Agriculture</th> <td>   50.7544</td> <td>   42.568</td> <td>    1.192</td> <td> 0.234</td> <td>  -32.932</td> <td>  134.440</td>\n",
       "</tr>\n",
       "<tr>\n",
       "  <th>%Industry</th>    <td>   50.6631</td> <td>   42.571</td> <td>    1.190</td> <td> 0.235</td> <td>  -33.030</td> <td>  134.356</td>\n",
       "</tr>\n",
       "<tr>\n",
       "  <th>%Service</th>     <td>   50.6853</td> <td>   42.568</td> <td>    1.191</td> <td> 0.234</td> <td>  -33.002</td> <td>  134.372</td>\n",
       "</tr>\n",
       "<tr>\n",
       "  <th>%Investments</th> <td>    0.0010</td> <td>    0.009</td> <td>    0.106</td> <td> 0.916</td> <td>   -0.017</td> <td>    0.019</td>\n",
       "</tr>\n",
       "</table>\n",
       "<table class=\"simpletable\">\n",
       "<tr>\n",
       "  <th>Omnibus:</th>       <td>63.567</td> <th>  Durbin-Watson:     </th> <td>   2.003</td> \n",
       "</tr>\n",
       "<tr>\n",
       "  <th>Prob(Omnibus):</th> <td> 0.000</td> <th>  Jarque-Bera (JB):  </th> <td> 547.009</td> \n",
       "</tr>\n",
       "<tr>\n",
       "  <th>Skew:</th>          <td>-0.307</td> <th>  Prob(JB):          </th> <td>1.65e-119</td>\n",
       "</tr>\n",
       "<tr>\n",
       "  <th>Kurtosis:</th>      <td> 8.674</td> <th>  Cond. No.          </th> <td>1.78e+06</td> \n",
       "</tr>\n",
       "</table><br/><br/>Notes:<br/>[1] Standard Errors assume that the covariance matrix of the errors is correctly specified.<br/>[2] The condition number is large, 1.78e+06. This might indicate that there are<br/>strong multicollinearity or other numerical problems."
      ],
      "text/plain": [
       "<class 'statsmodels.iolib.summary.Summary'>\n",
       "\"\"\"\n",
       "                            OLS Regression Results                            \n",
       "==============================================================================\n",
       "Dep. Variable:                %Growth   R-squared:                       0.060\n",
       "Model:                            OLS   Adj. R-squared:                  0.048\n",
       "Method:                 Least Squares   F-statistic:                     5.077\n",
       "Date:                Fri, 23 Jun 2023   Prob (F-statistic):           0.000159\n",
       "Time:                        09:06:23   Log-Likelihood:                -1099.7\n",
       "No. Observations:                 403   AIC:                             2211.\n",
       "Df Residuals:                     397   BIC:                             2235.\n",
       "Df Model:                           5                                         \n",
       "Covariance Type:            nonrobust                                         \n",
       "================================================================================\n",
       "                   coef    std err          t      P>|t|      [0.025      0.975]\n",
       "--------------------------------------------------------------------------------\n",
       "const        -5063.8597   4257.021     -1.190      0.235   -1.34e+04    3305.262\n",
       "Gini index      -0.0912      0.047     -1.944      0.053      -0.183       0.001\n",
       "%Agriculture    50.7544     42.568      1.192      0.234     -32.932     134.440\n",
       "%Industry       50.6631     42.571      1.190      0.235     -33.030     134.356\n",
       "%Service        50.6853     42.568      1.191      0.234     -33.002     134.372\n",
       "%Investments     0.0010      0.009      0.106      0.916      -0.017       0.019\n",
       "==============================================================================\n",
       "Omnibus:                       63.567   Durbin-Watson:                   2.003\n",
       "Prob(Omnibus):                  0.000   Jarque-Bera (JB):              547.009\n",
       "Skew:                          -0.307   Prob(JB):                    1.65e-119\n",
       "Kurtosis:                       8.674   Cond. No.                     1.78e+06\n",
       "==============================================================================\n",
       "\n",
       "Notes:\n",
       "[1] Standard Errors assume that the covariance matrix of the errors is correctly specified.\n",
       "[2] The condition number is large, 1.78e+06. This might indicate that there are\n",
       "strong multicollinearity or other numerical problems.\n",
       "\"\"\""
      ]
     },
     "execution_count": 70,
     "metadata": {},
     "output_type": "execute_result"
    }
   ],
   "source": [
    "model6 = sm.OLS(y_train,X_train)\n",
    "results6 = model6.fit()\n",
    "results6.summary()"
   ]
  },
  {
   "cell_type": "code",
   "execution_count": 71,
   "id": "69138c00-d968-4e09-90d0-10460915351e",
   "metadata": {},
   "outputs": [],
   "source": [
    "y_train_pred = results6.predict(X_train.loc[:,['const', 'Gini index', '%Agriculture', '%Industry', '%Service', '%Investments']])\n",
    "y_test_pred = results6.predict(X_test.loc[:,['const', 'Gini index', '%Agriculture', '%Industry', '%Service', '%Investments']])"
   ]
  },
  {
   "cell_type": "code",
   "execution_count": 72,
   "id": "e362c043-e316-46d7-9bc0-a8069e4acd94",
   "metadata": {},
   "outputs": [
    {
     "name": "stdout",
     "output_type": "stream",
     "text": [
      "MSE on train data: 13.729773360777045\n"
     ]
    }
   ],
   "source": [
    "print('MSE on train data:',mean_squared_error(y_train, y_train_pred))"
   ]
  },
  {
   "cell_type": "code",
   "execution_count": 73,
   "id": "891f906c-b11f-4a3d-a9ef-df553a5913b0",
   "metadata": {},
   "outputs": [
    {
     "name": "stdout",
     "output_type": "stream",
     "text": [
      "MSE on test data: 13.351039662962458\n"
     ]
    }
   ],
   "source": [
    "print('MSE on test data:',mean_squared_error(y_test, y_test_pred))"
   ]
  },
  {
   "cell_type": "markdown",
   "id": "2ba646c3-c0f2-4eea-a9e7-434901054c6c",
   "metadata": {},
   "source": [
    "### Regression 7 Knowles(2001)"
   ]
  },
  {
   "cell_type": "code",
   "execution_count": 74,
   "id": "c96f12c0-522b-4516-8e54-480f12a578d2",
   "metadata": {},
   "outputs": [],
   "source": [
    "X = df_EU_CA .drop('%Growth',axis=1)\n",
    "y = df_EU_CA ['%Growth']\n",
    "X = X.fillna(method = 'ffill', axis = 'rows')\n",
    "y = y.fillna(method = 'ffill', axis = 'rows')\n",
    "X = X.fillna(X.mean(numeric_only=True), axis = 'rows')\n",
    "y = y.fillna(y.mean(), axis = 'rows')\n",
    "X = sm.add_constant(X)"
   ]
  },
  {
   "cell_type": "code",
   "execution_count": 75,
   "id": "56f91976-fdb2-46c3-9c98-0ecbb8f215f3",
   "metadata": {},
   "outputs": [],
   "source": [
    "X = X.loc[:,['const', 'Gini index', 'GDP_C', '%Completion_F', '%Completion_M', '%Investments']]"
   ]
  },
  {
   "cell_type": "code",
   "execution_count": 76,
   "id": "5458f850-b3fe-441e-81ce-13e1bc3964f6",
   "metadata": {},
   "outputs": [],
   "source": [
    "X_train, X_test, y_train, y_test = train_test_split(X, y, train_size=0.7, random_state=42)"
   ]
  },
  {
   "cell_type": "code",
   "execution_count": 77,
   "id": "f4df0ea4-c90c-48a0-acff-3f3bfaa94735",
   "metadata": {},
   "outputs": [
    {
     "data": {
      "text/plain": [
       "14.899345239997729"
      ]
     },
     "execution_count": 77,
     "metadata": {},
     "output_type": "execute_result"
    }
   ],
   "source": [
    "regression_model = LinearRegression()\n",
    "mse_scorer = make_scorer(mean_squared_error)\n",
    "mse_scores = cross_val_score(regression_model, X_train, y_train, scoring=mse_scorer, cv=5)\n",
    "mean_mse = np.mean(mse_scores)\n",
    "mean_mse"
   ]
  },
  {
   "cell_type": "markdown",
   "id": "0946506e-dd99-4107-8ab1-2f25e4eff24c",
   "metadata": {},
   "source": [
    "### Regression 8 Lee and Son(2016)"
   ]
  },
  {
   "cell_type": "code",
   "execution_count": 78,
   "id": "6f0c8d88-081c-4ba9-a87d-c22eab4b709f",
   "metadata": {},
   "outputs": [],
   "source": [
    "X = df_EU_CA .drop('%Growth',axis=1)\n",
    "y = df_EU_CA ['%Growth']\n",
    "X = X.fillna(method = 'ffill', axis = 'rows')\n",
    "y = y.fillna(method = 'ffill', axis = 'rows')\n",
    "X = X.fillna(X.mean(numeric_only=True), axis = 'rows')\n",
    "y = y.fillna(y.mean(), axis = 'rows')\n",
    "X = sm.add_constant(X)"
   ]
  },
  {
   "cell_type": "code",
   "execution_count": 79,
   "id": "c6294b01-a515-42f2-a67b-a4746ccd2f31",
   "metadata": {},
   "outputs": [],
   "source": [
    "X = X.loc[:,['const', 'Gini index', 'Expected years of schooling', '%Investments', '%Trade', '%Expenditures', 'GDP_C']]"
   ]
  },
  {
   "cell_type": "code",
   "execution_count": 80,
   "id": "7aef9413-ea2f-481e-8e3e-fee892d2c535",
   "metadata": {},
   "outputs": [],
   "source": [
    "X_train, X_test, y_train, y_test = train_test_split(X, y, train_size=0.7, random_state=42)"
   ]
  },
  {
   "cell_type": "code",
   "execution_count": 81,
   "id": "ccf24f90-6822-4388-b79a-025c76bf561c",
   "metadata": {},
   "outputs": [
    {
     "data": {
      "text/plain": [
       "14.840276747332377"
      ]
     },
     "execution_count": 81,
     "metadata": {},
     "output_type": "execute_result"
    }
   ],
   "source": [
    "regression_model = LinearRegression()\n",
    "mse_scorer = make_scorer(mean_squared_error)\n",
    "mse_scores = cross_val_score(regression_model, X_train, y_train, scoring=mse_scorer, cv=5)\n",
    "mean_mse = np.mean(mse_scores)\n",
    "mean_mse"
   ]
  },
  {
   "cell_type": "markdown",
   "id": "976eb260-8104-47d4-82a7-f89630f30312",
   "metadata": {
    "jp-MarkdownHeadingCollapsed": true,
    "tags": []
   },
   "source": [
    "## North America, Latin America and the Caribbean"
   ]
  },
  {
   "cell_type": "code",
   "execution_count": 82,
   "id": "65c6662a-c663-4e9f-b75c-c0e64d8158cd",
   "metadata": {},
   "outputs": [],
   "source": [
    "df_NA_LA = df.loc[df['Region'].isin(['North America','Latin America & Caribbean'])]"
   ]
  },
  {
   "cell_type": "markdown",
   "id": "f32c8942-f3a5-46b9-8f37-2688d9c92e89",
   "metadata": {
    "jp-MarkdownHeadingCollapsed": true,
    "tags": []
   },
   "source": [
    "### Regression 1 Klasen and Lamanna(2009)"
   ]
  },
  {
   "cell_type": "code",
   "execution_count": 83,
   "id": "d2256d04-a8c4-4013-939a-efbf4dcc1f78",
   "metadata": {},
   "outputs": [],
   "source": [
    "X = df_NA_LA .drop('%Growth',axis=1)\n",
    "y = df_NA_LA ['%Growth']\n",
    "X = X.fillna(method = 'ffill', axis = 'rows')\n",
    "y = y.fillna(method = 'ffill', axis = 'rows')\n",
    "X = X.fillna(X.mean(numeric_only=True), axis = 'rows')\n",
    "y = y.fillna(y.mean(), axis = 'rows')\n",
    "X = sm.add_constant(X)"
   ]
  },
  {
   "cell_type": "code",
   "execution_count": 84,
   "id": "a4ee05c0-c4ea-4122-8e15-3fb5447bbffa",
   "metadata": {},
   "outputs": [],
   "source": [
    "X = X.loc[:,['const','%Gender', '%Pop_Growth', '%WorkingPop', '%Investments', '%Trade', 'GPI', 'Expected years of schooling, male']]"
   ]
  },
  {
   "cell_type": "code",
   "execution_count": 85,
   "id": "fce5cedf-8064-472d-9495-39561df31166",
   "metadata": {},
   "outputs": [],
   "source": [
    "X_train, X_test, y_train, y_test = train_test_split(X, y, train_size=0.7, random_state=42)"
   ]
  },
  {
   "cell_type": "code",
   "execution_count": 86,
   "id": "3e1176a4-9135-48cf-828c-b65ef26151eb",
   "metadata": {},
   "outputs": [
    {
     "data": {
      "text/plain": [
       "27.59964843682597"
      ]
     },
     "execution_count": 86,
     "metadata": {},
     "output_type": "execute_result"
    }
   ],
   "source": [
    "regression_model = LinearRegression()\n",
    "mse_scorer = make_scorer(mean_squared_error)\n",
    "mse_scores = cross_val_score(regression_model, X_train, y_train, scoring=mse_scorer, cv=5)\n",
    "mean_mse = np.mean(mse_scores)\n",
    "mean_mse"
   ]
  },
  {
   "cell_type": "code",
   "execution_count": 87,
   "id": "97d9220d-3db2-4812-8212-3f22ceaf514b",
   "metadata": {},
   "outputs": [
    {
     "data": {
      "text/html": [
       "<table class=\"simpletable\">\n",
       "<caption>OLS Regression Results</caption>\n",
       "<tr>\n",
       "  <th>Dep. Variable:</th>         <td>%Growth</td>     <th>  R-squared:         </th> <td>   0.155</td>\n",
       "</tr>\n",
       "<tr>\n",
       "  <th>Model:</th>                   <td>OLS</td>       <th>  Adj. R-squared:    </th> <td>   0.134</td>\n",
       "</tr>\n",
       "<tr>\n",
       "  <th>Method:</th>             <td>Least Squares</td>  <th>  F-statistic:       </th> <td>   7.488</td>\n",
       "</tr>\n",
       "<tr>\n",
       "  <th>Date:</th>             <td>Fri, 23 Jun 2023</td> <th>  Prob (F-statistic):</th> <td>2.79e-08</td>\n",
       "</tr>\n",
       "<tr>\n",
       "  <th>Time:</th>                 <td>09:06:23</td>     <th>  Log-Likelihood:    </th> <td> -889.18</td>\n",
       "</tr>\n",
       "<tr>\n",
       "  <th>No. Observations:</th>      <td>   294</td>      <th>  AIC:               </th> <td>   1794.</td>\n",
       "</tr>\n",
       "<tr>\n",
       "  <th>Df Residuals:</th>          <td>   286</td>      <th>  BIC:               </th> <td>   1824.</td>\n",
       "</tr>\n",
       "<tr>\n",
       "  <th>Df Model:</th>              <td>     7</td>      <th>                     </th>     <td> </td>   \n",
       "</tr>\n",
       "<tr>\n",
       "  <th>Covariance Type:</th>      <td>nonrobust</td>    <th>                     </th>     <td> </td>   \n",
       "</tr>\n",
       "</table>\n",
       "<table class=\"simpletable\">\n",
       "<tr>\n",
       "                  <td></td>                     <th>coef</th>     <th>std err</th>      <th>t</th>      <th>P>|t|</th>  <th>[0.025</th>    <th>0.975]</th>  \n",
       "</tr>\n",
       "<tr>\n",
       "  <th>const</th>                             <td>    4.4820</td> <td>   11.378</td> <td>    0.394</td> <td> 0.694</td> <td>  -17.913</td> <td>   26.877</td>\n",
       "</tr>\n",
       "<tr>\n",
       "  <th>%Gender</th>                           <td>    0.0857</td> <td>    0.028</td> <td>    3.066</td> <td> 0.002</td> <td>    0.031</td> <td>    0.141</td>\n",
       "</tr>\n",
       "<tr>\n",
       "  <th>%Pop_Growth</th>                       <td>    0.5778</td> <td>    0.385</td> <td>    1.503</td> <td> 0.134</td> <td>   -0.179</td> <td>    1.335</td>\n",
       "</tr>\n",
       "<tr>\n",
       "  <th>%WorkingPop</th>                       <td>   -0.2347</td> <td>    0.111</td> <td>   -2.119</td> <td> 0.035</td> <td>   -0.453</td> <td>   -0.017</td>\n",
       "</tr>\n",
       "<tr>\n",
       "  <th>%Investments</th>                      <td>    0.3861</td> <td>    0.066</td> <td>    5.871</td> <td> 0.000</td> <td>    0.257</td> <td>    0.516</td>\n",
       "</tr>\n",
       "<tr>\n",
       "  <th>%Trade</th>                            <td>   -0.0074</td> <td>    0.013</td> <td>   -0.562</td> <td> 0.574</td> <td>   -0.033</td> <td>    0.018</td>\n",
       "</tr>\n",
       "<tr>\n",
       "  <th>GPI</th>                               <td>    9.6104</td> <td>    9.103</td> <td>    1.056</td> <td> 0.292</td> <td>   -8.307</td> <td>   27.528</td>\n",
       "</tr>\n",
       "<tr>\n",
       "  <th>Expected years of schooling, male</th> <td>   -0.2685</td> <td>    0.167</td> <td>   -1.605</td> <td> 0.110</td> <td>   -0.598</td> <td>    0.061</td>\n",
       "</tr>\n",
       "</table>\n",
       "<table class=\"simpletable\">\n",
       "<tr>\n",
       "  <th>Omnibus:</th>       <td>61.386</td> <th>  Durbin-Watson:     </th> <td>   1.952</td> \n",
       "</tr>\n",
       "<tr>\n",
       "  <th>Prob(Omnibus):</th> <td> 0.000</td> <th>  Jarque-Bera (JB):  </th> <td>1068.334</td> \n",
       "</tr>\n",
       "<tr>\n",
       "  <th>Skew:</th>          <td> 0.045</td> <th>  Prob(JB):          </th> <td>1.03e-232</td>\n",
       "</tr>\n",
       "<tr>\n",
       "  <th>Kurtosis:</th>      <td>12.338</td> <th>  Cond. No.          </th> <td>5.57e+03</td> \n",
       "</tr>\n",
       "</table><br/><br/>Notes:<br/>[1] Standard Errors assume that the covariance matrix of the errors is correctly specified.<br/>[2] The condition number is large, 5.57e+03. This might indicate that there are<br/>strong multicollinearity or other numerical problems."
      ],
      "text/plain": [
       "<class 'statsmodels.iolib.summary.Summary'>\n",
       "\"\"\"\n",
       "                            OLS Regression Results                            \n",
       "==============================================================================\n",
       "Dep. Variable:                %Growth   R-squared:                       0.155\n",
       "Model:                            OLS   Adj. R-squared:                  0.134\n",
       "Method:                 Least Squares   F-statistic:                     7.488\n",
       "Date:                Fri, 23 Jun 2023   Prob (F-statistic):           2.79e-08\n",
       "Time:                        09:06:23   Log-Likelihood:                -889.18\n",
       "No. Observations:                 294   AIC:                             1794.\n",
       "Df Residuals:                     286   BIC:                             1824.\n",
       "Df Model:                           7                                         \n",
       "Covariance Type:            nonrobust                                         \n",
       "=====================================================================================================\n",
       "                                        coef    std err          t      P>|t|      [0.025      0.975]\n",
       "-----------------------------------------------------------------------------------------------------\n",
       "const                                 4.4820     11.378      0.394      0.694     -17.913      26.877\n",
       "%Gender                               0.0857      0.028      3.066      0.002       0.031       0.141\n",
       "%Pop_Growth                           0.5778      0.385      1.503      0.134      -0.179       1.335\n",
       "%WorkingPop                          -0.2347      0.111     -2.119      0.035      -0.453      -0.017\n",
       "%Investments                          0.3861      0.066      5.871      0.000       0.257       0.516\n",
       "%Trade                               -0.0074      0.013     -0.562      0.574      -0.033       0.018\n",
       "GPI                                   9.6104      9.103      1.056      0.292      -8.307      27.528\n",
       "Expected years of schooling, male    -0.2685      0.167     -1.605      0.110      -0.598       0.061\n",
       "==============================================================================\n",
       "Omnibus:                       61.386   Durbin-Watson:                   1.952\n",
       "Prob(Omnibus):                  0.000   Jarque-Bera (JB):             1068.334\n",
       "Skew:                           0.045   Prob(JB):                    1.03e-232\n",
       "Kurtosis:                      12.338   Cond. No.                     5.57e+03\n",
       "==============================================================================\n",
       "\n",
       "Notes:\n",
       "[1] Standard Errors assume that the covariance matrix of the errors is correctly specified.\n",
       "[2] The condition number is large, 5.57e+03. This might indicate that there are\n",
       "strong multicollinearity or other numerical problems.\n",
       "\"\"\""
      ]
     },
     "execution_count": 87,
     "metadata": {},
     "output_type": "execute_result"
    }
   ],
   "source": [
    "model1 = sm.OLS(y_train,X_train)\n",
    "results1 = model1.fit()\n",
    "results1.summary()"
   ]
  },
  {
   "cell_type": "code",
   "execution_count": 88,
   "id": "a6aeaaf4-e6fb-405f-be13-2a7e2e990636",
   "metadata": {},
   "outputs": [],
   "source": [
    "y_train_pred = results1.predict(X_train)\n",
    "y_test_pred = results1.predict(X_test)"
   ]
  },
  {
   "cell_type": "code",
   "execution_count": 89,
   "id": "5b9ecb3f-b45f-4906-9364-0e02be2bf556",
   "metadata": {},
   "outputs": [
    {
     "name": "stdout",
     "output_type": "stream",
     "text": [
      "MSE on train data: 24.803157057684185\n"
     ]
    }
   ],
   "source": [
    "print('MSE on train data:',mean_squared_error(y_train, y_train_pred))"
   ]
  },
  {
   "cell_type": "code",
   "execution_count": 90,
   "id": "b64bf229-00e8-408d-a01f-8da504ebe9d3",
   "metadata": {},
   "outputs": [
    {
     "name": "stdout",
     "output_type": "stream",
     "text": [
      "MSE on test data: 25.309770259440477\n"
     ]
    }
   ],
   "source": [
    "print('MSE on test data:',mean_squared_error(y_test, y_test_pred))"
   ]
  },
  {
   "cell_type": "markdown",
   "id": "d0370d26-77fb-4d63-9f0f-f86f40e6da37",
   "metadata": {
    "tags": []
   },
   "source": [
    "### Regression 2 Klasen and Lamanna(2009) reduced form"
   ]
  },
  {
   "cell_type": "code",
   "execution_count": 91,
   "id": "9c3f71f3-2525-4680-a326-02f7205aa3b9",
   "metadata": {},
   "outputs": [],
   "source": [
    "X = df_NA_LA .drop('%Growth',axis=1)\n",
    "y = df_NA_LA ['%Growth']\n",
    "X = X.fillna(method = 'ffill', axis = 'rows')\n",
    "y = y.fillna(method = 'ffill', axis = 'rows')\n",
    "X = X.fillna(X.mean(numeric_only=True), axis = 'rows')\n",
    "y = y.fillna(y.mean(), axis = 'rows')\n",
    "X = sm.add_constant(X)"
   ]
  },
  {
   "cell_type": "code",
   "execution_count": 92,
   "id": "94e4dd32-5346-4e3a-9be9-0b7a01f2cd82",
   "metadata": {},
   "outputs": [],
   "source": [
    "X = X.loc[:,['const','%Gender', '%Trade', 'GPI', 'Expected years of schooling, male']]"
   ]
  },
  {
   "cell_type": "code",
   "execution_count": 93,
   "id": "4c97f4f5-5572-4df5-8e60-af71e04bc18e",
   "metadata": {},
   "outputs": [],
   "source": [
    "X_train, X_test, y_train, y_test = train_test_split(X, y, train_size=0.7, random_state=42)"
   ]
  },
  {
   "cell_type": "code",
   "execution_count": 94,
   "id": "33259116-fb95-45c3-bc2f-a3ecf35d728c",
   "metadata": {},
   "outputs": [
    {
     "data": {
      "text/plain": [
       "29.448668963144417"
      ]
     },
     "execution_count": 94,
     "metadata": {},
     "output_type": "execute_result"
    }
   ],
   "source": [
    "regression_model = LinearRegression()\n",
    "mse_scorer = make_scorer(mean_squared_error)\n",
    "mse_scores = cross_val_score(regression_model, X_train, y_train, scoring=mse_scorer, cv=5)\n",
    "mean_mse = np.mean(mse_scores)\n",
    "mean_mse"
   ]
  },
  {
   "cell_type": "markdown",
   "id": "f589fa54-bc78-41ab-83d1-a18d18842823",
   "metadata": {},
   "source": [
    "### Regression 3 Senguino (2000)"
   ]
  },
  {
   "cell_type": "code",
   "execution_count": 95,
   "id": "53fe30d7-8dcb-4737-a2a4-a3913b847767",
   "metadata": {},
   "outputs": [],
   "source": [
    "X = df_NA_LA .drop('%Growth',axis=1)\n",
    "y = df_NA_LA ['%Growth']\n",
    "X = X.fillna(method = 'ffill', axis = 'rows')\n",
    "y = y.fillna(method = 'ffill', axis = 'rows')\n",
    "X = X.fillna(X.mean(numeric_only=True), axis = 'rows')\n",
    "y = y.fillna(y.mean(), axis = 'rows')\n",
    "X = sm.add_constant(X)"
   ]
  },
  {
   "cell_type": "code",
   "execution_count": 96,
   "id": "b51c40c6-247b-44ed-9c0c-580998065c99",
   "metadata": {},
   "outputs": [],
   "source": [
    "X = X.loc[:,['const','%Gender', '%Completion_F', '%Completion_M', 'GDP_C']]"
   ]
  },
  {
   "cell_type": "code",
   "execution_count": 97,
   "id": "944798d8-05d4-4919-9e9e-b161cfcdfe5b",
   "metadata": {},
   "outputs": [],
   "source": [
    "X_train, X_test, y_train, y_test = train_test_split(X, y, train_size=0.7, random_state=42)"
   ]
  },
  {
   "cell_type": "code",
   "execution_count": 98,
   "id": "53e585ae-a2b7-4c23-9f87-b5b8d5a90a5c",
   "metadata": {},
   "outputs": [
    {
     "data": {
      "text/plain": [
       "28.451081847333445"
      ]
     },
     "execution_count": 98,
     "metadata": {},
     "output_type": "execute_result"
    }
   ],
   "source": [
    "regression_model = LinearRegression()\n",
    "mse_scorer = make_scorer(mean_squared_error)\n",
    "mse_scores = cross_val_score(regression_model, X_train, y_train, scoring=mse_scorer, cv=5)\n",
    "mean_mse = np.mean(mse_scores)\n",
    "mean_mse"
   ]
  },
  {
   "cell_type": "markdown",
   "id": "1a832a2b-731d-4d5b-8cfc-15921d9ed881",
   "metadata": {},
   "source": [
    "### Regression 4 Ghosh(2021)"
   ]
  },
  {
   "cell_type": "code",
   "execution_count": 99,
   "id": "a181d9e5-40df-43bc-a97f-001c3432c696",
   "metadata": {},
   "outputs": [],
   "source": [
    "X = df_NA_LA .drop('%Growth',axis=1)\n",
    "y = df_NA_LA ['%Growth']\n",
    "X = X.fillna(method = 'ffill', axis = 'rows')\n",
    "y = y.fillna(method = 'ffill', axis = 'rows')\n",
    "X = X.fillna(X.mean(numeric_only=True), axis = 'rows')\n",
    "y = y.fillna(y.mean(), axis = 'rows')\n",
    "X = sm.add_constant(X)"
   ]
  },
  {
   "cell_type": "code",
   "execution_count": 100,
   "id": "a8916de2-8775-4da3-9850-9235eeadce62",
   "metadata": {},
   "outputs": [],
   "source": [
    "X = X.loc[:,['const','%Gender', '%Trade', '%Trade_2']]"
   ]
  },
  {
   "cell_type": "code",
   "execution_count": 101,
   "id": "b248e34b-65e6-4f88-b757-4dcfaf6e1591",
   "metadata": {},
   "outputs": [],
   "source": [
    "X_train, X_test, y_train, y_test = train_test_split(X, y, train_size=0.7, random_state=42)"
   ]
  },
  {
   "cell_type": "code",
   "execution_count": 102,
   "id": "b71b9b0d-3433-48be-9eef-7bc94956483d",
   "metadata": {},
   "outputs": [
    {
     "data": {
      "text/plain": [
       "28.981117289039652"
      ]
     },
     "execution_count": 102,
     "metadata": {},
     "output_type": "execute_result"
    }
   ],
   "source": [
    "regression_model = LinearRegression()\n",
    "mse_scorer = make_scorer(mean_squared_error)\n",
    "mse_scores = cross_val_score(regression_model, X_train, y_train, scoring=mse_scorer, cv=5)\n",
    "mean_mse = np.mean(mse_scores)\n",
    "mean_mse"
   ]
  },
  {
   "cell_type": "markdown",
   "id": "17c43098-44fc-43ec-8e02-5cc3fe7b5269",
   "metadata": {},
   "source": [
    "### Regression 5 Abida and Sghaier(2012)"
   ]
  },
  {
   "cell_type": "code",
   "execution_count": 103,
   "id": "eace86c7-5b70-4ba4-90c6-6601c8c214c5",
   "metadata": {},
   "outputs": [],
   "source": [
    "X = df_NA_LA .drop('%Growth',axis=1)\n",
    "y = df_NA_LA ['%Growth']\n",
    "X = X.fillna(method = 'ffill', axis = 'rows')\n",
    "y = y.fillna(method = 'ffill', axis = 'rows')\n",
    "X = X.fillna(X.mean(numeric_only=True), axis = 'rows')\n",
    "y = y.fillna(y.mean(), axis = 'rows')\n",
    "X = sm.add_constant(X)"
   ]
  },
  {
   "cell_type": "code",
   "execution_count": 104,
   "id": "56818de4-7b70-4988-ae04-32a84c824a1d",
   "metadata": {},
   "outputs": [],
   "source": [
    "X = X.loc[:,['const', 'Gini index', '%Investments', '%Enrollment', '%Trade', 'GDP_C']]"
   ]
  },
  {
   "cell_type": "code",
   "execution_count": 105,
   "id": "1f6caa3a-1e3b-458b-b689-aece7d6cf0ec",
   "metadata": {},
   "outputs": [],
   "source": [
    "X_train, X_test, y_train, y_test = train_test_split(X, y, train_size=0.7, random_state=42)"
   ]
  },
  {
   "cell_type": "code",
   "execution_count": 106,
   "id": "c2e68d50-74eb-4ff3-976f-8df100ec6c25",
   "metadata": {},
   "outputs": [
    {
     "data": {
      "text/plain": [
       "28.75744625318992"
      ]
     },
     "execution_count": 106,
     "metadata": {},
     "output_type": "execute_result"
    }
   ],
   "source": [
    "regression_model = LinearRegression()\n",
    "mse_scorer = make_scorer(mean_squared_error)\n",
    "mse_scores = cross_val_score(regression_model, X_train, y_train, scoring=mse_scorer, cv=5)\n",
    "mean_mse = np.mean(mse_scores)\n",
    "mean_mse"
   ]
  },
  {
   "cell_type": "markdown",
   "id": "f3e2e31f-d599-43a1-972e-f617b51e04d2",
   "metadata": {
    "tags": []
   },
   "source": [
    "### Regression 6 Vo et al (2019)"
   ]
  },
  {
   "cell_type": "code",
   "execution_count": 107,
   "id": "fac0fc1c-45f5-48ec-a7f6-ac6ff4d29525",
   "metadata": {},
   "outputs": [],
   "source": [
    "X = df_NA_LA .drop('%Growth',axis=1)\n",
    "y = df_NA_LA ['%Growth']\n",
    "X = X.fillna(method = 'ffill', axis = 'rows')\n",
    "y = y.fillna(method = 'ffill', axis = 'rows')\n",
    "X = X.fillna(X.mean(numeric_only=True), axis = 'rows')\n",
    "y = y.fillna(y.mean(), axis = 'rows')\n",
    "X = sm.add_constant(X)"
   ]
  },
  {
   "cell_type": "code",
   "execution_count": 108,
   "id": "dc9f676c-8be3-4f5e-aa5c-a4fe5d1c45c2",
   "metadata": {},
   "outputs": [],
   "source": [
    "X = X.loc[:,['const', 'Gini index', '%Agriculture', '%Industry', '%Service', '%Investments']]"
   ]
  },
  {
   "cell_type": "code",
   "execution_count": 109,
   "id": "1ce99bed-7d0b-4cca-b2cf-b5bf4760c5fe",
   "metadata": {},
   "outputs": [],
   "source": [
    "X_train, X_test, y_train, y_test = train_test_split(X, y, train_size=0.7, random_state=42)"
   ]
  },
  {
   "cell_type": "code",
   "execution_count": 110,
   "id": "b964cef7-fb80-4b78-8399-391222cfc130",
   "metadata": {},
   "outputs": [
    {
     "data": {
      "text/plain": [
       "27.715203881676263"
      ]
     },
     "execution_count": 110,
     "metadata": {},
     "output_type": "execute_result"
    }
   ],
   "source": [
    "regression_model = LinearRegression()\n",
    "mse_scorer = make_scorer(mean_squared_error)\n",
    "mse_scores = cross_val_score(regression_model, X_train, y_train, scoring=mse_scorer, cv=5)\n",
    "mean_mse = np.mean(mse_scores)\n",
    "mean_mse"
   ]
  },
  {
   "cell_type": "code",
   "execution_count": 111,
   "id": "ad92e432-3ec6-4fd3-ab95-04a42b4d977b",
   "metadata": {},
   "outputs": [
    {
     "data": {
      "text/html": [
       "<table class=\"simpletable\">\n",
       "<caption>OLS Regression Results</caption>\n",
       "<tr>\n",
       "  <th>Dep. Variable:</th>         <td>%Growth</td>     <th>  R-squared:         </th> <td>   0.120</td>\n",
       "</tr>\n",
       "<tr>\n",
       "  <th>Model:</th>                   <td>OLS</td>       <th>  Adj. R-squared:    </th> <td>   0.104</td>\n",
       "</tr>\n",
       "<tr>\n",
       "  <th>Method:</th>             <td>Least Squares</td>  <th>  F-statistic:       </th> <td>   7.829</td>\n",
       "</tr>\n",
       "<tr>\n",
       "  <th>Date:</th>             <td>Fri, 23 Jun 2023</td> <th>  Prob (F-statistic):</th> <td>6.29e-07</td>\n",
       "</tr>\n",
       "<tr>\n",
       "  <th>Time:</th>                 <td>09:06:24</td>     <th>  Log-Likelihood:    </th> <td> -895.18</td>\n",
       "</tr>\n",
       "<tr>\n",
       "  <th>No. Observations:</th>      <td>   294</td>      <th>  AIC:               </th> <td>   1802.</td>\n",
       "</tr>\n",
       "<tr>\n",
       "  <th>Df Residuals:</th>          <td>   288</td>      <th>  BIC:               </th> <td>   1824.</td>\n",
       "</tr>\n",
       "<tr>\n",
       "  <th>Df Model:</th>              <td>     5</td>      <th>                     </th>     <td> </td>   \n",
       "</tr>\n",
       "<tr>\n",
       "  <th>Covariance Type:</th>      <td>nonrobust</td>    <th>                     </th>     <td> </td>   \n",
       "</tr>\n",
       "</table>\n",
       "<table class=\"simpletable\">\n",
       "<tr>\n",
       "        <td></td>          <th>coef</th>     <th>std err</th>      <th>t</th>      <th>P>|t|</th>  <th>[0.025</th>    <th>0.975]</th>  \n",
       "</tr>\n",
       "<tr>\n",
       "  <th>const</th>        <td>-1.048e+04</td> <td> 5454.410</td> <td>   -1.921</td> <td> 0.056</td> <td>-2.12e+04</td> <td>  255.097</td>\n",
       "</tr>\n",
       "<tr>\n",
       "  <th>Gini index</th>   <td>   -0.0217</td> <td>    0.071</td> <td>   -0.305</td> <td> 0.760</td> <td>   -0.162</td> <td>    0.118</td>\n",
       "</tr>\n",
       "<tr>\n",
       "  <th>%Agriculture</th> <td>  104.8623</td> <td>   54.543</td> <td>    1.923</td> <td> 0.056</td> <td>   -2.491</td> <td>  212.216</td>\n",
       "</tr>\n",
       "<tr>\n",
       "  <th>%Industry</th>    <td>  104.9960</td> <td>   54.537</td> <td>    1.925</td> <td> 0.055</td> <td>   -2.346</td> <td>  212.338</td>\n",
       "</tr>\n",
       "<tr>\n",
       "  <th>%Service</th>     <td>  104.7629</td> <td>   54.543</td> <td>    1.921</td> <td> 0.056</td> <td>   -2.591</td> <td>  212.117</td>\n",
       "</tr>\n",
       "<tr>\n",
       "  <th>%Investments</th> <td>    0.2742</td> <td>    0.062</td> <td>    4.444</td> <td> 0.000</td> <td>    0.153</td> <td>    0.396</td>\n",
       "</tr>\n",
       "</table>\n",
       "<table class=\"simpletable\">\n",
       "<tr>\n",
       "  <th>Omnibus:</th>       <td>63.289</td> <th>  Durbin-Watson:     </th> <td>   1.929</td> \n",
       "</tr>\n",
       "<tr>\n",
       "  <th>Prob(Omnibus):</th> <td> 0.000</td> <th>  Jarque-Bera (JB):  </th> <td>1193.295</td> \n",
       "</tr>\n",
       "<tr>\n",
       "  <th>Skew:</th>          <td> 0.011</td> <th>  Prob(JB):          </th> <td>7.57e-260</td>\n",
       "</tr>\n",
       "<tr>\n",
       "  <th>Kurtosis:</th>      <td>12.870</td> <th>  Cond. No.          </th> <td>1.53e+06</td> \n",
       "</tr>\n",
       "</table><br/><br/>Notes:<br/>[1] Standard Errors assume that the covariance matrix of the errors is correctly specified.<br/>[2] The condition number is large, 1.53e+06. This might indicate that there are<br/>strong multicollinearity or other numerical problems."
      ],
      "text/plain": [
       "<class 'statsmodels.iolib.summary.Summary'>\n",
       "\"\"\"\n",
       "                            OLS Regression Results                            \n",
       "==============================================================================\n",
       "Dep. Variable:                %Growth   R-squared:                       0.120\n",
       "Model:                            OLS   Adj. R-squared:                  0.104\n",
       "Method:                 Least Squares   F-statistic:                     7.829\n",
       "Date:                Fri, 23 Jun 2023   Prob (F-statistic):           6.29e-07\n",
       "Time:                        09:06:24   Log-Likelihood:                -895.18\n",
       "No. Observations:                 294   AIC:                             1802.\n",
       "Df Residuals:                     288   BIC:                             1824.\n",
       "Df Model:                           5                                         \n",
       "Covariance Type:            nonrobust                                         \n",
       "================================================================================\n",
       "                   coef    std err          t      P>|t|      [0.025      0.975]\n",
       "--------------------------------------------------------------------------------\n",
       "const        -1.048e+04   5454.410     -1.921      0.056   -2.12e+04     255.097\n",
       "Gini index      -0.0217      0.071     -0.305      0.760      -0.162       0.118\n",
       "%Agriculture   104.8623     54.543      1.923      0.056      -2.491     212.216\n",
       "%Industry      104.9960     54.537      1.925      0.055      -2.346     212.338\n",
       "%Service       104.7629     54.543      1.921      0.056      -2.591     212.117\n",
       "%Investments     0.2742      0.062      4.444      0.000       0.153       0.396\n",
       "==============================================================================\n",
       "Omnibus:                       63.289   Durbin-Watson:                   1.929\n",
       "Prob(Omnibus):                  0.000   Jarque-Bera (JB):             1193.295\n",
       "Skew:                           0.011   Prob(JB):                    7.57e-260\n",
       "Kurtosis:                      12.870   Cond. No.                     1.53e+06\n",
       "==============================================================================\n",
       "\n",
       "Notes:\n",
       "[1] Standard Errors assume that the covariance matrix of the errors is correctly specified.\n",
       "[2] The condition number is large, 1.53e+06. This might indicate that there are\n",
       "strong multicollinearity or other numerical problems.\n",
       "\"\"\""
      ]
     },
     "execution_count": 111,
     "metadata": {},
     "output_type": "execute_result"
    }
   ],
   "source": [
    "model6 = sm.OLS(y_train,X_train)\n",
    "results6 = model6.fit()\n",
    "results6.summary()"
   ]
  },
  {
   "cell_type": "code",
   "execution_count": 112,
   "id": "2b72f3cc-f8d5-4338-a20f-0a9c91efa109",
   "metadata": {},
   "outputs": [],
   "source": [
    "y_train_pred = results6.predict(X_train)\n",
    "y_test_pred = results6.predict(X_test)"
   ]
  },
  {
   "cell_type": "code",
   "execution_count": 113,
   "id": "42b67cf7-c81f-4639-9c41-476ff3d43faf",
   "metadata": {},
   "outputs": [
    {
     "name": "stdout",
     "output_type": "stream",
     "text": [
      "MSE on train data: 25.837011403242627\n"
     ]
    }
   ],
   "source": [
    "print('MSE on train data:',mean_squared_error(y_train, y_train_pred))"
   ]
  },
  {
   "cell_type": "code",
   "execution_count": 114,
   "id": "f5bb4d45-6675-4a60-a54a-b779ba2a2e38",
   "metadata": {},
   "outputs": [
    {
     "name": "stdout",
     "output_type": "stream",
     "text": [
      "MSE on test data: 26.03066544436563\n"
     ]
    }
   ],
   "source": [
    "print('MSE on test data:',mean_squared_error(y_test, y_test_pred))"
   ]
  },
  {
   "cell_type": "markdown",
   "id": "8a76da66-34e0-4f40-b4ae-a1f60341d411",
   "metadata": {
    "tags": []
   },
   "source": [
    "### Regression 7 Knowles(2001)"
   ]
  },
  {
   "cell_type": "code",
   "execution_count": 115,
   "id": "57eada36-52ed-4a4f-af0c-f3e0a163e232",
   "metadata": {},
   "outputs": [],
   "source": [
    "X = df_NA_LA .drop('%Growth',axis=1)\n",
    "y = df_NA_LA ['%Growth']\n",
    "X = X.fillna(method = 'ffill', axis = 'rows')\n",
    "y = y.fillna(method = 'ffill', axis = 'rows')\n",
    "X = X.fillna(X.mean(numeric_only=True), axis = 'rows')\n",
    "y = y.fillna(y.mean(), axis = 'rows')\n",
    "X = sm.add_constant(X)"
   ]
  },
  {
   "cell_type": "code",
   "execution_count": 116,
   "id": "c6680379-3e6e-4867-b251-3f7f8dbdb514",
   "metadata": {},
   "outputs": [],
   "source": [
    "X = X.loc[:,['const', 'Gini index', 'GDP_C', '%Completion_F', '%Completion_M', '%Investments']]"
   ]
  },
  {
   "cell_type": "code",
   "execution_count": 117,
   "id": "153c6ffe-015e-46f8-aa45-263cd87c77d3",
   "metadata": {},
   "outputs": [],
   "source": [
    "X_train, X_test, y_train, y_test = train_test_split(X, y, train_size=0.7, random_state=42)"
   ]
  },
  {
   "cell_type": "code",
   "execution_count": 118,
   "id": "af8db4b5-2efb-407a-bb15-2443ab176ad5",
   "metadata": {},
   "outputs": [
    {
     "data": {
      "text/plain": [
       "28.159255696595608"
      ]
     },
     "execution_count": 118,
     "metadata": {},
     "output_type": "execute_result"
    }
   ],
   "source": [
    "regression_model = LinearRegression()\n",
    "mse_scorer = make_scorer(mean_squared_error)\n",
    "mse_scores = cross_val_score(regression_model, X_train, y_train, scoring=mse_scorer, cv=5)\n",
    "mean_mse = np.mean(mse_scores)\n",
    "mean_mse"
   ]
  },
  {
   "cell_type": "markdown",
   "id": "60bc6572-7e1f-469c-a484-3f6c166eab16",
   "metadata": {
    "tags": []
   },
   "source": [
    "### Regression 8 Lee and Son(2016)"
   ]
  },
  {
   "cell_type": "code",
   "execution_count": 119,
   "id": "83a3f226-b69c-4cac-834b-d833164a4771",
   "metadata": {},
   "outputs": [],
   "source": [
    "X = df_NA_LA .drop('%Growth',axis=1)\n",
    "y = df_NA_LA ['%Growth']\n",
    "X = X.fillna(method = 'ffill', axis = 'rows')\n",
    "y = y.fillna(method = 'ffill', axis = 'rows')\n",
    "X = X.fillna(X.mean(numeric_only=True), axis = 'rows')\n",
    "y = y.fillna(y.mean(), axis = 'rows')\n",
    "X = sm.add_constant(X)"
   ]
  },
  {
   "cell_type": "code",
   "execution_count": 120,
   "id": "8b90fd10-1829-4cc0-8200-a57a95e4a54f",
   "metadata": {},
   "outputs": [],
   "source": [
    "X = X.loc[:,['const', 'Gini index', 'Expected years of schooling', '%Investments', '%Trade', '%Expenditures', 'GDP_C']]"
   ]
  },
  {
   "cell_type": "code",
   "execution_count": 121,
   "id": "d523103a-d747-4be2-8cde-08631c9e37e9",
   "metadata": {},
   "outputs": [],
   "source": [
    "X_train, X_test, y_train, y_test = train_test_split(X, y, train_size=0.7, random_state=42)"
   ]
  },
  {
   "cell_type": "code",
   "execution_count": 122,
   "id": "e23203f4-0e37-44a5-a01b-27b51f5f51da",
   "metadata": {},
   "outputs": [
    {
     "data": {
      "text/plain": [
       "28.87826423214734"
      ]
     },
     "execution_count": 122,
     "metadata": {},
     "output_type": "execute_result"
    }
   ],
   "source": [
    "regression_model = LinearRegression()\n",
    "mse_scorer = make_scorer(mean_squared_error)\n",
    "mse_scores = cross_val_score(regression_model, X_train, y_train, scoring=mse_scorer, cv=5)\n",
    "mean_mse = np.mean(mse_scores)\n",
    "mean_mse"
   ]
  },
  {
   "cell_type": "markdown",
   "id": "8e58afe2-de16-40b7-a753-f9fa70c313ed",
   "metadata": {
    "jp-MarkdownHeadingCollapsed": true,
    "tags": []
   },
   "source": [
    "## Sub-Saharan Africa"
   ]
  },
  {
   "cell_type": "code",
   "execution_count": 123,
   "id": "c4a7f66b-3edb-4d68-9d58-fbd23cc24fef",
   "metadata": {},
   "outputs": [],
   "source": [
    "df_SSA = df.loc[df['Region'] == 'Sub-Saharan Africa']"
   ]
  },
  {
   "cell_type": "markdown",
   "id": "e7512ec4-4259-46a5-b187-62cbd9bfbf73",
   "metadata": {},
   "source": [
    "### Regression 1 Klasen and Lamanna(2009)"
   ]
  },
  {
   "cell_type": "code",
   "execution_count": 124,
   "id": "cb323d3e-3959-4e0f-8545-5780e6c31db3",
   "metadata": {},
   "outputs": [],
   "source": [
    "X = df_SSA .drop('%Growth',axis=1)\n",
    "y = df_SSA ['%Growth']\n",
    "X = X.fillna(method = 'ffill', axis = 'rows')\n",
    "y = y.fillna(method = 'ffill', axis = 'rows')\n",
    "X = X.fillna(X.mean(numeric_only=True), axis = 'rows')\n",
    "y = y.fillna(y.mean(), axis = 'rows')\n",
    "X = sm.add_constant(X)"
   ]
  },
  {
   "cell_type": "code",
   "execution_count": 125,
   "id": "431a1c87-3ef8-4e69-8251-05beae6e5ee6",
   "metadata": {},
   "outputs": [],
   "source": [
    "X = X.loc[:,['const','%Gender', '%Pop_Growth', '%WorkingPop', '%Investments', '%Trade', 'GPI', 'Expected years of schooling, male']]"
   ]
  },
  {
   "cell_type": "code",
   "execution_count": 126,
   "id": "eaf7dfbb-b39f-4fb4-b545-77016f046fb8",
   "metadata": {},
   "outputs": [],
   "source": [
    "X_train, X_test, y_train, y_test = train_test_split(X, y, train_size=0.7, random_state=42)"
   ]
  },
  {
   "cell_type": "code",
   "execution_count": 127,
   "id": "99092a39-9918-4cbe-9e88-16684aa724c5",
   "metadata": {},
   "outputs": [
    {
     "data": {
      "text/plain": [
       "33.52747320747436"
      ]
     },
     "execution_count": 127,
     "metadata": {},
     "output_type": "execute_result"
    }
   ],
   "source": [
    "regression_model = LinearRegression()\n",
    "mse_scorer = make_scorer(mean_squared_error)\n",
    "mse_scores = cross_val_score(regression_model, X_train, y_train, scoring=mse_scorer, cv=5)\n",
    "mean_mse = np.mean(mse_scores)\n",
    "mean_mse"
   ]
  },
  {
   "cell_type": "markdown",
   "id": "693bb9bd-fcea-4f9e-aa55-6205d3a1ab2a",
   "metadata": {},
   "source": [
    "### Regression 2 Klasen and Lamanna(2009) reduced form"
   ]
  },
  {
   "cell_type": "code",
   "execution_count": 128,
   "id": "d24d9b73-5799-4500-a4c9-68a8d4c8da30",
   "metadata": {},
   "outputs": [],
   "source": [
    "X = df_SSA .drop('%Growth',axis=1)\n",
    "y = df_SSA ['%Growth']\n",
    "X = X.fillna(method = 'ffill', axis = 'rows')\n",
    "y = y.fillna(method = 'ffill', axis = 'rows')\n",
    "X = X.fillna(X.mean(numeric_only=True), axis = 'rows')\n",
    "y = y.fillna(y.mean(), axis = 'rows')\n",
    "X = sm.add_constant(X)"
   ]
  },
  {
   "cell_type": "code",
   "execution_count": 129,
   "id": "148e5d1c-b009-413c-a930-28b57bcfd931",
   "metadata": {},
   "outputs": [],
   "source": [
    "X = X.loc[:,['const','%Gender', '%Trade', 'GPI', 'Expected years of schooling, male']]"
   ]
  },
  {
   "cell_type": "code",
   "execution_count": 130,
   "id": "3e4092db-cb71-4b68-8e5d-3305274c91c5",
   "metadata": {},
   "outputs": [],
   "source": [
    "X_train, X_test, y_train, y_test = train_test_split(X, y, train_size=0.7, random_state=42)"
   ]
  },
  {
   "cell_type": "code",
   "execution_count": 131,
   "id": "48edfe47-eabe-44ca-a44c-022f55a3bf59",
   "metadata": {},
   "outputs": [
    {
     "data": {
      "text/plain": [
       "31.72446610967317"
      ]
     },
     "execution_count": 131,
     "metadata": {},
     "output_type": "execute_result"
    }
   ],
   "source": [
    "regression_model = LinearRegression()\n",
    "mse_scorer = make_scorer(mean_squared_error)\n",
    "mse_scores = cross_val_score(regression_model, X_train, y_train, scoring=mse_scorer, cv=5)\n",
    "mean_mse = np.mean(mse_scores)\n",
    "mean_mse"
   ]
  },
  {
   "cell_type": "code",
   "execution_count": 132,
   "id": "9723d75c-52a7-454e-bc7c-a19a48e182a9",
   "metadata": {},
   "outputs": [
    {
     "data": {
      "text/html": [
       "<table class=\"simpletable\">\n",
       "<caption>OLS Regression Results</caption>\n",
       "<tr>\n",
       "  <th>Dep. Variable:</th>         <td>%Growth</td>     <th>  R-squared:         </th> <td>   0.030</td>\n",
       "</tr>\n",
       "<tr>\n",
       "  <th>Model:</th>                   <td>OLS</td>       <th>  Adj. R-squared:    </th> <td>   0.020</td>\n",
       "</tr>\n",
       "<tr>\n",
       "  <th>Method:</th>             <td>Least Squares</td>  <th>  F-statistic:       </th> <td>   2.975</td>\n",
       "</tr>\n",
       "<tr>\n",
       "  <th>Date:</th>             <td>Fri, 23 Jun 2023</td> <th>  Prob (F-statistic):</th>  <td>0.0193</td> \n",
       "</tr>\n",
       "<tr>\n",
       "  <th>Time:</th>                 <td>09:06:25</td>     <th>  Log-Likelihood:    </th> <td> -1211.0</td>\n",
       "</tr>\n",
       "<tr>\n",
       "  <th>No. Observations:</th>      <td>   386</td>      <th>  AIC:               </th> <td>   2432.</td>\n",
       "</tr>\n",
       "<tr>\n",
       "  <th>Df Residuals:</th>          <td>   381</td>      <th>  BIC:               </th> <td>   2452.</td>\n",
       "</tr>\n",
       "<tr>\n",
       "  <th>Df Model:</th>              <td>     4</td>      <th>                     </th>     <td> </td>   \n",
       "</tr>\n",
       "<tr>\n",
       "  <th>Covariance Type:</th>      <td>nonrobust</td>    <th>                     </th>     <td> </td>   \n",
       "</tr>\n",
       "</table>\n",
       "<table class=\"simpletable\">\n",
       "<tr>\n",
       "                  <td></td>                     <th>coef</th>     <th>std err</th>      <th>t</th>      <th>P>|t|</th>  <th>[0.025</th>    <th>0.975]</th>  \n",
       "</tr>\n",
       "<tr>\n",
       "  <th>const</th>                             <td>   -2.5892</td> <td>    2.785</td> <td>   -0.930</td> <td> 0.353</td> <td>   -8.066</td> <td>    2.887</td>\n",
       "</tr>\n",
       "<tr>\n",
       "  <th>%Gender</th>                           <td>    0.0134</td> <td>    0.022</td> <td>    0.596</td> <td> 0.551</td> <td>   -0.031</td> <td>    0.057</td>\n",
       "</tr>\n",
       "<tr>\n",
       "  <th>%Trade</th>                            <td>    0.0019</td> <td>    0.008</td> <td>    0.228</td> <td> 0.819</td> <td>   -0.015</td> <td>    0.019</td>\n",
       "</tr>\n",
       "<tr>\n",
       "  <th>GPI</th>                               <td>    8.2485</td> <td>    2.713</td> <td>    3.041</td> <td> 0.003</td> <td>    2.915</td> <td>   13.582</td>\n",
       "</tr>\n",
       "<tr>\n",
       "  <th>Expected years of schooling, male</th> <td>   -0.2385</td> <td>    0.158</td> <td>   -1.508</td> <td> 0.132</td> <td>   -0.550</td> <td>    0.072</td>\n",
       "</tr>\n",
       "</table>\n",
       "<table class=\"simpletable\">\n",
       "<tr>\n",
       "  <th>Omnibus:</th>       <td>280.673</td> <th>  Durbin-Watson:     </th> <td>   2.125</td>\n",
       "</tr>\n",
       "<tr>\n",
       "  <th>Prob(Omnibus):</th> <td> 0.000</td>  <th>  Jarque-Bera (JB):  </th> <td>6024.782</td>\n",
       "</tr>\n",
       "<tr>\n",
       "  <th>Skew:</th>          <td>-2.782</td>  <th>  Prob(JB):          </th> <td>    0.00</td>\n",
       "</tr>\n",
       "<tr>\n",
       "  <th>Kurtosis:</th>      <td>21.537</td>  <th>  Cond. No.          </th> <td>1.22e+03</td>\n",
       "</tr>\n",
       "</table><br/><br/>Notes:<br/>[1] Standard Errors assume that the covariance matrix of the errors is correctly specified.<br/>[2] The condition number is large, 1.22e+03. This might indicate that there are<br/>strong multicollinearity or other numerical problems."
      ],
      "text/plain": [
       "<class 'statsmodels.iolib.summary.Summary'>\n",
       "\"\"\"\n",
       "                            OLS Regression Results                            \n",
       "==============================================================================\n",
       "Dep. Variable:                %Growth   R-squared:                       0.030\n",
       "Model:                            OLS   Adj. R-squared:                  0.020\n",
       "Method:                 Least Squares   F-statistic:                     2.975\n",
       "Date:                Fri, 23 Jun 2023   Prob (F-statistic):             0.0193\n",
       "Time:                        09:06:25   Log-Likelihood:                -1211.0\n",
       "No. Observations:                 386   AIC:                             2432.\n",
       "Df Residuals:                     381   BIC:                             2452.\n",
       "Df Model:                           4                                         \n",
       "Covariance Type:            nonrobust                                         \n",
       "=====================================================================================================\n",
       "                                        coef    std err          t      P>|t|      [0.025      0.975]\n",
       "-----------------------------------------------------------------------------------------------------\n",
       "const                                -2.5892      2.785     -0.930      0.353      -8.066       2.887\n",
       "%Gender                               0.0134      0.022      0.596      0.551      -0.031       0.057\n",
       "%Trade                                0.0019      0.008      0.228      0.819      -0.015       0.019\n",
       "GPI                                   8.2485      2.713      3.041      0.003       2.915      13.582\n",
       "Expected years of schooling, male    -0.2385      0.158     -1.508      0.132      -0.550       0.072\n",
       "==============================================================================\n",
       "Omnibus:                      280.673   Durbin-Watson:                   2.125\n",
       "Prob(Omnibus):                  0.000   Jarque-Bera (JB):             6024.782\n",
       "Skew:                          -2.782   Prob(JB):                         0.00\n",
       "Kurtosis:                      21.537   Cond. No.                     1.22e+03\n",
       "==============================================================================\n",
       "\n",
       "Notes:\n",
       "[1] Standard Errors assume that the covariance matrix of the errors is correctly specified.\n",
       "[2] The condition number is large, 1.22e+03. This might indicate that there are\n",
       "strong multicollinearity or other numerical problems.\n",
       "\"\"\""
      ]
     },
     "execution_count": 132,
     "metadata": {},
     "output_type": "execute_result"
    }
   ],
   "source": [
    "model2 = sm.OLS(y_train,X_train)\n",
    "results2 = model2.fit()\n",
    "results2.summary()"
   ]
  },
  {
   "cell_type": "code",
   "execution_count": 133,
   "id": "52a9712d-7bd4-440d-a138-1f6d5f184bc3",
   "metadata": {},
   "outputs": [],
   "source": [
    "y_train_pred = results2.predict(X_train)\n",
    "y_test_pred = results2.predict(X_test)"
   ]
  },
  {
   "cell_type": "code",
   "execution_count": 134,
   "id": "9222dcd4-605e-4533-ae88-05bc1629b1db",
   "metadata": {},
   "outputs": [
    {
     "name": "stdout",
     "output_type": "stream",
     "text": [
      "MSE on train data: 31.089047558966218\n"
     ]
    }
   ],
   "source": [
    "print('MSE on train data:',mean_squared_error(y_train, y_train_pred))"
   ]
  },
  {
   "cell_type": "code",
   "execution_count": 135,
   "id": "5b27436d-a7bd-4c46-8f27-c009faae2ef6",
   "metadata": {},
   "outputs": [
    {
     "name": "stdout",
     "output_type": "stream",
     "text": [
      "MSE on test data: 21.87153664548915\n"
     ]
    }
   ],
   "source": [
    "print('MSE on test data:',mean_squared_error(y_test, y_test_pred))"
   ]
  },
  {
   "cell_type": "markdown",
   "id": "d051f52e-b01c-45c8-91d9-3847872b8a4d",
   "metadata": {
    "tags": []
   },
   "source": [
    "### Regression 3 Senguino (2000)"
   ]
  },
  {
   "cell_type": "code",
   "execution_count": 136,
   "id": "86a115a1-a64d-4fdb-b8c1-9e8f4eb0a7eb",
   "metadata": {},
   "outputs": [],
   "source": [
    "X = df_SSA .drop('%Growth',axis=1)\n",
    "y = df_SSA ['%Growth']\n",
    "X = X.fillna(method = 'ffill', axis = 'rows')\n",
    "y = y.fillna(method = 'ffill', axis = 'rows')\n",
    "X = X.fillna(X.mean(numeric_only=True), axis = 'rows')\n",
    "y = y.fillna(y.mean(), axis = 'rows')\n",
    "X = sm.add_constant(X)"
   ]
  },
  {
   "cell_type": "code",
   "execution_count": 137,
   "id": "830f7eb0-8836-440f-9d7c-9ba811343d63",
   "metadata": {},
   "outputs": [],
   "source": [
    "X = X.loc[:,['const','%Gender', '%Completion_F', '%Completion_M', 'GDP_C']]"
   ]
  },
  {
   "cell_type": "code",
   "execution_count": 138,
   "id": "52c480e3-c94a-4926-81bf-bec955f24a7d",
   "metadata": {},
   "outputs": [],
   "source": [
    "X_train, X_test, y_train, y_test = train_test_split(X, y, train_size=0.7, random_state=42)"
   ]
  },
  {
   "cell_type": "code",
   "execution_count": 139,
   "id": "04bde1ee-5c1c-4689-9a91-e9eb60e60858",
   "metadata": {},
   "outputs": [
    {
     "data": {
      "text/plain": [
       "32.02933479689084"
      ]
     },
     "execution_count": 139,
     "metadata": {},
     "output_type": "execute_result"
    }
   ],
   "source": [
    "regression_model = LinearRegression()\n",
    "mse_scorer = make_scorer(mean_squared_error)\n",
    "mse_scores = cross_val_score(regression_model, X_train, y_train, scoring=mse_scorer, cv=5)\n",
    "mean_mse = np.mean(mse_scores)\n",
    "mean_mse"
   ]
  },
  {
   "cell_type": "markdown",
   "id": "2ad8f972-d8d6-49e2-8ecc-3ea7dec3d99a",
   "metadata": {},
   "source": [
    "### Regression 4 Ghosh(2021)"
   ]
  },
  {
   "cell_type": "code",
   "execution_count": 140,
   "id": "69b3ee23-f7d0-44ca-b240-150c3389ced1",
   "metadata": {},
   "outputs": [],
   "source": [
    "X = df_SSA .drop('%Growth',axis=1)\n",
    "y = df_SSA ['%Growth']\n",
    "X = X.fillna(method = 'ffill', axis = 'rows')\n",
    "y = y.fillna(method = 'ffill', axis = 'rows')\n",
    "X = X.fillna(X.mean(numeric_only=True), axis = 'rows')\n",
    "y = y.fillna(y.mean(), axis = 'rows')\n",
    "X = sm.add_constant(X)"
   ]
  },
  {
   "cell_type": "code",
   "execution_count": 141,
   "id": "4333cab2-e3d6-4245-8f9d-4f0ee7168fa8",
   "metadata": {},
   "outputs": [],
   "source": [
    "X = X.loc[:,['const','%Gender', '%Trade', '%Trade_2']]"
   ]
  },
  {
   "cell_type": "code",
   "execution_count": 142,
   "id": "51249e6c-e5cc-49cc-8b7b-8bcfa4dcc255",
   "metadata": {},
   "outputs": [],
   "source": [
    "X_train, X_test, y_train, y_test = train_test_split(X, y, train_size=0.7, random_state=42)"
   ]
  },
  {
   "cell_type": "code",
   "execution_count": 143,
   "id": "a2e4ed3c-709f-470e-8a00-20a67abdeb4d",
   "metadata": {},
   "outputs": [
    {
     "data": {
      "text/plain": [
       "32.28258902914633"
      ]
     },
     "execution_count": 143,
     "metadata": {},
     "output_type": "execute_result"
    }
   ],
   "source": [
    "regression_model = LinearRegression()\n",
    "mse_scorer = make_scorer(mean_squared_error)\n",
    "mse_scores = cross_val_score(regression_model, X_train, y_train, scoring=mse_scorer, cv=5)\n",
    "mean_mse = np.mean(mse_scores)\n",
    "mean_mse"
   ]
  },
  {
   "cell_type": "markdown",
   "id": "f7139333-2799-444b-842a-532ec1bf3394",
   "metadata": {
    "tags": []
   },
   "source": [
    "### Regression 5 Abida and Sghaier(2012)"
   ]
  },
  {
   "cell_type": "code",
   "execution_count": 144,
   "id": "80dc4a1e-2943-45fc-99ae-bc4df3052b2a",
   "metadata": {},
   "outputs": [],
   "source": [
    "X = df_SSA .drop('%Growth',axis=1)\n",
    "y = df_SSA ['%Growth']\n",
    "X = X.fillna(method = 'ffill', axis = 'rows')\n",
    "y = y.fillna(method = 'ffill', axis = 'rows')\n",
    "X = X.fillna(X.mean(numeric_only=True), axis = 'rows')\n",
    "y = y.fillna(y.mean(), axis = 'rows')\n",
    "X = sm.add_constant(X)"
   ]
  },
  {
   "cell_type": "code",
   "execution_count": 145,
   "id": "a5414e2f-dc48-43e0-86dc-a907e60a4d0d",
   "metadata": {},
   "outputs": [],
   "source": [
    "X = X.loc[:,['const', 'Gini index', '%Investments', '%Enrollment', '%Trade', 'GDP_C']]"
   ]
  },
  {
   "cell_type": "code",
   "execution_count": 146,
   "id": "9c6f393f-f929-41a3-bf0f-a2c9b7419bc0",
   "metadata": {},
   "outputs": [],
   "source": [
    "X_train, X_test, y_train, y_test = train_test_split(X, y, train_size=0.7, random_state=42)"
   ]
  },
  {
   "cell_type": "code",
   "execution_count": 147,
   "id": "589337bf-294e-4b36-be85-877ad8997e57",
   "metadata": {},
   "outputs": [
    {
     "data": {
      "text/plain": [
       "30.31203183603669"
      ]
     },
     "execution_count": 147,
     "metadata": {},
     "output_type": "execute_result"
    }
   ],
   "source": [
    "regression_model = LinearRegression()\n",
    "mse_scorer = make_scorer(mean_squared_error)\n",
    "mse_scores = cross_val_score(regression_model, X_train, y_train, scoring=mse_scorer, cv=5)\n",
    "mean_mse = np.mean(mse_scores)\n",
    "mean_mse"
   ]
  },
  {
   "cell_type": "code",
   "execution_count": 148,
   "id": "8548cab2-a3f8-47e2-a6ac-6c007dcee91b",
   "metadata": {},
   "outputs": [
    {
     "data": {
      "text/html": [
       "<table class=\"simpletable\">\n",
       "<caption>OLS Regression Results</caption>\n",
       "<tr>\n",
       "  <th>Dep. Variable:</th>         <td>%Growth</td>     <th>  R-squared:         </th> <td>   0.075</td>\n",
       "</tr>\n",
       "<tr>\n",
       "  <th>Model:</th>                   <td>OLS</td>       <th>  Adj. R-squared:    </th> <td>   0.063</td>\n",
       "</tr>\n",
       "<tr>\n",
       "  <th>Method:</th>             <td>Least Squares</td>  <th>  F-statistic:       </th> <td>   6.196</td>\n",
       "</tr>\n",
       "<tr>\n",
       "  <th>Date:</th>             <td>Fri, 23 Jun 2023</td> <th>  Prob (F-statistic):</th> <td>1.54e-05</td>\n",
       "</tr>\n",
       "<tr>\n",
       "  <th>Time:</th>                 <td>09:06:26</td>     <th>  Log-Likelihood:    </th> <td> -1201.8</td>\n",
       "</tr>\n",
       "<tr>\n",
       "  <th>No. Observations:</th>      <td>   386</td>      <th>  AIC:               </th> <td>   2416.</td>\n",
       "</tr>\n",
       "<tr>\n",
       "  <th>Df Residuals:</th>          <td>   380</td>      <th>  BIC:               </th> <td>   2439.</td>\n",
       "</tr>\n",
       "<tr>\n",
       "  <th>Df Model:</th>              <td>     5</td>      <th>                     </th>     <td> </td>   \n",
       "</tr>\n",
       "<tr>\n",
       "  <th>Covariance Type:</th>      <td>nonrobust</td>    <th>                     </th>     <td> </td>   \n",
       "</tr>\n",
       "</table>\n",
       "<table class=\"simpletable\">\n",
       "<tr>\n",
       "        <td></td>          <th>coef</th>     <th>std err</th>      <th>t</th>      <th>P>|t|</th>  <th>[0.025</th>    <th>0.975]</th>  \n",
       "</tr>\n",
       "<tr>\n",
       "  <th>const</th>        <td>    6.3896</td> <td>    1.812</td> <td>    3.525</td> <td> 0.000</td> <td>    2.826</td> <td>    9.953</td>\n",
       "</tr>\n",
       "<tr>\n",
       "  <th>Gini index</th>   <td>   -0.1274</td> <td>    0.038</td> <td>   -3.312</td> <td> 0.001</td> <td>   -0.203</td> <td>   -0.052</td>\n",
       "</tr>\n",
       "<tr>\n",
       "  <th>%Investments</th> <td>    0.0395</td> <td>    0.031</td> <td>    1.256</td> <td> 0.210</td> <td>   -0.022</td> <td>    0.101</td>\n",
       "</tr>\n",
       "<tr>\n",
       "  <th>%Enrollment</th>  <td>    0.0710</td> <td>    0.020</td> <td>    3.606</td> <td> 0.000</td> <td>    0.032</td> <td>    0.110</td>\n",
       "</tr>\n",
       "<tr>\n",
       "  <th>%Trade</th>       <td>    0.0066</td> <td>    0.010</td> <td>    0.641</td> <td> 0.522</td> <td>   -0.014</td> <td>    0.027</td>\n",
       "</tr>\n",
       "<tr>\n",
       "  <th>GDP_C</th>        <td>   -0.0004</td> <td>    0.000</td> <td>   -3.190</td> <td> 0.002</td> <td>   -0.001</td> <td>   -0.000</td>\n",
       "</tr>\n",
       "</table>\n",
       "<table class=\"simpletable\">\n",
       "<tr>\n",
       "  <th>Omnibus:</th>       <td>282.512</td> <th>  Durbin-Watson:     </th> <td>   2.189</td>\n",
       "</tr>\n",
       "<tr>\n",
       "  <th>Prob(Omnibus):</th> <td> 0.000</td>  <th>  Jarque-Bera (JB):  </th> <td>5980.223</td>\n",
       "</tr>\n",
       "<tr>\n",
       "  <th>Skew:</th>          <td>-2.816</td>  <th>  Prob(JB):          </th> <td>    0.00</td>\n",
       "</tr>\n",
       "<tr>\n",
       "  <th>Kurtosis:</th>      <td>21.442</td>  <th>  Cond. No.          </th> <td>2.58e+04</td>\n",
       "</tr>\n",
       "</table><br/><br/>Notes:<br/>[1] Standard Errors assume that the covariance matrix of the errors is correctly specified.<br/>[2] The condition number is large, 2.58e+04. This might indicate that there are<br/>strong multicollinearity or other numerical problems."
      ],
      "text/plain": [
       "<class 'statsmodels.iolib.summary.Summary'>\n",
       "\"\"\"\n",
       "                            OLS Regression Results                            \n",
       "==============================================================================\n",
       "Dep. Variable:                %Growth   R-squared:                       0.075\n",
       "Model:                            OLS   Adj. R-squared:                  0.063\n",
       "Method:                 Least Squares   F-statistic:                     6.196\n",
       "Date:                Fri, 23 Jun 2023   Prob (F-statistic):           1.54e-05\n",
       "Time:                        09:06:26   Log-Likelihood:                -1201.8\n",
       "No. Observations:                 386   AIC:                             2416.\n",
       "Df Residuals:                     380   BIC:                             2439.\n",
       "Df Model:                           5                                         \n",
       "Covariance Type:            nonrobust                                         \n",
       "================================================================================\n",
       "                   coef    std err          t      P>|t|      [0.025      0.975]\n",
       "--------------------------------------------------------------------------------\n",
       "const            6.3896      1.812      3.525      0.000       2.826       9.953\n",
       "Gini index      -0.1274      0.038     -3.312      0.001      -0.203      -0.052\n",
       "%Investments     0.0395      0.031      1.256      0.210      -0.022       0.101\n",
       "%Enrollment      0.0710      0.020      3.606      0.000       0.032       0.110\n",
       "%Trade           0.0066      0.010      0.641      0.522      -0.014       0.027\n",
       "GDP_C           -0.0004      0.000     -3.190      0.002      -0.001      -0.000\n",
       "==============================================================================\n",
       "Omnibus:                      282.512   Durbin-Watson:                   2.189\n",
       "Prob(Omnibus):                  0.000   Jarque-Bera (JB):             5980.223\n",
       "Skew:                          -2.816   Prob(JB):                         0.00\n",
       "Kurtosis:                      21.442   Cond. No.                     2.58e+04\n",
       "==============================================================================\n",
       "\n",
       "Notes:\n",
       "[1] Standard Errors assume that the covariance matrix of the errors is correctly specified.\n",
       "[2] The condition number is large, 2.58e+04. This might indicate that there are\n",
       "strong multicollinearity or other numerical problems.\n",
       "\"\"\""
      ]
     },
     "execution_count": 148,
     "metadata": {},
     "output_type": "execute_result"
    }
   ],
   "source": [
    "model5 = sm.OLS(y_train,X_train)\n",
    "results5 = model5.fit()\n",
    "results5.summary()"
   ]
  },
  {
   "cell_type": "code",
   "execution_count": 149,
   "id": "66efe519-ca05-422b-95f1-2b50d45574fa",
   "metadata": {},
   "outputs": [],
   "source": [
    "y_train_pred = results5.predict(X_train)\n",
    "y_test_pred = results5.predict(X_test)"
   ]
  },
  {
   "cell_type": "code",
   "execution_count": 150,
   "id": "86ac3885-fc63-4158-a2a9-175b5ec7af90",
   "metadata": {},
   "outputs": [
    {
     "name": "stdout",
     "output_type": "stream",
     "text": [
      "MSE on train data: 29.64327690458431\n"
     ]
    }
   ],
   "source": [
    "print('MSE on train data:',mean_squared_error(y_train, y_train_pred))"
   ]
  },
  {
   "cell_type": "code",
   "execution_count": 151,
   "id": "dff428cd-3837-40ee-947b-87519771eee8",
   "metadata": {},
   "outputs": [
    {
     "name": "stdout",
     "output_type": "stream",
     "text": [
      "MSE on test data: 21.715432393685887\n"
     ]
    }
   ],
   "source": [
    "print('MSE on test data:',mean_squared_error(y_test, y_test_pred))"
   ]
  },
  {
   "cell_type": "markdown",
   "id": "296b4da2-a381-4997-89b4-a57e84be59f7",
   "metadata": {},
   "source": [
    "### Regression 6 Vo et al (2019)"
   ]
  },
  {
   "cell_type": "code",
   "execution_count": 152,
   "id": "dbcd8e88-f72d-44aa-8822-f1dbfc224438",
   "metadata": {},
   "outputs": [],
   "source": [
    "X = df_SSA .drop('%Growth',axis=1)\n",
    "y = df_SSA ['%Growth']\n",
    "X = X.fillna(method = 'ffill', axis = 'rows')\n",
    "y = y.fillna(method = 'ffill', axis = 'rows')\n",
    "X = X.fillna(X.mean(numeric_only=True), axis = 'rows')\n",
    "y = y.fillna(y.mean(), axis = 'rows')\n",
    "X = sm.add_constant(X)"
   ]
  },
  {
   "cell_type": "code",
   "execution_count": 153,
   "id": "620495c1-3494-41c0-a97a-24221f6d0b0a",
   "metadata": {},
   "outputs": [],
   "source": [
    "X = X.loc[:,['const', 'Gini index', '%Agriculture', '%Industry', '%Service', '%Investments']]"
   ]
  },
  {
   "cell_type": "code",
   "execution_count": 154,
   "id": "dd982472-38fd-4121-93a4-4e087a7e4f78",
   "metadata": {},
   "outputs": [],
   "source": [
    "X_train, X_test, y_train, y_test = train_test_split(X, y, train_size=0.7, random_state=42)"
   ]
  },
  {
   "cell_type": "code",
   "execution_count": 155,
   "id": "f39c396d-70d2-4c67-b3ff-9a7755a3fc08",
   "metadata": {},
   "outputs": [
    {
     "data": {
      "text/plain": [
       "31.324818395902184"
      ]
     },
     "execution_count": 155,
     "metadata": {},
     "output_type": "execute_result"
    }
   ],
   "source": [
    "regression_model = LinearRegression()\n",
    "mse_scorer = make_scorer(mean_squared_error)\n",
    "mse_scores = cross_val_score(regression_model, X_train, y_train, scoring=mse_scorer, cv=5)\n",
    "mean_mse = np.mean(mse_scores)\n",
    "mean_mse"
   ]
  },
  {
   "cell_type": "markdown",
   "id": "494a26d7-1e15-4a59-a819-4c9319ed2c59",
   "metadata": {},
   "source": [
    "### Regression 7 Knowles(2001)"
   ]
  },
  {
   "cell_type": "code",
   "execution_count": 156,
   "id": "8bb18b67-731c-426b-b18c-00fc7d2b5d80",
   "metadata": {},
   "outputs": [],
   "source": [
    "X = df_SSA .drop('%Growth',axis=1)\n",
    "y = df_SSA ['%Growth']\n",
    "X = X.fillna(method = 'ffill', axis = 'rows')\n",
    "y = y.fillna(method = 'ffill', axis = 'rows')\n",
    "X = X.fillna(X.mean(numeric_only=True), axis = 'rows')\n",
    "y = y.fillna(y.mean(), axis = 'rows')\n",
    "X = sm.add_constant(X)"
   ]
  },
  {
   "cell_type": "code",
   "execution_count": 157,
   "id": "182a3242-6db9-40c7-80e0-a9fde75fcb4f",
   "metadata": {},
   "outputs": [],
   "source": [
    "X = X.loc[:,['const', 'Gini index', 'GDP_C', '%Completion_F', '%Completion_M', '%Investments']]"
   ]
  },
  {
   "cell_type": "code",
   "execution_count": 158,
   "id": "8a3ea78a-13b7-4bf6-b810-bd2693650d6f",
   "metadata": {},
   "outputs": [],
   "source": [
    "X_train, X_test, y_train, y_test = train_test_split(X, y, train_size=0.7, random_state=42)"
   ]
  },
  {
   "cell_type": "code",
   "execution_count": 159,
   "id": "dc4615da-1b8f-47bb-8e4f-57153a5005e7",
   "metadata": {},
   "outputs": [
    {
     "data": {
      "text/plain": [
       "31.145818008839864"
      ]
     },
     "execution_count": 159,
     "metadata": {},
     "output_type": "execute_result"
    }
   ],
   "source": [
    "regression_model = LinearRegression()\n",
    "mse_scorer = make_scorer(mean_squared_error)\n",
    "mse_scores = cross_val_score(regression_model, X_train, y_train, scoring=mse_scorer, cv=5)\n",
    "mean_mse = np.mean(mse_scores)\n",
    "mean_mse"
   ]
  },
  {
   "cell_type": "markdown",
   "id": "9b725593-d844-4ec1-a87d-a7592b519dca",
   "metadata": {},
   "source": [
    "### Regression 8 Lee and Son(2016)"
   ]
  },
  {
   "cell_type": "code",
   "execution_count": 160,
   "id": "2263e3fd-fbce-4106-be7f-05f170994de1",
   "metadata": {},
   "outputs": [],
   "source": [
    "X = df_SSA .drop('%Growth',axis=1)\n",
    "y = df_SSA ['%Growth']\n",
    "X = X.fillna(method = 'ffill', axis = 'rows')\n",
    "y = y.fillna(method = 'ffill', axis = 'rows')\n",
    "X = X.fillna(X.mean(numeric_only=True), axis = 'rows')\n",
    "y = y.fillna(y.mean(), axis = 'rows')\n",
    "X = sm.add_constant(X)"
   ]
  },
  {
   "cell_type": "code",
   "execution_count": 161,
   "id": "e08f0fb0-61ef-4154-b098-663b761a8a45",
   "metadata": {},
   "outputs": [],
   "source": [
    "X = X.loc[:,['const', 'Gini index', 'Expected years of schooling', '%Investments', '%Trade', '%Expenditures', 'GDP_C']]"
   ]
  },
  {
   "cell_type": "code",
   "execution_count": 162,
   "id": "2380ed88-66d8-4bd2-8116-1e755243af53",
   "metadata": {},
   "outputs": [],
   "source": [
    "X_train, X_test, y_train, y_test = train_test_split(X, y, train_size=0.7, random_state=42)"
   ]
  },
  {
   "cell_type": "code",
   "execution_count": 163,
   "id": "e96a57a6-522b-4637-9024-8b09739e8ea0",
   "metadata": {},
   "outputs": [
    {
     "data": {
      "text/plain": [
       "30.937889419385066"
      ]
     },
     "execution_count": 163,
     "metadata": {},
     "output_type": "execute_result"
    }
   ],
   "source": [
    "regression_model = LinearRegression()\n",
    "mse_scorer = make_scorer(mean_squared_error)\n",
    "mse_scores = cross_val_score(regression_model, X_train, y_train, scoring=mse_scorer, cv=5)\n",
    "mean_mse = np.mean(mse_scores)\n",
    "mean_mse"
   ]
  },
  {
   "cell_type": "markdown",
   "id": "dbe0d073-7dff-43ae-80bf-06cecdd8d4b9",
   "metadata": {
    "jp-MarkdownHeadingCollapsed": true,
    "tags": []
   },
   "source": [
    "## The Middle East and North Africa"
   ]
  },
  {
   "cell_type": "code",
   "execution_count": 164,
   "id": "f10a684c-6e6f-498b-851e-7a9ce4696e85",
   "metadata": {},
   "outputs": [],
   "source": [
    "df_ME = df.loc[df['Region'] == 'Middle East & North Africa']"
   ]
  },
  {
   "cell_type": "markdown",
   "id": "f4eadb5b-5d5d-41fd-b1d1-06a747e7eb1f",
   "metadata": {},
   "source": [
    "### Regression 1 Klasen and Lamanna(2009)"
   ]
  },
  {
   "cell_type": "code",
   "execution_count": 165,
   "id": "c673c971-5ba3-4406-8583-6ac369d4c393",
   "metadata": {},
   "outputs": [],
   "source": [
    "X = df_ME .drop('%Growth',axis=1)\n",
    "y = df_ME ['%Growth']\n",
    "X = X.fillna(method = 'ffill', axis = 'rows')\n",
    "y = y.fillna(method = 'ffill', axis = 'rows')\n",
    "X = X.fillna(X.mean(numeric_only=True), axis = 'rows')\n",
    "y = y.fillna(y.mean(), axis = 'rows')\n",
    "X = sm.add_constant(X)"
   ]
  },
  {
   "cell_type": "code",
   "execution_count": 166,
   "id": "40bd1c21-935c-44ab-969e-d2c34c136971",
   "metadata": {},
   "outputs": [],
   "source": [
    "X = X.loc[:,['const','%Gender', '%Pop_Growth', '%WorkingPop', '%Investments', '%Trade', 'GPI', 'Expected years of schooling, male']]"
   ]
  },
  {
   "cell_type": "code",
   "execution_count": 167,
   "id": "a3f1cc8b-f88c-4f90-9883-7b7cb3b6120c",
   "metadata": {},
   "outputs": [],
   "source": [
    "X_train, X_test, y_train, y_test = train_test_split(X, y, train_size=0.7, random_state=42)"
   ]
  },
  {
   "cell_type": "code",
   "execution_count": 168,
   "id": "7ea8aef4-0d01-4b0b-9804-f7350df65215",
   "metadata": {},
   "outputs": [
    {
     "data": {
      "text/plain": [
       "121.4411585154974"
      ]
     },
     "execution_count": 168,
     "metadata": {},
     "output_type": "execute_result"
    }
   ],
   "source": [
    "regression_model = LinearRegression()\n",
    "mse_scorer = make_scorer(mean_squared_error)\n",
    "mse_scores = cross_val_score(regression_model, X_train, y_train, scoring=mse_scorer, cv=5)\n",
    "mean_mse = np.mean(mse_scores)\n",
    "mean_mse"
   ]
  },
  {
   "cell_type": "markdown",
   "id": "0bf78399-8c95-44dc-9384-b862361079dd",
   "metadata": {},
   "source": [
    "### Regression 2 Klasen and Lamanna(2009) reduced form"
   ]
  },
  {
   "cell_type": "code",
   "execution_count": 169,
   "id": "31ff43fe-b58e-4bc7-b50f-b7081907ff23",
   "metadata": {},
   "outputs": [],
   "source": [
    "X = df_ME .drop('%Growth',axis=1)\n",
    "y = df_ME ['%Growth']\n",
    "X = X.fillna(method = 'ffill', axis = 'rows')\n",
    "y = y.fillna(method = 'ffill', axis = 'rows')\n",
    "X = X.fillna(X.mean(numeric_only=True), axis = 'rows')\n",
    "y = y.fillna(y.mean(), axis = 'rows')\n",
    "X = sm.add_constant(X)"
   ]
  },
  {
   "cell_type": "code",
   "execution_count": 170,
   "id": "6062ca9d-3a7f-4fbe-aaf9-e9d51e7b6c2c",
   "metadata": {},
   "outputs": [],
   "source": [
    "X = X.loc[:,['const','%Gender', '%Trade', 'GPI', 'Expected years of schooling, male']]"
   ]
  },
  {
   "cell_type": "code",
   "execution_count": 171,
   "id": "753babfb-2e93-422c-8279-4d7caa485315",
   "metadata": {},
   "outputs": [],
   "source": [
    "X_train, X_test, y_train, y_test = train_test_split(X, y, train_size=0.7, random_state=42)"
   ]
  },
  {
   "cell_type": "code",
   "execution_count": 172,
   "id": "3fc9da72-efc8-465e-b068-1c7d53445a14",
   "metadata": {},
   "outputs": [
    {
     "data": {
      "text/plain": [
       "112.1879623984868"
      ]
     },
     "execution_count": 172,
     "metadata": {},
     "output_type": "execute_result"
    }
   ],
   "source": [
    "regression_model = LinearRegression()\n",
    "mse_scorer = make_scorer(mean_squared_error)\n",
    "mse_scores = cross_val_score(regression_model, X_train, y_train, scoring=mse_scorer, cv=5)\n",
    "mean_mse = np.mean(mse_scores)\n",
    "mean_mse"
   ]
  },
  {
   "cell_type": "code",
   "execution_count": 173,
   "id": "ce4fef47-b4f9-4437-af43-94dd14716235",
   "metadata": {},
   "outputs": [
    {
     "data": {
      "text/html": [
       "<table class=\"simpletable\">\n",
       "<caption>OLS Regression Results</caption>\n",
       "<tr>\n",
       "  <th>Dep. Variable:</th>         <td>%Growth</td>     <th>  R-squared:         </th> <td>   0.032</td>\n",
       "</tr>\n",
       "<tr>\n",
       "  <th>Model:</th>                   <td>OLS</td>       <th>  Adj. R-squared:    </th> <td>   0.009</td>\n",
       "</tr>\n",
       "<tr>\n",
       "  <th>Method:</th>             <td>Least Squares</td>  <th>  F-statistic:       </th> <td>   1.407</td>\n",
       "</tr>\n",
       "<tr>\n",
       "  <th>Date:</th>             <td>Fri, 23 Jun 2023</td> <th>  Prob (F-statistic):</th>  <td> 0.234</td> \n",
       "</tr>\n",
       "<tr>\n",
       "  <th>Time:</th>                 <td>09:06:27</td>     <th>  Log-Likelihood:    </th> <td> -656.81</td>\n",
       "</tr>\n",
       "<tr>\n",
       "  <th>No. Observations:</th>      <td>   176</td>      <th>  AIC:               </th> <td>   1324.</td>\n",
       "</tr>\n",
       "<tr>\n",
       "  <th>Df Residuals:</th>          <td>   171</td>      <th>  BIC:               </th> <td>   1339.</td>\n",
       "</tr>\n",
       "<tr>\n",
       "  <th>Df Model:</th>              <td>     4</td>      <th>                     </th>     <td> </td>   \n",
       "</tr>\n",
       "<tr>\n",
       "  <th>Covariance Type:</th>      <td>nonrobust</td>    <th>                     </th>     <td> </td>   \n",
       "</tr>\n",
       "</table>\n",
       "<table class=\"simpletable\">\n",
       "<tr>\n",
       "                  <td></td>                     <th>coef</th>     <th>std err</th>      <th>t</th>      <th>P>|t|</th>  <th>[0.025</th>    <th>0.975]</th>  \n",
       "</tr>\n",
       "<tr>\n",
       "  <th>const</th>                             <td>  -22.9364</td> <td>   13.342</td> <td>   -1.719</td> <td> 0.087</td> <td>  -49.273</td> <td>    3.400</td>\n",
       "</tr>\n",
       "<tr>\n",
       "  <th>%Gender</th>                           <td>    0.0045</td> <td>    0.047</td> <td>    0.096</td> <td> 0.923</td> <td>   -0.089</td> <td>    0.098</td>\n",
       "</tr>\n",
       "<tr>\n",
       "  <th>%Trade</th>                            <td>    0.0152</td> <td>    0.014</td> <td>    1.103</td> <td> 0.271</td> <td>   -0.012</td> <td>    0.042</td>\n",
       "</tr>\n",
       "<tr>\n",
       "  <th>GPI</th>                               <td>   21.2158</td> <td>   14.249</td> <td>    1.489</td> <td> 0.138</td> <td>   -6.912</td> <td>   49.343</td>\n",
       "</tr>\n",
       "<tr>\n",
       "  <th>Expected years of schooling, male</th> <td>    0.1922</td> <td>    0.395</td> <td>    0.487</td> <td> 0.627</td> <td>   -0.587</td> <td>    0.971</td>\n",
       "</tr>\n",
       "</table>\n",
       "<table class=\"simpletable\">\n",
       "<tr>\n",
       "  <th>Omnibus:</th>       <td>134.145</td> <th>  Durbin-Watson:     </th> <td>   1.979</td>\n",
       "</tr>\n",
       "<tr>\n",
       "  <th>Prob(Omnibus):</th> <td> 0.000</td>  <th>  Jarque-Bera (JB):  </th> <td>6640.341</td>\n",
       "</tr>\n",
       "<tr>\n",
       "  <th>Skew:</th>          <td> 2.124</td>  <th>  Prob(JB):          </th> <td>    0.00</td>\n",
       "</tr>\n",
       "<tr>\n",
       "  <th>Kurtosis:</th>      <td>32.790</td>  <th>  Cond. No.          </th> <td>3.02e+03</td>\n",
       "</tr>\n",
       "</table><br/><br/>Notes:<br/>[1] Standard Errors assume that the covariance matrix of the errors is correctly specified.<br/>[2] The condition number is large, 3.02e+03. This might indicate that there are<br/>strong multicollinearity or other numerical problems."
      ],
      "text/plain": [
       "<class 'statsmodels.iolib.summary.Summary'>\n",
       "\"\"\"\n",
       "                            OLS Regression Results                            \n",
       "==============================================================================\n",
       "Dep. Variable:                %Growth   R-squared:                       0.032\n",
       "Model:                            OLS   Adj. R-squared:                  0.009\n",
       "Method:                 Least Squares   F-statistic:                     1.407\n",
       "Date:                Fri, 23 Jun 2023   Prob (F-statistic):              0.234\n",
       "Time:                        09:06:27   Log-Likelihood:                -656.81\n",
       "No. Observations:                 176   AIC:                             1324.\n",
       "Df Residuals:                     171   BIC:                             1339.\n",
       "Df Model:                           4                                         \n",
       "Covariance Type:            nonrobust                                         \n",
       "=====================================================================================================\n",
       "                                        coef    std err          t      P>|t|      [0.025      0.975]\n",
       "-----------------------------------------------------------------------------------------------------\n",
       "const                               -22.9364     13.342     -1.719      0.087     -49.273       3.400\n",
       "%Gender                               0.0045      0.047      0.096      0.923      -0.089       0.098\n",
       "%Trade                                0.0152      0.014      1.103      0.271      -0.012       0.042\n",
       "GPI                                  21.2158     14.249      1.489      0.138      -6.912      49.343\n",
       "Expected years of schooling, male     0.1922      0.395      0.487      0.627      -0.587       0.971\n",
       "==============================================================================\n",
       "Omnibus:                      134.145   Durbin-Watson:                   1.979\n",
       "Prob(Omnibus):                  0.000   Jarque-Bera (JB):             6640.341\n",
       "Skew:                           2.124   Prob(JB):                         0.00\n",
       "Kurtosis:                      32.790   Cond. No.                     3.02e+03\n",
       "==============================================================================\n",
       "\n",
       "Notes:\n",
       "[1] Standard Errors assume that the covariance matrix of the errors is correctly specified.\n",
       "[2] The condition number is large, 3.02e+03. This might indicate that there are\n",
       "strong multicollinearity or other numerical problems.\n",
       "\"\"\""
      ]
     },
     "execution_count": 173,
     "metadata": {},
     "output_type": "execute_result"
    }
   ],
   "source": [
    "model2 = sm.OLS(y_train,X_train.loc[:,['const','%Gender', '%Trade', 'GPI', 'Expected years of schooling, male']])\n",
    "results2 = model2.fit()\n",
    "results2.summary()"
   ]
  },
  {
   "cell_type": "code",
   "execution_count": 174,
   "id": "7cb6e993-50a2-4b15-b641-6b88e84e7266",
   "metadata": {},
   "outputs": [],
   "source": [
    "y_train_pred = results2.predict(X_train.loc[:,['const','%Gender', '%Trade', 'GPI', 'Expected years of schooling, male']])\n",
    "y_test_pred = results2.predict(X_test.loc[:,['const','%Gender', '%Trade', 'GPI', 'Expected years of schooling, male']])"
   ]
  },
  {
   "cell_type": "code",
   "execution_count": 175,
   "id": "302641bc-81b5-4844-a35c-c013f567d8b2",
   "metadata": {},
   "outputs": [
    {
     "name": "stdout",
     "output_type": "stream",
     "text": [
      "MSE on train data: 102.08935493789419\n"
     ]
    }
   ],
   "source": [
    "print('MSE on train data:',mean_squared_error(y_train, y_train_pred))"
   ]
  },
  {
   "cell_type": "code",
   "execution_count": 176,
   "id": "a4232b3c-84fb-45b9-8b4c-d51168a6913e",
   "metadata": {},
   "outputs": [
    {
     "name": "stdout",
     "output_type": "stream",
     "text": [
      "MSE on test data: 42.782030442894126\n"
     ]
    }
   ],
   "source": [
    "print('MSE on test data:',mean_squared_error(y_test, y_test_pred))"
   ]
  },
  {
   "cell_type": "markdown",
   "id": "bad35d63-5dc3-4b6a-b392-790b5a5dd223",
   "metadata": {
    "tags": []
   },
   "source": [
    "### Regression 3 Senguino (2000)"
   ]
  },
  {
   "cell_type": "code",
   "execution_count": 177,
   "id": "0daf4253-a757-44fb-9e7a-bd0533e9d8f4",
   "metadata": {},
   "outputs": [],
   "source": [
    "X = df_ME .drop('%Growth',axis=1)\n",
    "y = df_ME ['%Growth']\n",
    "X = X.fillna(method = 'ffill', axis = 'rows')\n",
    "y = y.fillna(method = 'ffill', axis = 'rows')\n",
    "X = X.fillna(X.mean(numeric_only=True), axis = 'rows')\n",
    "y = y.fillna(y.mean(), axis = 'rows')\n",
    "X = sm.add_constant(X)"
   ]
  },
  {
   "cell_type": "code",
   "execution_count": 178,
   "id": "814be61b-6702-413f-be16-4b8a6e452bb8",
   "metadata": {},
   "outputs": [],
   "source": [
    "X = X.loc[:,['const','%Gender', '%Completion_F', '%Completion_M', 'GDP_C']]"
   ]
  },
  {
   "cell_type": "code",
   "execution_count": 179,
   "id": "823cad41-ccd4-4356-b05c-61d35fc13fd3",
   "metadata": {},
   "outputs": [],
   "source": [
    "X_train, X_test, y_train, y_test = train_test_split(X, y, train_size=0.7, random_state=42)"
   ]
  },
  {
   "cell_type": "code",
   "execution_count": 180,
   "id": "c2e69f4b-0f5d-47a9-8738-33364b6b30f3",
   "metadata": {},
   "outputs": [
    {
     "data": {
      "text/plain": [
       "113.70079680883737"
      ]
     },
     "execution_count": 180,
     "metadata": {},
     "output_type": "execute_result"
    }
   ],
   "source": [
    "regression_model = LinearRegression()\n",
    "mse_scorer = make_scorer(mean_squared_error)\n",
    "mse_scores = cross_val_score(regression_model, X_train, y_train, scoring=mse_scorer, cv=5)\n",
    "mean_mse = np.mean(mse_scores)\n",
    "mean_mse"
   ]
  },
  {
   "cell_type": "markdown",
   "id": "7197a8ba-45bd-4cfe-a438-6f5e7548913f",
   "metadata": {},
   "source": [
    "### Regression 4 Ghosh(2021)"
   ]
  },
  {
   "cell_type": "code",
   "execution_count": 181,
   "id": "9c3a7439-b192-420b-a946-13be317091ef",
   "metadata": {},
   "outputs": [],
   "source": [
    "X = df_ME .drop('%Growth',axis=1)\n",
    "y = df_ME ['%Growth']\n",
    "X = X.fillna(method = 'ffill', axis = 'rows')\n",
    "y = y.fillna(method = 'ffill', axis = 'rows')\n",
    "X = X.fillna(X.mean(numeric_only=True), axis = 'rows')\n",
    "y = y.fillna(y.mean(), axis = 'rows')\n",
    "X = sm.add_constant(X)"
   ]
  },
  {
   "cell_type": "code",
   "execution_count": 182,
   "id": "5cca8486-3600-4643-87c3-ef6a94f4bf7d",
   "metadata": {},
   "outputs": [],
   "source": [
    "X = X.loc[:,['const','%Gender', '%Trade', '%Trade_2']]"
   ]
  },
  {
   "cell_type": "code",
   "execution_count": 183,
   "id": "6778ffd7-db79-45ca-963f-4205fad1a66b",
   "metadata": {},
   "outputs": [],
   "source": [
    "X_train, X_test, y_train, y_test = train_test_split(X, y, train_size=0.7, random_state=42)"
   ]
  },
  {
   "cell_type": "code",
   "execution_count": 184,
   "id": "f882c881-5c08-4835-a84b-d02037e5233f",
   "metadata": {},
   "outputs": [
    {
     "data": {
      "text/plain": [
       "109.1947295699833"
      ]
     },
     "execution_count": 184,
     "metadata": {},
     "output_type": "execute_result"
    }
   ],
   "source": [
    "regression_model = LinearRegression()\n",
    "mse_scorer = make_scorer(mean_squared_error)\n",
    "mse_scores = cross_val_score(regression_model, X_train, y_train, scoring=mse_scorer, cv=5)\n",
    "mean_mse = np.mean(mse_scores)\n",
    "mean_mse"
   ]
  },
  {
   "cell_type": "code",
   "execution_count": 185,
   "id": "a2f40ff7-c4a9-4e4a-afeb-67c6b75d43d5",
   "metadata": {},
   "outputs": [
    {
     "data": {
      "text/html": [
       "<table class=\"simpletable\">\n",
       "<caption>OLS Regression Results</caption>\n",
       "<tr>\n",
       "  <th>Dep. Variable:</th>         <td>%Growth</td>     <th>  R-squared:         </th> <td>   0.019</td>\n",
       "</tr>\n",
       "<tr>\n",
       "  <th>Model:</th>                   <td>OLS</td>       <th>  Adj. R-squared:    </th> <td>   0.002</td>\n",
       "</tr>\n",
       "<tr>\n",
       "  <th>Method:</th>             <td>Least Squares</td>  <th>  F-statistic:       </th> <td>   1.101</td>\n",
       "</tr>\n",
       "<tr>\n",
       "  <th>Date:</th>             <td>Fri, 23 Jun 2023</td> <th>  Prob (F-statistic):</th>  <td> 0.350</td> \n",
       "</tr>\n",
       "<tr>\n",
       "  <th>Time:</th>                 <td>09:06:27</td>     <th>  Log-Likelihood:    </th> <td> -657.98</td>\n",
       "</tr>\n",
       "<tr>\n",
       "  <th>No. Observations:</th>      <td>   176</td>      <th>  AIC:               </th> <td>   1324.</td>\n",
       "</tr>\n",
       "<tr>\n",
       "  <th>Df Residuals:</th>          <td>   172</td>      <th>  BIC:               </th> <td>   1337.</td>\n",
       "</tr>\n",
       "<tr>\n",
       "  <th>Df Model:</th>              <td>     3</td>      <th>                     </th>     <td> </td>   \n",
       "</tr>\n",
       "<tr>\n",
       "  <th>Covariance Type:</th>      <td>nonrobust</td>    <th>                     </th>     <td> </td>   \n",
       "</tr>\n",
       "</table>\n",
       "<table class=\"simpletable\">\n",
       "<tr>\n",
       "      <td></td>        <th>coef</th>     <th>std err</th>      <th>t</th>      <th>P>|t|</th>  <th>[0.025</th>    <th>0.975]</th>  \n",
       "</tr>\n",
       "<tr>\n",
       "  <th>const</th>    <td>   -2.6583</td> <td>    3.489</td> <td>   -0.762</td> <td> 0.447</td> <td>   -9.544</td> <td>    4.228</td>\n",
       "</tr>\n",
       "<tr>\n",
       "  <th>%Gender</th>  <td>    0.0256</td> <td>    0.046</td> <td>    0.554</td> <td> 0.580</td> <td>   -0.066</td> <td>    0.117</td>\n",
       "</tr>\n",
       "<tr>\n",
       "  <th>%Trade</th>   <td>    0.0637</td> <td>    0.050</td> <td>    1.272</td> <td> 0.205</td> <td>   -0.035</td> <td>    0.162</td>\n",
       "</tr>\n",
       "<tr>\n",
       "  <th>%Trade_2</th> <td>   -0.0001</td> <td>    0.000</td> <td>   -0.988</td> <td> 0.324</td> <td>   -0.000</td> <td>    0.000</td>\n",
       "</tr>\n",
       "</table>\n",
       "<table class=\"simpletable\">\n",
       "<tr>\n",
       "  <th>Omnibus:</th>       <td>136.682</td> <th>  Durbin-Watson:     </th> <td>   1.962</td>\n",
       "</tr>\n",
       "<tr>\n",
       "  <th>Prob(Omnibus):</th> <td> 0.000</td>  <th>  Jarque-Bera (JB):  </th> <td>6451.682</td>\n",
       "</tr>\n",
       "<tr>\n",
       "  <th>Skew:</th>          <td> 2.211</td>  <th>  Prob(JB):          </th> <td>    0.00</td>\n",
       "</tr>\n",
       "<tr>\n",
       "  <th>Kurtosis:</th>      <td>32.329</td>  <th>  Cond. No.          </th> <td>1.20e+05</td>\n",
       "</tr>\n",
       "</table><br/><br/>Notes:<br/>[1] Standard Errors assume that the covariance matrix of the errors is correctly specified.<br/>[2] The condition number is large, 1.2e+05. This might indicate that there are<br/>strong multicollinearity or other numerical problems."
      ],
      "text/plain": [
       "<class 'statsmodels.iolib.summary.Summary'>\n",
       "\"\"\"\n",
       "                            OLS Regression Results                            \n",
       "==============================================================================\n",
       "Dep. Variable:                %Growth   R-squared:                       0.019\n",
       "Model:                            OLS   Adj. R-squared:                  0.002\n",
       "Method:                 Least Squares   F-statistic:                     1.101\n",
       "Date:                Fri, 23 Jun 2023   Prob (F-statistic):              0.350\n",
       "Time:                        09:06:27   Log-Likelihood:                -657.98\n",
       "No. Observations:                 176   AIC:                             1324.\n",
       "Df Residuals:                     172   BIC:                             1337.\n",
       "Df Model:                           3                                         \n",
       "Covariance Type:            nonrobust                                         \n",
       "==============================================================================\n",
       "                 coef    std err          t      P>|t|      [0.025      0.975]\n",
       "------------------------------------------------------------------------------\n",
       "const         -2.6583      3.489     -0.762      0.447      -9.544       4.228\n",
       "%Gender        0.0256      0.046      0.554      0.580      -0.066       0.117\n",
       "%Trade         0.0637      0.050      1.272      0.205      -0.035       0.162\n",
       "%Trade_2      -0.0001      0.000     -0.988      0.324      -0.000       0.000\n",
       "==============================================================================\n",
       "Omnibus:                      136.682   Durbin-Watson:                   1.962\n",
       "Prob(Omnibus):                  0.000   Jarque-Bera (JB):             6451.682\n",
       "Skew:                           2.211   Prob(JB):                         0.00\n",
       "Kurtosis:                      32.329   Cond. No.                     1.20e+05\n",
       "==============================================================================\n",
       "\n",
       "Notes:\n",
       "[1] Standard Errors assume that the covariance matrix of the errors is correctly specified.\n",
       "[2] The condition number is large, 1.2e+05. This might indicate that there are\n",
       "strong multicollinearity or other numerical problems.\n",
       "\"\"\""
      ]
     },
     "execution_count": 185,
     "metadata": {},
     "output_type": "execute_result"
    }
   ],
   "source": [
    "model4 = sm.OLS(y_train,X_train)\n",
    "results4 = model4.fit()\n",
    "results4.summary()"
   ]
  },
  {
   "cell_type": "code",
   "execution_count": 186,
   "id": "7f60a842-a6b4-4ccc-960d-0ee1080b3f8c",
   "metadata": {},
   "outputs": [],
   "source": [
    "y_train_pred = results4.predict(X_train)\n",
    "y_test_pred = results4.predict(X_test)"
   ]
  },
  {
   "cell_type": "code",
   "execution_count": 187,
   "id": "61ad75d2-8195-41d3-bc92-1eeebf2fd93b",
   "metadata": {},
   "outputs": [
    {
     "name": "stdout",
     "output_type": "stream",
     "text": [
      "MSE on train data: 103.46253806463152\n"
     ]
    }
   ],
   "source": [
    "print('MSE on train data:',mean_squared_error(y_train, y_train_pred))"
   ]
  },
  {
   "cell_type": "code",
   "execution_count": 188,
   "id": "375a34b0-6f81-4357-974b-e8b01e5d5ba3",
   "metadata": {},
   "outputs": [
    {
     "name": "stdout",
     "output_type": "stream",
     "text": [
      "MSE on test data: 38.341659056694255\n"
     ]
    }
   ],
   "source": [
    "print('MSE on test data:',mean_squared_error(y_test, y_test_pred))"
   ]
  },
  {
   "cell_type": "markdown",
   "id": "5ab4862f-9cb0-45a2-bf39-9deb531989ba",
   "metadata": {},
   "source": [
    "### Regression 5 Abida and Sghaier(2012)"
   ]
  },
  {
   "cell_type": "code",
   "execution_count": 189,
   "id": "15d716f8-e410-4167-b203-385626c075fd",
   "metadata": {},
   "outputs": [],
   "source": [
    "X = df_ME .drop('%Growth',axis=1)\n",
    "y = df_ME ['%Growth']\n",
    "X = X.fillna(method = 'ffill', axis = 'rows')\n",
    "y = y.fillna(method = 'ffill', axis = 'rows')\n",
    "X = X.fillna(X.mean(numeric_only=True), axis = 'rows')\n",
    "y = y.fillna(y.mean(), axis = 'rows')\n",
    "X = sm.add_constant(X)"
   ]
  },
  {
   "cell_type": "code",
   "execution_count": 190,
   "id": "e19ccada-f400-4238-bbcf-0377b3588fc0",
   "metadata": {},
   "outputs": [],
   "source": [
    "X = X.loc[:,['const', 'Gini index', '%Investments', '%Enrollment', '%Trade', 'GDP_C']]"
   ]
  },
  {
   "cell_type": "code",
   "execution_count": 191,
   "id": "7ab20d34-d7fa-40f3-afee-014cec322e71",
   "metadata": {},
   "outputs": [],
   "source": [
    "X_train, X_test, y_train, y_test = train_test_split(X, y, train_size=0.7, random_state=42)"
   ]
  },
  {
   "cell_type": "code",
   "execution_count": 192,
   "id": "e283d976-1a78-4184-ae86-3bb83e4826e0",
   "metadata": {},
   "outputs": [
    {
     "data": {
      "text/plain": [
       "110.22253806949134"
      ]
     },
     "execution_count": 192,
     "metadata": {},
     "output_type": "execute_result"
    }
   ],
   "source": [
    "regression_model = LinearRegression()\n",
    "mse_scorer = make_scorer(mean_squared_error)\n",
    "mse_scores = cross_val_score(regression_model, X_train, y_train, scoring=mse_scorer, cv=5)\n",
    "mean_mse = np.mean(mse_scores)\n",
    "mean_mse"
   ]
  },
  {
   "cell_type": "code",
   "execution_count": 193,
   "id": "171a3fa7-52c9-41e8-b194-fa1aa85ba2eb",
   "metadata": {},
   "outputs": [
    {
     "data": {
      "text/html": [
       "<table class=\"simpletable\">\n",
       "<caption>OLS Regression Results</caption>\n",
       "<tr>\n",
       "  <th>Dep. Variable:</th>         <td>%Growth</td>     <th>  R-squared:         </th> <td>   0.032</td>\n",
       "</tr>\n",
       "<tr>\n",
       "  <th>Model:</th>                   <td>OLS</td>       <th>  Adj. R-squared:    </th> <td>   0.003</td>\n",
       "</tr>\n",
       "<tr>\n",
       "  <th>Method:</th>             <td>Least Squares</td>  <th>  F-statistic:       </th> <td>   1.110</td>\n",
       "</tr>\n",
       "<tr>\n",
       "  <th>Date:</th>             <td>Fri, 23 Jun 2023</td> <th>  Prob (F-statistic):</th>  <td> 0.357</td> \n",
       "</tr>\n",
       "<tr>\n",
       "  <th>Time:</th>                 <td>09:06:28</td>     <th>  Log-Likelihood:    </th> <td> -656.83</td>\n",
       "</tr>\n",
       "<tr>\n",
       "  <th>No. Observations:</th>      <td>   176</td>      <th>  AIC:               </th> <td>   1326.</td>\n",
       "</tr>\n",
       "<tr>\n",
       "  <th>Df Residuals:</th>          <td>   170</td>      <th>  BIC:               </th> <td>   1345.</td>\n",
       "</tr>\n",
       "<tr>\n",
       "  <th>Df Model:</th>              <td>     5</td>      <th>                     </th>     <td> </td>   \n",
       "</tr>\n",
       "<tr>\n",
       "  <th>Covariance Type:</th>      <td>nonrobust</td>    <th>                     </th>     <td> </td>   \n",
       "</tr>\n",
       "</table>\n",
       "<table class=\"simpletable\">\n",
       "<tr>\n",
       "        <td></td>          <th>coef</th>     <th>std err</th>      <th>t</th>      <th>P>|t|</th>  <th>[0.025</th>    <th>0.975]</th>  \n",
       "</tr>\n",
       "<tr>\n",
       "  <th>const</th>        <td>   -0.5757</td> <td>    7.464</td> <td>   -0.077</td> <td> 0.939</td> <td>  -15.309</td> <td>   14.158</td>\n",
       "</tr>\n",
       "<tr>\n",
       "  <th>Gini index</th>   <td>   -0.0834</td> <td>    0.170</td> <td>   -0.490</td> <td> 0.625</td> <td>   -0.420</td> <td>    0.253</td>\n",
       "</tr>\n",
       "<tr>\n",
       "  <th>%Investments</th> <td>   -0.0170</td> <td>    0.130</td> <td>   -0.131</td> <td> 0.896</td> <td>   -0.274</td> <td>    0.240</td>\n",
       "</tr>\n",
       "<tr>\n",
       "  <th>%Enrollment</th>  <td>    0.0500</td> <td>    0.052</td> <td>    0.955</td> <td> 0.341</td> <td>   -0.053</td> <td>    0.153</td>\n",
       "</tr>\n",
       "<tr>\n",
       "  <th>%Trade</th>       <td>    0.0155</td> <td>    0.016</td> <td>    0.986</td> <td> 0.326</td> <td>   -0.016</td> <td>    0.046</td>\n",
       "</tr>\n",
       "<tr>\n",
       "  <th>GDP_C</th>        <td>  4.08e-05</td> <td> 5.94e-05</td> <td>    0.687</td> <td> 0.493</td> <td>-7.65e-05</td> <td>    0.000</td>\n",
       "</tr>\n",
       "</table>\n",
       "<table class=\"simpletable\">\n",
       "<tr>\n",
       "  <th>Omnibus:</th>       <td>137.247</td> <th>  Durbin-Watson:     </th> <td>   1.965</td>\n",
       "</tr>\n",
       "<tr>\n",
       "  <th>Prob(Omnibus):</th> <td> 0.000</td>  <th>  Jarque-Bera (JB):  </th> <td>6790.452</td>\n",
       "</tr>\n",
       "<tr>\n",
       "  <th>Skew:</th>          <td> 2.209</td>  <th>  Prob(JB):          </th> <td>    0.00</td>\n",
       "</tr>\n",
       "<tr>\n",
       "  <th>Kurtosis:</th>      <td>33.107</td>  <th>  Cond. No.          </th> <td>2.08e+05</td>\n",
       "</tr>\n",
       "</table><br/><br/>Notes:<br/>[1] Standard Errors assume that the covariance matrix of the errors is correctly specified.<br/>[2] The condition number is large, 2.08e+05. This might indicate that there are<br/>strong multicollinearity or other numerical problems."
      ],
      "text/plain": [
       "<class 'statsmodels.iolib.summary.Summary'>\n",
       "\"\"\"\n",
       "                            OLS Regression Results                            \n",
       "==============================================================================\n",
       "Dep. Variable:                %Growth   R-squared:                       0.032\n",
       "Model:                            OLS   Adj. R-squared:                  0.003\n",
       "Method:                 Least Squares   F-statistic:                     1.110\n",
       "Date:                Fri, 23 Jun 2023   Prob (F-statistic):              0.357\n",
       "Time:                        09:06:28   Log-Likelihood:                -656.83\n",
       "No. Observations:                 176   AIC:                             1326.\n",
       "Df Residuals:                     170   BIC:                             1345.\n",
       "Df Model:                           5                                         \n",
       "Covariance Type:            nonrobust                                         \n",
       "================================================================================\n",
       "                   coef    std err          t      P>|t|      [0.025      0.975]\n",
       "--------------------------------------------------------------------------------\n",
       "const           -0.5757      7.464     -0.077      0.939     -15.309      14.158\n",
       "Gini index      -0.0834      0.170     -0.490      0.625      -0.420       0.253\n",
       "%Investments    -0.0170      0.130     -0.131      0.896      -0.274       0.240\n",
       "%Enrollment      0.0500      0.052      0.955      0.341      -0.053       0.153\n",
       "%Trade           0.0155      0.016      0.986      0.326      -0.016       0.046\n",
       "GDP_C          4.08e-05   5.94e-05      0.687      0.493   -7.65e-05       0.000\n",
       "==============================================================================\n",
       "Omnibus:                      137.247   Durbin-Watson:                   1.965\n",
       "Prob(Omnibus):                  0.000   Jarque-Bera (JB):             6790.452\n",
       "Skew:                           2.209   Prob(JB):                         0.00\n",
       "Kurtosis:                      33.107   Cond. No.                     2.08e+05\n",
       "==============================================================================\n",
       "\n",
       "Notes:\n",
       "[1] Standard Errors assume that the covariance matrix of the errors is correctly specified.\n",
       "[2] The condition number is large, 2.08e+05. This might indicate that there are\n",
       "strong multicollinearity or other numerical problems.\n",
       "\"\"\""
      ]
     },
     "execution_count": 193,
     "metadata": {},
     "output_type": "execute_result"
    }
   ],
   "source": [
    "model5 = sm.OLS(y_train,X_train)\n",
    "results5 = model5.fit()\n",
    "results5.summary()"
   ]
  },
  {
   "cell_type": "code",
   "execution_count": 194,
   "id": "3e93e84e-ad8a-4be8-b3cc-86be1e4e507e",
   "metadata": {},
   "outputs": [],
   "source": [
    "y_train_pred = results5.predict(X_train)\n",
    "y_test_pred = results5.predict(X_test)"
   ]
  },
  {
   "cell_type": "code",
   "execution_count": 195,
   "id": "85639466-0a7e-4ff0-a1f5-9976e7035824",
   "metadata": {},
   "outputs": [
    {
     "name": "stdout",
     "output_type": "stream",
     "text": [
      "MSE on train data: 102.11751825737251\n"
     ]
    }
   ],
   "source": [
    "print('MSE on train data:',mean_squared_error(y_train, y_train_pred))"
   ]
  },
  {
   "cell_type": "code",
   "execution_count": 196,
   "id": "47e3426f-e9e2-447b-be67-99e8b9129301",
   "metadata": {},
   "outputs": [
    {
     "name": "stdout",
     "output_type": "stream",
     "text": [
      "MSE on test data: 41.52287569940558\n"
     ]
    }
   ],
   "source": [
    "print('MSE on test data:',mean_squared_error(y_test, y_test_pred))"
   ]
  },
  {
   "cell_type": "markdown",
   "id": "b9f887b9-f4e1-4938-941a-257c30599af1",
   "metadata": {},
   "source": [
    "### Regression 6 Vo et al (2019)"
   ]
  },
  {
   "cell_type": "code",
   "execution_count": 197,
   "id": "e8505a54-6219-4bd9-9b4b-cd503b32ac39",
   "metadata": {},
   "outputs": [],
   "source": [
    "X = df_ME .drop('%Growth',axis=1)\n",
    "y = df_ME ['%Growth']\n",
    "X = X.fillna(method = 'ffill', axis = 'rows')\n",
    "y = y.fillna(method = 'ffill', axis = 'rows')\n",
    "X = X.fillna(X.mean(numeric_only=True), axis = 'rows')\n",
    "y = y.fillna(y.mean(), axis = 'rows')\n",
    "X = sm.add_constant(X)"
   ]
  },
  {
   "cell_type": "code",
   "execution_count": 198,
   "id": "5e728f40-91a6-43a1-b950-88b60ba796e0",
   "metadata": {},
   "outputs": [],
   "source": [
    "X = X.loc[:,['const', 'Gini index', '%Agriculture', '%Industry', '%Service', '%Investments']]"
   ]
  },
  {
   "cell_type": "code",
   "execution_count": 199,
   "id": "5c2cf579-f6b2-4ea3-93bb-157765b0d400",
   "metadata": {},
   "outputs": [],
   "source": [
    "X_train, X_test, y_train, y_test = train_test_split(X, y, train_size=0.7, random_state=42)"
   ]
  },
  {
   "cell_type": "code",
   "execution_count": 200,
   "id": "a7679f45-0c2f-4e31-bc61-265ee7510b04",
   "metadata": {},
   "outputs": [
    {
     "data": {
      "text/plain": [
       "114.67800783429252"
      ]
     },
     "execution_count": 200,
     "metadata": {},
     "output_type": "execute_result"
    }
   ],
   "source": [
    "regression_model = LinearRegression()\n",
    "mse_scorer = make_scorer(mean_squared_error)\n",
    "mse_scores = cross_val_score(regression_model, X_train, y_train, scoring=mse_scorer, cv=5)\n",
    "mean_mse = np.mean(mse_scores)\n",
    "mean_mse"
   ]
  },
  {
   "cell_type": "markdown",
   "id": "0fe3632c-dde6-4a87-bdab-3c1b67814d2c",
   "metadata": {},
   "source": [
    "### Regression 7 Knowles(2001)"
   ]
  },
  {
   "cell_type": "code",
   "execution_count": 201,
   "id": "d304af27-12b4-4e01-a4d8-e81e510c9cb4",
   "metadata": {},
   "outputs": [],
   "source": [
    "X = df_ME .drop('%Growth',axis=1)\n",
    "y = df_ME ['%Growth']\n",
    "X = X.fillna(method = 'ffill', axis = 'rows')\n",
    "y = y.fillna(method = 'ffill', axis = 'rows')\n",
    "X = X.fillna(X.mean(numeric_only=True), axis = 'rows')\n",
    "y = y.fillna(y.mean(), axis = 'rows')\n",
    "X = sm.add_constant(X)"
   ]
  },
  {
   "cell_type": "code",
   "execution_count": 202,
   "id": "03eed0ea-f4f3-44cd-9d5a-212885337aa1",
   "metadata": {},
   "outputs": [],
   "source": [
    "X = X.loc[:,['const', 'Gini index', 'GDP_C', '%Completion_F', '%Completion_M', '%Investments']]"
   ]
  },
  {
   "cell_type": "code",
   "execution_count": 203,
   "id": "39a83eb4-1a03-45c9-8ac2-aec640fa0850",
   "metadata": {},
   "outputs": [],
   "source": [
    "X_train, X_test, y_train, y_test = train_test_split(X, y, train_size=0.7, random_state=42)"
   ]
  },
  {
   "cell_type": "code",
   "execution_count": 204,
   "id": "6ad4a01a-eeb2-4341-8893-8526ada5cf8e",
   "metadata": {},
   "outputs": [
    {
     "data": {
      "text/plain": [
       "115.41572121925151"
      ]
     },
     "execution_count": 204,
     "metadata": {},
     "output_type": "execute_result"
    }
   ],
   "source": [
    "regression_model = LinearRegression()\n",
    "mse_scorer = make_scorer(mean_squared_error)\n",
    "mse_scores = cross_val_score(regression_model, X_train, y_train, scoring=mse_scorer, cv=5)\n",
    "mean_mse = np.mean(mse_scores)\n",
    "mean_mse"
   ]
  },
  {
   "cell_type": "markdown",
   "id": "a6cca2aa-f0f8-4d32-ba71-aa8170c28075",
   "metadata": {
    "tags": []
   },
   "source": [
    "### Regression 8 Lee and Son(2016)"
   ]
  },
  {
   "cell_type": "code",
   "execution_count": 205,
   "id": "fc8950c5-c5c1-4db9-83f8-438d9feb4826",
   "metadata": {},
   "outputs": [],
   "source": [
    "X = df_ME .drop('%Growth',axis=1)\n",
    "y = df_ME ['%Growth']\n",
    "X = X.fillna(method = 'ffill', axis = 'rows')\n",
    "y = y.fillna(method = 'ffill', axis = 'rows')\n",
    "X = X.fillna(X.mean(numeric_only=True), axis = 'rows')\n",
    "y = y.fillna(y.mean(), axis = 'rows')\n",
    "X = sm.add_constant(X)"
   ]
  },
  {
   "cell_type": "code",
   "execution_count": 206,
   "id": "c3f6a8b6-d97a-4243-8c20-e3516941d28c",
   "metadata": {},
   "outputs": [],
   "source": [
    "X = X.loc[:,['const', 'Gini index', 'Expected years of schooling', '%Investments', '%Trade', '%Expenditures', 'GDP_C']]"
   ]
  },
  {
   "cell_type": "code",
   "execution_count": 207,
   "id": "cad409c2-9db1-48e5-ac3a-2c66c6af691b",
   "metadata": {},
   "outputs": [],
   "source": [
    "X_train, X_test, y_train, y_test = train_test_split(X, y, train_size=0.7, random_state=42)"
   ]
  },
  {
   "cell_type": "code",
   "execution_count": 208,
   "id": "34b8d797-3b28-4b60-b7c7-4f5aab0573f6",
   "metadata": {},
   "outputs": [
    {
     "data": {
      "text/plain": [
       "112.55250584670812"
      ]
     },
     "execution_count": 208,
     "metadata": {},
     "output_type": "execute_result"
    }
   ],
   "source": [
    "regression_model = LinearRegression()\n",
    "mse_scorer = make_scorer(mean_squared_error)\n",
    "mse_scores = cross_val_score(regression_model, X_train, y_train, scoring=mse_scorer, cv=5)\n",
    "mean_mse = np.mean(mse_scores)\n",
    "mean_mse"
   ]
  },
  {
   "cell_type": "markdown",
   "id": "a7a5be00-6c48-41c8-89c3-84e965dd3e8c",
   "metadata": {
    "tags": []
   },
   "source": [
    "## South Asia, East Asia and the Pacific"
   ]
  },
  {
   "cell_type": "code",
   "execution_count": 209,
   "id": "f8c85429-2374-43a7-99b7-4c0a54abc22c",
   "metadata": {},
   "outputs": [],
   "source": [
    "df_EA = df.loc[df['Region'].isin(['East Asia & Pacific','South Asia'])]"
   ]
  },
  {
   "cell_type": "markdown",
   "id": "f1dd1ad8-ccf7-4d3b-b290-73f4e7cf1284",
   "metadata": {
    "tags": []
   },
   "source": [
    "### Regression 1 Klasen and Lamanna(2009)"
   ]
  },
  {
   "cell_type": "code",
   "execution_count": 210,
   "id": "3e05da35-d268-4373-985f-045ac877a0c0",
   "metadata": {},
   "outputs": [],
   "source": [
    "X = df_EA .drop('%Growth',axis=1)\n",
    "y = df_EA ['%Growth']\n",
    "X = X.fillna(method = 'ffill', axis = 'rows')\n",
    "y = y.fillna(method = 'ffill', axis = 'rows')\n",
    "X = X.fillna(X.mean(numeric_only=True), axis = 'rows')\n",
    "y = y.fillna(y.mean(), axis = 'rows')\n",
    "X = sm.add_constant(X)"
   ]
  },
  {
   "cell_type": "code",
   "execution_count": 211,
   "id": "c91c07a5-7184-43c8-94a2-93af206e1443",
   "metadata": {},
   "outputs": [],
   "source": [
    "X = X.loc[:,['const','%Gender', '%Pop_Growth', '%WorkingPop', '%Investments', '%Trade', 'GPI', 'Expected years of schooling, male']]"
   ]
  },
  {
   "cell_type": "code",
   "execution_count": 212,
   "id": "76ff3c03-18b6-49ad-bdbf-0eee0d5f47b4",
   "metadata": {},
   "outputs": [],
   "source": [
    "X_train, X_test, y_train, y_test = train_test_split(X, y, train_size=0.7, random_state=42)"
   ]
  },
  {
   "cell_type": "code",
   "execution_count": 213,
   "id": "ed66edfe-78b7-40da-b08d-fbda228dbcac",
   "metadata": {},
   "outputs": [
    {
     "data": {
      "text/plain": [
       "20.085747873344182"
      ]
     },
     "execution_count": 213,
     "metadata": {},
     "output_type": "execute_result"
    }
   ],
   "source": [
    "regression_model = LinearRegression()\n",
    "mse_scorer = make_scorer(mean_squared_error)\n",
    "mse_scores = cross_val_score(regression_model, X_train, y_train, scoring=mse_scorer, cv=5)\n",
    "mean_mse = np.mean(mse_scores)\n",
    "mean_mse"
   ]
  },
  {
   "cell_type": "code",
   "execution_count": 214,
   "id": "a18a6096-2ecc-4a99-aaa7-bb98ff8a7dba",
   "metadata": {},
   "outputs": [
    {
     "data": {
      "text/html": [
       "<table class=\"simpletable\">\n",
       "<caption>OLS Regression Results</caption>\n",
       "<tr>\n",
       "  <th>Dep. Variable:</th>         <td>%Growth</td>     <th>  R-squared:         </th> <td>   0.036</td>\n",
       "</tr>\n",
       "<tr>\n",
       "  <th>Model:</th>                   <td>OLS</td>       <th>  Adj. R-squared:    </th> <td>   0.013</td>\n",
       "</tr>\n",
       "<tr>\n",
       "  <th>Method:</th>             <td>Least Squares</td>  <th>  F-statistic:       </th> <td>   1.588</td>\n",
       "</tr>\n",
       "<tr>\n",
       "  <th>Date:</th>             <td>Fri, 23 Jun 2023</td> <th>  Prob (F-statistic):</th>  <td> 0.138</td> \n",
       "</tr>\n",
       "<tr>\n",
       "  <th>Time:</th>                 <td>09:06:28</td>     <th>  Log-Likelihood:    </th> <td> -876.27</td>\n",
       "</tr>\n",
       "<tr>\n",
       "  <th>No. Observations:</th>      <td>   302</td>      <th>  AIC:               </th> <td>   1769.</td>\n",
       "</tr>\n",
       "<tr>\n",
       "  <th>Df Residuals:</th>          <td>   294</td>      <th>  BIC:               </th> <td>   1798.</td>\n",
       "</tr>\n",
       "<tr>\n",
       "  <th>Df Model:</th>              <td>     7</td>      <th>                     </th>     <td> </td>   \n",
       "</tr>\n",
       "<tr>\n",
       "  <th>Covariance Type:</th>      <td>nonrobust</td>    <th>                     </th>     <td> </td>   \n",
       "</tr>\n",
       "</table>\n",
       "<table class=\"simpletable\">\n",
       "<tr>\n",
       "                  <td></td>                     <th>coef</th>     <th>std err</th>      <th>t</th>      <th>P>|t|</th>  <th>[0.025</th>    <th>0.975]</th>  \n",
       "</tr>\n",
       "<tr>\n",
       "  <th>const</th>                             <td>   -3.6255</td> <td>    4.181</td> <td>   -0.867</td> <td> 0.387</td> <td>  -11.855</td> <td>    4.604</td>\n",
       "</tr>\n",
       "<tr>\n",
       "  <th>%Gender</th>                           <td>    0.0098</td> <td>    0.018</td> <td>    0.558</td> <td> 0.577</td> <td>   -0.025</td> <td>    0.045</td>\n",
       "</tr>\n",
       "<tr>\n",
       "  <th>%Pop_Growth</th>                       <td>    0.6136</td> <td>    0.241</td> <td>    2.542</td> <td> 0.012</td> <td>    0.139</td> <td>    1.089</td>\n",
       "</tr>\n",
       "<tr>\n",
       "  <th>%WorkingPop</th>                       <td>    0.0077</td> <td>    0.052</td> <td>    0.146</td> <td> 0.884</td> <td>   -0.096</td> <td>    0.111</td>\n",
       "</tr>\n",
       "<tr>\n",
       "  <th>%Investments</th>                      <td>    0.0577</td> <td>    0.047</td> <td>    1.232</td> <td> 0.219</td> <td>   -0.034</td> <td>    0.150</td>\n",
       "</tr>\n",
       "<tr>\n",
       "  <th>%Trade</th>                            <td>   -0.0036</td> <td>    0.005</td> <td>   -0.755</td> <td> 0.451</td> <td>   -0.013</td> <td>    0.006</td>\n",
       "</tr>\n",
       "<tr>\n",
       "  <th>GPI</th>                               <td>    7.6461</td> <td>    3.515</td> <td>    2.175</td> <td> 0.030</td> <td>    0.727</td> <td>   14.565</td>\n",
       "</tr>\n",
       "<tr>\n",
       "  <th>Expected years of schooling, male</th> <td>   -0.1565</td> <td>    0.124</td> <td>   -1.260</td> <td> 0.209</td> <td>   -0.401</td> <td>    0.088</td>\n",
       "</tr>\n",
       "</table>\n",
       "<table class=\"simpletable\">\n",
       "<tr>\n",
       "  <th>Omnibus:</th>       <td>244.841</td> <th>  Durbin-Watson:     </th> <td>   2.080</td>\n",
       "</tr>\n",
       "<tr>\n",
       "  <th>Prob(Omnibus):</th> <td> 0.000</td>  <th>  Jarque-Bera (JB):  </th> <td>6086.370</td>\n",
       "</tr>\n",
       "<tr>\n",
       "  <th>Skew:</th>          <td>-3.073</td>  <th>  Prob(JB):          </th> <td>    0.00</td>\n",
       "</tr>\n",
       "<tr>\n",
       "  <th>Kurtosis:</th>      <td>24.116</td>  <th>  Cond. No.          </th> <td>2.84e+03</td>\n",
       "</tr>\n",
       "</table><br/><br/>Notes:<br/>[1] Standard Errors assume that the covariance matrix of the errors is correctly specified.<br/>[2] The condition number is large, 2.84e+03. This might indicate that there are<br/>strong multicollinearity or other numerical problems."
      ],
      "text/plain": [
       "<class 'statsmodels.iolib.summary.Summary'>\n",
       "\"\"\"\n",
       "                            OLS Regression Results                            \n",
       "==============================================================================\n",
       "Dep. Variable:                %Growth   R-squared:                       0.036\n",
       "Model:                            OLS   Adj. R-squared:                  0.013\n",
       "Method:                 Least Squares   F-statistic:                     1.588\n",
       "Date:                Fri, 23 Jun 2023   Prob (F-statistic):              0.138\n",
       "Time:                        09:06:28   Log-Likelihood:                -876.27\n",
       "No. Observations:                 302   AIC:                             1769.\n",
       "Df Residuals:                     294   BIC:                             1798.\n",
       "Df Model:                           7                                         \n",
       "Covariance Type:            nonrobust                                         \n",
       "=====================================================================================================\n",
       "                                        coef    std err          t      P>|t|      [0.025      0.975]\n",
       "-----------------------------------------------------------------------------------------------------\n",
       "const                                -3.6255      4.181     -0.867      0.387     -11.855       4.604\n",
       "%Gender                               0.0098      0.018      0.558      0.577      -0.025       0.045\n",
       "%Pop_Growth                           0.6136      0.241      2.542      0.012       0.139       1.089\n",
       "%WorkingPop                           0.0077      0.052      0.146      0.884      -0.096       0.111\n",
       "%Investments                          0.0577      0.047      1.232      0.219      -0.034       0.150\n",
       "%Trade                               -0.0036      0.005     -0.755      0.451      -0.013       0.006\n",
       "GPI                                   7.6461      3.515      2.175      0.030       0.727      14.565\n",
       "Expected years of schooling, male    -0.1565      0.124     -1.260      0.209      -0.401       0.088\n",
       "==============================================================================\n",
       "Omnibus:                      244.841   Durbin-Watson:                   2.080\n",
       "Prob(Omnibus):                  0.000   Jarque-Bera (JB):             6086.370\n",
       "Skew:                          -3.073   Prob(JB):                         0.00\n",
       "Kurtosis:                      24.116   Cond. No.                     2.84e+03\n",
       "==============================================================================\n",
       "\n",
       "Notes:\n",
       "[1] Standard Errors assume that the covariance matrix of the errors is correctly specified.\n",
       "[2] The condition number is large, 2.84e+03. This might indicate that there are\n",
       "strong multicollinearity or other numerical problems.\n",
       "\"\"\""
      ]
     },
     "execution_count": 214,
     "metadata": {},
     "output_type": "execute_result"
    }
   ],
   "source": [
    "model1 = sm.OLS(y_train,X_train)\n",
    "results1 = model1.fit()\n",
    "results1.summary()"
   ]
  },
  {
   "cell_type": "code",
   "execution_count": 215,
   "id": "ecd64ad6-6a60-4428-8ee4-fa2ab80cf526",
   "metadata": {},
   "outputs": [],
   "source": [
    "y_train_pred = results1.predict(X_train)\n",
    "y_test_pred = results1.predict(X_test)"
   ]
  },
  {
   "cell_type": "code",
   "execution_count": 216,
   "id": "77ec2862-9b2d-4a7d-97df-cd086073e04a",
   "metadata": {},
   "outputs": [
    {
     "name": "stdout",
     "output_type": "stream",
     "text": [
      "MSE on train data: 19.398809256438074\n"
     ]
    }
   ],
   "source": [
    "print('MSE on train data:',mean_squared_error(y_train, y_train_pred))"
   ]
  },
  {
   "cell_type": "code",
   "execution_count": 217,
   "id": "b38a6520-4c1e-473c-bf21-170c0c04b41a",
   "metadata": {},
   "outputs": [
    {
     "name": "stdout",
     "output_type": "stream",
     "text": [
      "MSE on test data: 43.31395390191771\n"
     ]
    }
   ],
   "source": [
    "print('MSE on test data:',mean_squared_error(y_test, y_test_pred))"
   ]
  },
  {
   "cell_type": "markdown",
   "id": "2df620f7-07eb-4efe-a2fb-4a0629014cb9",
   "metadata": {
    "tags": []
   },
   "source": [
    "### Regression 2 Klasen and Lamanna(2009) reduced form"
   ]
  },
  {
   "cell_type": "code",
   "execution_count": 218,
   "id": "7e6de397-f60c-4e4a-86b0-b369adbbaca0",
   "metadata": {},
   "outputs": [],
   "source": [
    "X = df_EA .drop('%Growth',axis=1)\n",
    "y = df_EA ['%Growth']\n",
    "X = X.fillna(method = 'ffill', axis = 'rows')\n",
    "y = y.fillna(method = 'ffill', axis = 'rows')\n",
    "X = X.fillna(X.mean(numeric_only=True), axis = 'rows')\n",
    "y = y.fillna(y.mean(), axis = 'rows')\n",
    "X = sm.add_constant(X)"
   ]
  },
  {
   "cell_type": "code",
   "execution_count": 219,
   "id": "234c0f83-7ef4-4cc7-abcf-1a05cb92dceb",
   "metadata": {},
   "outputs": [],
   "source": [
    "X = X.loc[:,['const','%Gender', '%Trade', 'GPI', 'Expected years of schooling, male']]"
   ]
  },
  {
   "cell_type": "code",
   "execution_count": 220,
   "id": "a112f704-bc8a-46fe-aeeb-7b674275844d",
   "metadata": {},
   "outputs": [],
   "source": [
    "X_train, X_test, y_train, y_test = train_test_split(X, y, train_size=0.7, random_state=42)"
   ]
  },
  {
   "cell_type": "code",
   "execution_count": 221,
   "id": "ad079ae5-d0bc-47a2-b1a4-d0f4f4648594",
   "metadata": {},
   "outputs": [
    {
     "data": {
      "text/plain": [
       "20.281421253085995"
      ]
     },
     "execution_count": 221,
     "metadata": {},
     "output_type": "execute_result"
    }
   ],
   "source": [
    "regression_model = LinearRegression()\n",
    "mse_scorer = make_scorer(mean_squared_error)\n",
    "mse_scores = cross_val_score(regression_model, X_train, y_train, scoring=mse_scorer, cv=5)\n",
    "mean_mse = np.mean(mse_scores)\n",
    "mean_mse"
   ]
  },
  {
   "cell_type": "markdown",
   "id": "2c9d3c98-ecd8-4377-8a6a-4fa05de3d666",
   "metadata": {
    "tags": []
   },
   "source": [
    "### Regression 3 Senguino (2000)"
   ]
  },
  {
   "cell_type": "code",
   "execution_count": 222,
   "id": "22a3b637-304b-441a-b345-45e955aa466c",
   "metadata": {},
   "outputs": [],
   "source": [
    "X = df_EA .drop('%Growth',axis=1)\n",
    "y = df_EA ['%Growth']\n",
    "X = X.fillna(method = 'ffill', axis = 'rows')\n",
    "y = y.fillna(method = 'ffill', axis = 'rows')\n",
    "X = X.fillna(X.mean(numeric_only=True), axis = 'rows')\n",
    "y = y.fillna(y.mean(), axis = 'rows')\n",
    "X = sm.add_constant(X)"
   ]
  },
  {
   "cell_type": "code",
   "execution_count": 223,
   "id": "68ef5093-b6d7-437f-b270-7c3da3fcb792",
   "metadata": {},
   "outputs": [],
   "source": [
    "X = X.loc[:,['const','%Gender', '%Completion_F', '%Completion_M', 'GDP_C']]"
   ]
  },
  {
   "cell_type": "code",
   "execution_count": 224,
   "id": "7ae6be3e-9f43-4f62-852b-3bae6ce961b2",
   "metadata": {},
   "outputs": [],
   "source": [
    "X_train, X_test, y_train, y_test = train_test_split(X, y, train_size=0.7, random_state=42)"
   ]
  },
  {
   "cell_type": "code",
   "execution_count": 225,
   "id": "41f43cdf-1a2e-4e1a-aa6a-911afad88aa0",
   "metadata": {},
   "outputs": [
    {
     "data": {
      "text/plain": [
       "20.08773368743411"
      ]
     },
     "execution_count": 225,
     "metadata": {},
     "output_type": "execute_result"
    }
   ],
   "source": [
    "regression_model = LinearRegression()\n",
    "mse_scorer = make_scorer(mean_squared_error)\n",
    "mse_scores = cross_val_score(regression_model, X_train, y_train, scoring=mse_scorer, cv=5)\n",
    "mean_mse = np.mean(mse_scores)\n",
    "mean_mse"
   ]
  },
  {
   "cell_type": "markdown",
   "id": "4997fc99-880f-4ee6-afb5-22bf30705fbf",
   "metadata": {},
   "source": [
    "### Regression 4 Ghosh(2021)"
   ]
  },
  {
   "cell_type": "code",
   "execution_count": 226,
   "id": "fdb51316-094b-460c-a94f-f71aa822cd8c",
   "metadata": {},
   "outputs": [],
   "source": [
    "X = df_EA .drop('%Growth',axis=1)\n",
    "y = df_EA ['%Growth']\n",
    "X = X.fillna(method = 'ffill', axis = 'rows')\n",
    "y = y.fillna(method = 'ffill', axis = 'rows')\n",
    "X = X.fillna(X.mean(numeric_only=True), axis = 'rows')\n",
    "y = y.fillna(y.mean(), axis = 'rows')\n",
    "X = sm.add_constant(X)"
   ]
  },
  {
   "cell_type": "code",
   "execution_count": 227,
   "id": "c4ffe149-450a-4f73-b13a-ce22c66ff0a1",
   "metadata": {},
   "outputs": [],
   "source": [
    "X = X.loc[:,['const','%Gender', '%Trade', '%Trade_2']]"
   ]
  },
  {
   "cell_type": "code",
   "execution_count": 228,
   "id": "3206eeaf-5dd4-49e6-9d92-6d16f8711207",
   "metadata": {},
   "outputs": [],
   "source": [
    "X_train, X_test, y_train, y_test = train_test_split(X, y, train_size=0.7, random_state=42)"
   ]
  },
  {
   "cell_type": "code",
   "execution_count": 229,
   "id": "181b199e-bb1d-4e48-9185-e85b20f3dc6d",
   "metadata": {},
   "outputs": [
    {
     "data": {
      "text/plain": [
       "20.455742919487438"
      ]
     },
     "execution_count": 229,
     "metadata": {},
     "output_type": "execute_result"
    }
   ],
   "source": [
    "regression_model = LinearRegression()\n",
    "mse_scorer = make_scorer(mean_squared_error)\n",
    "mse_scores = cross_val_score(regression_model, X_train, y_train, scoring=mse_scorer, cv=5)\n",
    "mean_mse = np.mean(mse_scores)\n",
    "mean_mse"
   ]
  },
  {
   "cell_type": "markdown",
   "id": "947fec28-9f96-4e25-8831-b280b47d9652",
   "metadata": {
    "tags": []
   },
   "source": [
    "### Regression 5 Abida and Sghaier(2012)"
   ]
  },
  {
   "cell_type": "code",
   "execution_count": 230,
   "id": "28d359a5-9ace-4991-96d7-8ca62808aaea",
   "metadata": {},
   "outputs": [],
   "source": [
    "X = df_EA .drop('%Growth',axis=1)\n",
    "y = df_EA ['%Growth']\n",
    "X = X.fillna(method = 'ffill', axis = 'rows')\n",
    "y = y.fillna(method = 'ffill', axis = 'rows')\n",
    "X = X.fillna(X.mean(numeric_only=True), axis = 'rows')\n",
    "y = y.fillna(y.mean(), axis = 'rows')\n",
    "X = sm.add_constant(X)"
   ]
  },
  {
   "cell_type": "code",
   "execution_count": 231,
   "id": "fd91ca2e-a840-4eac-937a-edc0bd308bf7",
   "metadata": {},
   "outputs": [],
   "source": [
    "X = X.loc[:,['const', 'Gini index', '%Investments', '%Enrollment', '%Trade', 'GDP_C']]"
   ]
  },
  {
   "cell_type": "code",
   "execution_count": 232,
   "id": "a4bab92d-3184-47e7-831c-76b9390447f8",
   "metadata": {},
   "outputs": [],
   "source": [
    "X_train, X_test, y_train, y_test = train_test_split(X, y, train_size=0.7, random_state=42)"
   ]
  },
  {
   "cell_type": "code",
   "execution_count": 233,
   "id": "52c9e3f2-bf68-4a21-b732-9edc87ccd088",
   "metadata": {},
   "outputs": [
    {
     "data": {
      "text/plain": [
       "19.885842766068237"
      ]
     },
     "execution_count": 233,
     "metadata": {},
     "output_type": "execute_result"
    }
   ],
   "source": [
    "regression_model = LinearRegression()\n",
    "mse_scorer = make_scorer(mean_squared_error)\n",
    "mse_scores = cross_val_score(regression_model, X_train, y_train, scoring=mse_scorer, cv=5)\n",
    "mean_mse = np.mean(mse_scores)\n",
    "mean_mse"
   ]
  },
  {
   "cell_type": "markdown",
   "id": "3f60e79a-c7e4-499f-b374-f60609646e79",
   "metadata": {},
   "source": [
    "### Regression 6 Vo et al (2019)"
   ]
  },
  {
   "cell_type": "code",
   "execution_count": 234,
   "id": "d6c18580-200d-4d5b-ae39-547686b57e12",
   "metadata": {},
   "outputs": [],
   "source": [
    "X = df_EA .drop('%Growth',axis=1)\n",
    "y = df_EA ['%Growth']\n",
    "X = X.fillna(method = 'ffill', axis = 'rows')\n",
    "y = y.fillna(method = 'ffill', axis = 'rows')\n",
    "X = X.fillna(X.mean(numeric_only=True), axis = 'rows')\n",
    "y = y.fillna(y.mean(), axis = 'rows')\n",
    "X = sm.add_constant(X)"
   ]
  },
  {
   "cell_type": "code",
   "execution_count": 235,
   "id": "47ae09aa-8885-43ab-99c1-c8aa5858ed02",
   "metadata": {},
   "outputs": [],
   "source": [
    "X = X.loc[:,['const', 'Gini index', '%Agriculture', '%Industry', '%Service', '%Investments']]"
   ]
  },
  {
   "cell_type": "code",
   "execution_count": 236,
   "id": "e870003a-925c-42f5-8a09-09587d97eb99",
   "metadata": {},
   "outputs": [],
   "source": [
    "X_train, X_test, y_train, y_test = train_test_split(X, y, train_size=0.7, random_state=42)"
   ]
  },
  {
   "cell_type": "code",
   "execution_count": 237,
   "id": "ef723e14-f5a0-4255-8880-01f49ec9c287",
   "metadata": {},
   "outputs": [
    {
     "data": {
      "text/plain": [
       "18.76765815136842"
      ]
     },
     "execution_count": 237,
     "metadata": {},
     "output_type": "execute_result"
    }
   ],
   "source": [
    "regression_model = LinearRegression()\n",
    "mse_scorer = make_scorer(mean_squared_error)\n",
    "mse_scores = cross_val_score(regression_model, X_train, y_train, scoring=mse_scorer, cv=5)\n",
    "mean_mse = np.mean(mse_scores)\n",
    "mean_mse"
   ]
  },
  {
   "cell_type": "code",
   "execution_count": 238,
   "id": "68a57118-8b82-4054-8a1f-82a21bce9e11",
   "metadata": {},
   "outputs": [
    {
     "data": {
      "text/html": [
       "<table class=\"simpletable\">\n",
       "<caption>OLS Regression Results</caption>\n",
       "<tr>\n",
       "  <th>Dep. Variable:</th>         <td>%Growth</td>     <th>  R-squared:         </th> <td>   0.093</td>\n",
       "</tr>\n",
       "<tr>\n",
       "  <th>Model:</th>                   <td>OLS</td>       <th>  Adj. R-squared:    </th> <td>   0.078</td>\n",
       "</tr>\n",
       "<tr>\n",
       "  <th>Method:</th>             <td>Least Squares</td>  <th>  F-statistic:       </th> <td>   6.105</td>\n",
       "</tr>\n",
       "<tr>\n",
       "  <th>Date:</th>             <td>Fri, 23 Jun 2023</td> <th>  Prob (F-statistic):</th> <td>2.12e-05</td>\n",
       "</tr>\n",
       "<tr>\n",
       "  <th>Time:</th>                 <td>09:06:29</td>     <th>  Log-Likelihood:    </th> <td> -867.05</td>\n",
       "</tr>\n",
       "<tr>\n",
       "  <th>No. Observations:</th>      <td>   302</td>      <th>  AIC:               </th> <td>   1746.</td>\n",
       "</tr>\n",
       "<tr>\n",
       "  <th>Df Residuals:</th>          <td>   296</td>      <th>  BIC:               </th> <td>   1768.</td>\n",
       "</tr>\n",
       "<tr>\n",
       "  <th>Df Model:</th>              <td>     5</td>      <th>                     </th>     <td> </td>   \n",
       "</tr>\n",
       "<tr>\n",
       "  <th>Covariance Type:</th>      <td>nonrobust</td>    <th>                     </th>     <td> </td>   \n",
       "</tr>\n",
       "</table>\n",
       "<table class=\"simpletable\">\n",
       "<tr>\n",
       "        <td></td>          <th>coef</th>     <th>std err</th>      <th>t</th>      <th>P>|t|</th>  <th>[0.025</th>    <th>0.975]</th>  \n",
       "</tr>\n",
       "<tr>\n",
       "  <th>const</th>        <td> 1.055e+04</td> <td> 5204.195</td> <td>    2.027</td> <td> 0.044</td> <td>  304.498</td> <td> 2.08e+04</td>\n",
       "</tr>\n",
       "<tr>\n",
       "  <th>Gini index</th>   <td>    0.1533</td> <td>    0.063</td> <td>    2.442</td> <td> 0.015</td> <td>    0.030</td> <td>    0.277</td>\n",
       "</tr>\n",
       "<tr>\n",
       "  <th>%Agriculture</th> <td> -105.4530</td> <td>   52.038</td> <td>   -2.026</td> <td> 0.044</td> <td> -207.865</td> <td>   -3.041</td>\n",
       "</tr>\n",
       "<tr>\n",
       "  <th>%Industry</th>    <td> -105.4562</td> <td>   52.034</td> <td>   -2.027</td> <td> 0.044</td> <td> -207.860</td> <td>   -3.053</td>\n",
       "</tr>\n",
       "<tr>\n",
       "  <th>%Service</th>     <td> -105.5169</td> <td>   52.041</td> <td>   -2.028</td> <td> 0.043</td> <td> -207.934</td> <td>   -3.100</td>\n",
       "</tr>\n",
       "<tr>\n",
       "  <th>%Investments</th> <td>    0.0897</td> <td>    0.033</td> <td>    2.728</td> <td> 0.007</td> <td>    0.025</td> <td>    0.154</td>\n",
       "</tr>\n",
       "</table>\n",
       "<table class=\"simpletable\">\n",
       "<tr>\n",
       "  <th>Omnibus:</th>       <td>239.823</td> <th>  Durbin-Watson:     </th> <td>   2.051</td>\n",
       "</tr>\n",
       "<tr>\n",
       "  <th>Prob(Omnibus):</th> <td> 0.000</td>  <th>  Jarque-Bera (JB):  </th> <td>5221.308</td>\n",
       "</tr>\n",
       "<tr>\n",
       "  <th>Skew:</th>          <td>-3.034</td>  <th>  Prob(JB):          </th> <td>    0.00</td>\n",
       "</tr>\n",
       "<tr>\n",
       "  <th>Kurtosis:</th>      <td>22.445</td>  <th>  Cond. No.          </th> <td>1.51e+06</td>\n",
       "</tr>\n",
       "</table><br/><br/>Notes:<br/>[1] Standard Errors assume that the covariance matrix of the errors is correctly specified.<br/>[2] The condition number is large, 1.51e+06. This might indicate that there are<br/>strong multicollinearity or other numerical problems."
      ],
      "text/plain": [
       "<class 'statsmodels.iolib.summary.Summary'>\n",
       "\"\"\"\n",
       "                            OLS Regression Results                            \n",
       "==============================================================================\n",
       "Dep. Variable:                %Growth   R-squared:                       0.093\n",
       "Model:                            OLS   Adj. R-squared:                  0.078\n",
       "Method:                 Least Squares   F-statistic:                     6.105\n",
       "Date:                Fri, 23 Jun 2023   Prob (F-statistic):           2.12e-05\n",
       "Time:                        09:06:29   Log-Likelihood:                -867.05\n",
       "No. Observations:                 302   AIC:                             1746.\n",
       "Df Residuals:                     296   BIC:                             1768.\n",
       "Df Model:                           5                                         \n",
       "Covariance Type:            nonrobust                                         \n",
       "================================================================================\n",
       "                   coef    std err          t      P>|t|      [0.025      0.975]\n",
       "--------------------------------------------------------------------------------\n",
       "const         1.055e+04   5204.195      2.027      0.044     304.498    2.08e+04\n",
       "Gini index       0.1533      0.063      2.442      0.015       0.030       0.277\n",
       "%Agriculture  -105.4530     52.038     -2.026      0.044    -207.865      -3.041\n",
       "%Industry     -105.4562     52.034     -2.027      0.044    -207.860      -3.053\n",
       "%Service      -105.5169     52.041     -2.028      0.043    -207.934      -3.100\n",
       "%Investments     0.0897      0.033      2.728      0.007       0.025       0.154\n",
       "==============================================================================\n",
       "Omnibus:                      239.823   Durbin-Watson:                   2.051\n",
       "Prob(Omnibus):                  0.000   Jarque-Bera (JB):             5221.308\n",
       "Skew:                          -3.034   Prob(JB):                         0.00\n",
       "Kurtosis:                      22.445   Cond. No.                     1.51e+06\n",
       "==============================================================================\n",
       "\n",
       "Notes:\n",
       "[1] Standard Errors assume that the covariance matrix of the errors is correctly specified.\n",
       "[2] The condition number is large, 1.51e+06. This might indicate that there are\n",
       "strong multicollinearity or other numerical problems.\n",
       "\"\"\""
      ]
     },
     "execution_count": 238,
     "metadata": {},
     "output_type": "execute_result"
    }
   ],
   "source": [
    "model6 = sm.OLS(y_train,X_train.loc[:,['const', 'Gini index', '%Agriculture', '%Industry', '%Service', '%Investments']])\n",
    "results6 = model6.fit()\n",
    "results6.summary()"
   ]
  },
  {
   "cell_type": "code",
   "execution_count": 239,
   "id": "1217fadc-2551-41aa-8689-0312d156d76a",
   "metadata": {},
   "outputs": [],
   "source": [
    "y_train_pred = results6.predict(X_train.loc[:,['const', 'Gini index', '%Agriculture', '%Industry', '%Service', '%Investments']])\n",
    "y_test_pred = results6.predict(X_test.loc[:,['const', 'Gini index', '%Agriculture', '%Industry', '%Service', '%Investments']])"
   ]
  },
  {
   "cell_type": "code",
   "execution_count": 240,
   "id": "822c1087-657d-4830-83aa-f8924e3a01db",
   "metadata": {},
   "outputs": [
    {
     "name": "stdout",
     "output_type": "stream",
     "text": [
      "MSE on train data: 18.250262913951303\n"
     ]
    }
   ],
   "source": [
    "print('MSE on train data:',mean_squared_error(y_train, y_train_pred))"
   ]
  },
  {
   "cell_type": "code",
   "execution_count": 241,
   "id": "4c551e58-9252-4bcb-b56e-7920f16042a5",
   "metadata": {},
   "outputs": [
    {
     "name": "stdout",
     "output_type": "stream",
     "text": [
      "MSE on test data: 42.189869296497754\n"
     ]
    }
   ],
   "source": [
    "print('MSE on test data:',mean_squared_error(y_test, y_test_pred))"
   ]
  },
  {
   "cell_type": "markdown",
   "id": "215dcf66-24ca-43c5-938e-399d252a1a33",
   "metadata": {},
   "source": [
    "### Regression 7 Knowles(2001)"
   ]
  },
  {
   "cell_type": "code",
   "execution_count": 242,
   "id": "28778da9-4293-4d44-b69b-4ff032dba153",
   "metadata": {},
   "outputs": [],
   "source": [
    "X = df_EA .drop('%Growth',axis=1)\n",
    "y = df_EA ['%Growth']\n",
    "X = X.fillna(method = 'ffill', axis = 'rows')\n",
    "y = y.fillna(method = 'ffill', axis = 'rows')\n",
    "X = X.fillna(X.mean(numeric_only=True), axis = 'rows')\n",
    "y = y.fillna(y.mean(), axis = 'rows')\n",
    "X = sm.add_constant(X)"
   ]
  },
  {
   "cell_type": "code",
   "execution_count": 243,
   "id": "c20ff54d-2aeb-4ecb-9ea3-75f81e03097d",
   "metadata": {},
   "outputs": [],
   "source": [
    "X = X.loc[:,['const', 'Gini index', 'GDP_C', '%Completion_F', '%Completion_M', '%Investments']]"
   ]
  },
  {
   "cell_type": "code",
   "execution_count": 244,
   "id": "8590ac1d-2e90-41a0-b766-66b58dd87b7f",
   "metadata": {},
   "outputs": [],
   "source": [
    "X_train, X_test, y_train, y_test = train_test_split(X, y, train_size=0.7, random_state=42)"
   ]
  },
  {
   "cell_type": "code",
   "execution_count": 245,
   "id": "d2ed43a9-97de-4ffb-abdc-34f4fbe77d53",
   "metadata": {},
   "outputs": [
    {
     "data": {
      "text/plain": [
       "20.042513253080536"
      ]
     },
     "execution_count": 245,
     "metadata": {},
     "output_type": "execute_result"
    }
   ],
   "source": [
    "regression_model = LinearRegression()\n",
    "mse_scorer = make_scorer(mean_squared_error)\n",
    "mse_scores = cross_val_score(regression_model, X_train, y_train, scoring=mse_scorer, cv=5)\n",
    "mean_mse = np.mean(mse_scores)\n",
    "mean_mse"
   ]
  },
  {
   "cell_type": "markdown",
   "id": "6ac439e6-32d0-459b-8e3b-96c622d29950",
   "metadata": {},
   "source": [
    "### Regression 8 Lee and Son(2016)"
   ]
  },
  {
   "cell_type": "code",
   "execution_count": 246,
   "id": "7ce2bdda-8431-48c6-9bac-80c930eff676",
   "metadata": {},
   "outputs": [],
   "source": [
    "X = df_EA .drop('%Growth',axis=1)\n",
    "y = df_EA ['%Growth']\n",
    "X = X.fillna(method = 'ffill', axis = 'rows')\n",
    "y = y.fillna(method = 'ffill', axis = 'rows')\n",
    "X = X.fillna(X.mean(numeric_only=True), axis = 'rows')\n",
    "y = y.fillna(y.mean(), axis = 'rows')\n",
    "X = sm.add_constant(X)"
   ]
  },
  {
   "cell_type": "code",
   "execution_count": 247,
   "id": "b9cdd812-acb5-4473-bfcb-3fe9d79f2665",
   "metadata": {},
   "outputs": [],
   "source": [
    "X = X.loc[:,['const', 'Gini index', 'Expected years of schooling', '%Investments', '%Trade', '%Expenditures', 'GDP_C']]"
   ]
  },
  {
   "cell_type": "code",
   "execution_count": 248,
   "id": "4a82c7e3-56bb-4000-91e0-67435c873336",
   "metadata": {},
   "outputs": [],
   "source": [
    "X_train, X_test, y_train, y_test = train_test_split(X, y, train_size=0.7, random_state=42)"
   ]
  },
  {
   "cell_type": "code",
   "execution_count": 249,
   "id": "b35a2b74-e582-43d2-99eb-36cc13e951e3",
   "metadata": {},
   "outputs": [
    {
     "data": {
      "text/plain": [
       "19.57564574934518"
      ]
     },
     "execution_count": 249,
     "metadata": {},
     "output_type": "execute_result"
    }
   ],
   "source": [
    "regression_model = LinearRegression()\n",
    "mse_scorer = make_scorer(mean_squared_error)\n",
    "mse_scores = cross_val_score(regression_model, X_train, y_train, scoring=mse_scorer, cv=5)\n",
    "mean_mse = np.mean(mse_scores)\n",
    "mean_mse"
   ]
  },
  {
   "cell_type": "code",
   "execution_count": 250,
   "id": "5f075f04-e4c9-4f31-8c2d-35dcab45076f",
   "metadata": {},
   "outputs": [
    {
     "data": {
      "text/html": [
       "<table class=\"simpletable\">\n",
       "<caption>OLS Regression Results</caption>\n",
       "<tr>\n",
       "  <th>Dep. Variable:</th>         <td>%Growth</td>     <th>  R-squared:         </th> <td>   0.060</td>\n",
       "</tr>\n",
       "<tr>\n",
       "  <th>Model:</th>                   <td>OLS</td>       <th>  Adj. R-squared:    </th> <td>   0.040</td>\n",
       "</tr>\n",
       "<tr>\n",
       "  <th>Method:</th>             <td>Least Squares</td>  <th>  F-statistic:       </th> <td>   3.113</td>\n",
       "</tr>\n",
       "<tr>\n",
       "  <th>Date:</th>             <td>Fri, 23 Jun 2023</td> <th>  Prob (F-statistic):</th>  <td>0.00567</td>\n",
       "</tr>\n",
       "<tr>\n",
       "  <th>Time:</th>                 <td>09:06:30</td>     <th>  Log-Likelihood:    </th> <td> -872.60</td>\n",
       "</tr>\n",
       "<tr>\n",
       "  <th>No. Observations:</th>      <td>   302</td>      <th>  AIC:               </th> <td>   1759.</td>\n",
       "</tr>\n",
       "<tr>\n",
       "  <th>Df Residuals:</th>          <td>   295</td>      <th>  BIC:               </th> <td>   1785.</td>\n",
       "</tr>\n",
       "<tr>\n",
       "  <th>Df Model:</th>              <td>     6</td>      <th>                     </th>     <td> </td>   \n",
       "</tr>\n",
       "<tr>\n",
       "  <th>Covariance Type:</th>      <td>nonrobust</td>    <th>                     </th>     <td> </td>   \n",
       "</tr>\n",
       "</table>\n",
       "<table class=\"simpletable\">\n",
       "<tr>\n",
       "               <td></td>                  <th>coef</th>     <th>std err</th>      <th>t</th>      <th>P>|t|</th>  <th>[0.025</th>    <th>0.975]</th>  \n",
       "</tr>\n",
       "<tr>\n",
       "  <th>const</th>                       <td>   -0.6747</td> <td>    2.962</td> <td>   -0.228</td> <td> 0.820</td> <td>   -6.504</td> <td>    5.155</td>\n",
       "</tr>\n",
       "<tr>\n",
       "  <th>Gini index</th>                  <td>    0.1186</td> <td>    0.066</td> <td>    1.806</td> <td> 0.072</td> <td>   -0.011</td> <td>    0.248</td>\n",
       "</tr>\n",
       "<tr>\n",
       "  <th>Expected years of schooling</th> <td>    0.0755</td> <td>    0.109</td> <td>    0.693</td> <td> 0.489</td> <td>   -0.139</td> <td>    0.290</td>\n",
       "</tr>\n",
       "<tr>\n",
       "  <th>%Investments</th>                <td>    0.0466</td> <td>    0.046</td> <td>    1.003</td> <td> 0.317</td> <td>   -0.045</td> <td>    0.138</td>\n",
       "</tr>\n",
       "<tr>\n",
       "  <th>%Trade</th>                      <td>    0.0027</td> <td>    0.005</td> <td>    0.537</td> <td> 0.592</td> <td>   -0.007</td> <td>    0.013</td>\n",
       "</tr>\n",
       "<tr>\n",
       "  <th>%Expenditures</th>               <td>   -0.2030</td> <td>    0.079</td> <td>   -2.571</td> <td> 0.011</td> <td>   -0.358</td> <td>   -0.048</td>\n",
       "</tr>\n",
       "<tr>\n",
       "  <th>GDP_C</th>                       <td>-5.109e-05</td> <td> 1.98e-05</td> <td>   -2.582</td> <td> 0.010</td> <td>   -9e-05</td> <td>-1.22e-05</td>\n",
       "</tr>\n",
       "</table>\n",
       "<table class=\"simpletable\">\n",
       "<tr>\n",
       "  <th>Omnibus:</th>       <td>243.297</td> <th>  Durbin-Watson:     </th> <td>   2.022</td>\n",
       "</tr>\n",
       "<tr>\n",
       "  <th>Prob(Omnibus):</th> <td> 0.000</td>  <th>  Jarque-Bera (JB):  </th> <td>5653.716</td>\n",
       "</tr>\n",
       "<tr>\n",
       "  <th>Skew:</th>          <td>-3.073</td>  <th>  Prob(JB):          </th> <td>    0.00</td>\n",
       "</tr>\n",
       "<tr>\n",
       "  <th>Kurtosis:</th>      <td>23.286</td>  <th>  Cond. No.          </th> <td>2.29e+05</td>\n",
       "</tr>\n",
       "</table><br/><br/>Notes:<br/>[1] Standard Errors assume that the covariance matrix of the errors is correctly specified.<br/>[2] The condition number is large, 2.29e+05. This might indicate that there are<br/>strong multicollinearity or other numerical problems."
      ],
      "text/plain": [
       "<class 'statsmodels.iolib.summary.Summary'>\n",
       "\"\"\"\n",
       "                            OLS Regression Results                            \n",
       "==============================================================================\n",
       "Dep. Variable:                %Growth   R-squared:                       0.060\n",
       "Model:                            OLS   Adj. R-squared:                  0.040\n",
       "Method:                 Least Squares   F-statistic:                     3.113\n",
       "Date:                Fri, 23 Jun 2023   Prob (F-statistic):            0.00567\n",
       "Time:                        09:06:30   Log-Likelihood:                -872.60\n",
       "No. Observations:                 302   AIC:                             1759.\n",
       "Df Residuals:                     295   BIC:                             1785.\n",
       "Df Model:                           6                                         \n",
       "Covariance Type:            nonrobust                                         \n",
       "===============================================================================================\n",
       "                                  coef    std err          t      P>|t|      [0.025      0.975]\n",
       "-----------------------------------------------------------------------------------------------\n",
       "const                          -0.6747      2.962     -0.228      0.820      -6.504       5.155\n",
       "Gini index                      0.1186      0.066      1.806      0.072      -0.011       0.248\n",
       "Expected years of schooling     0.0755      0.109      0.693      0.489      -0.139       0.290\n",
       "%Investments                    0.0466      0.046      1.003      0.317      -0.045       0.138\n",
       "%Trade                          0.0027      0.005      0.537      0.592      -0.007       0.013\n",
       "%Expenditures                  -0.2030      0.079     -2.571      0.011      -0.358      -0.048\n",
       "GDP_C                       -5.109e-05   1.98e-05     -2.582      0.010      -9e-05   -1.22e-05\n",
       "==============================================================================\n",
       "Omnibus:                      243.297   Durbin-Watson:                   2.022\n",
       "Prob(Omnibus):                  0.000   Jarque-Bera (JB):             5653.716\n",
       "Skew:                          -3.073   Prob(JB):                         0.00\n",
       "Kurtosis:                      23.286   Cond. No.                     2.29e+05\n",
       "==============================================================================\n",
       "\n",
       "Notes:\n",
       "[1] Standard Errors assume that the covariance matrix of the errors is correctly specified.\n",
       "[2] The condition number is large, 2.29e+05. This might indicate that there are\n",
       "strong multicollinearity or other numerical problems.\n",
       "\"\"\""
      ]
     },
     "execution_count": 250,
     "metadata": {},
     "output_type": "execute_result"
    }
   ],
   "source": [
    "model8 = sm.OLS(y_train,X_train.loc[:,['const', 'Gini index', 'Expected years of schooling', '%Investments', '%Trade', '%Expenditures', 'GDP_C']])\n",
    "results8 = model8.fit()\n",
    "results8.summary()"
   ]
  },
  {
   "cell_type": "code",
   "execution_count": 251,
   "id": "6bef868c-04c2-4c19-8d87-3f8bffefbf9b",
   "metadata": {},
   "outputs": [],
   "source": [
    "y_train_pred = results8.predict(X_train.loc[:,['const', 'Gini index', 'Expected years of schooling', '%Investments', '%Trade', '%Expenditures', 'GDP_C']])\n",
    "y_test_pred = results8.predict(X_test.loc[:,['const', 'Gini index', 'Expected years of schooling', '%Investments', '%Trade', '%Expenditures', 'GDP_C']])"
   ]
  },
  {
   "cell_type": "code",
   "execution_count": 252,
   "id": "8b53bb87-f0fd-445f-bf8a-6ff2d2d8c5fb",
   "metadata": {},
   "outputs": [
    {
     "name": "stdout",
     "output_type": "stream",
     "text": [
      "MSE on train data: 18.933499568556552\n"
     ]
    }
   ],
   "source": [
    "print('MSE on train data:',mean_squared_error(y_train, y_train_pred))"
   ]
  },
  {
   "cell_type": "code",
   "execution_count": 253,
   "id": "001c7cd4-7b46-4111-b8bb-baaa17cd6a14",
   "metadata": {},
   "outputs": [
    {
     "name": "stdout",
     "output_type": "stream",
     "text": [
      "MSE on test data: 42.910919088930676\n"
     ]
    }
   ],
   "source": [
    "print('MSE on test data:',mean_squared_error(y_test, y_test_pred))"
   ]
  }
 ],
 "metadata": {
  "kernelspec": {
   "display_name": "Python 3 (ipykernel)",
   "language": "python",
   "name": "python3"
  },
  "language_info": {
   "codemirror_mode": {
    "name": "ipython",
    "version": 3
   },
   "file_extension": ".py",
   "mimetype": "text/x-python",
   "name": "python",
   "nbconvert_exporter": "python",
   "pygments_lexer": "ipython3",
   "version": "3.9.7"
  }
 },
 "nbformat": 4,
 "nbformat_minor": 5
}
